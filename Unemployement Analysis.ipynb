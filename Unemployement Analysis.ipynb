{
 "cells": [
  {
   "cell_type": "markdown",
   "id": "ca2b765d",
   "metadata": {},
   "source": [
    "# Unemployment Analysis "
   ]
  },
  {
   "cell_type": "code",
   "execution_count": 1,
   "id": "99083299",
   "metadata": {},
   "outputs": [],
   "source": [
    "#importing libraries\n",
    "import numpy as np\n",
    "import pandas as pd\n",
    "import matplotlib.pyplot as plt\n",
    "import seaborn as sns\n",
    "import datetime as dt\n",
    "import calendar\n",
    "\n",
    "import warnings\n",
    "warnings.filterwarnings(\"ignore\")\n",
    "%matplotlib inline"
   ]
  },
  {
   "cell_type": "markdown",
   "id": "ac61f61f",
   "metadata": {},
   "source": [
    "**Importing Data**"
   ]
  },
  {
   "cell_type": "code",
   "execution_count": 2,
   "id": "06823093",
   "metadata": {},
   "outputs": [
    {
     "data": {
      "text/html": [
       "<div>\n",
       "<style scoped>\n",
       "    .dataframe tbody tr th:only-of-type {\n",
       "        vertical-align: middle;\n",
       "    }\n",
       "\n",
       "    .dataframe tbody tr th {\n",
       "        vertical-align: top;\n",
       "    }\n",
       "\n",
       "    .dataframe thead th {\n",
       "        text-align: right;\n",
       "    }\n",
       "</style>\n",
       "<table border=\"1\" class=\"dataframe\">\n",
       "  <thead>\n",
       "    <tr style=\"text-align: right;\">\n",
       "      <th></th>\n",
       "      <th>Region</th>\n",
       "      <th>Date</th>\n",
       "      <th>Frequency</th>\n",
       "      <th>Estimated Unemployment Rate (%)</th>\n",
       "      <th>Estimated Employed</th>\n",
       "      <th>Estimated Labour Participation Rate (%)</th>\n",
       "      <th>Area</th>\n",
       "    </tr>\n",
       "  </thead>\n",
       "  <tbody>\n",
       "    <tr>\n",
       "      <th>0</th>\n",
       "      <td>Andhra Pradesh</td>\n",
       "      <td>31-05-2019</td>\n",
       "      <td>Monthly</td>\n",
       "      <td>3.65</td>\n",
       "      <td>11999139.0</td>\n",
       "      <td>43.24</td>\n",
       "      <td>Rural</td>\n",
       "    </tr>\n",
       "    <tr>\n",
       "      <th>1</th>\n",
       "      <td>Andhra Pradesh</td>\n",
       "      <td>30-06-2019</td>\n",
       "      <td>Monthly</td>\n",
       "      <td>3.05</td>\n",
       "      <td>11755881.0</td>\n",
       "      <td>42.05</td>\n",
       "      <td>Rural</td>\n",
       "    </tr>\n",
       "    <tr>\n",
       "      <th>2</th>\n",
       "      <td>Andhra Pradesh</td>\n",
       "      <td>31-07-2019</td>\n",
       "      <td>Monthly</td>\n",
       "      <td>3.75</td>\n",
       "      <td>12086707.0</td>\n",
       "      <td>43.50</td>\n",
       "      <td>Rural</td>\n",
       "    </tr>\n",
       "    <tr>\n",
       "      <th>3</th>\n",
       "      <td>Andhra Pradesh</td>\n",
       "      <td>31-08-2019</td>\n",
       "      <td>Monthly</td>\n",
       "      <td>3.32</td>\n",
       "      <td>12285693.0</td>\n",
       "      <td>43.97</td>\n",
       "      <td>Rural</td>\n",
       "    </tr>\n",
       "    <tr>\n",
       "      <th>4</th>\n",
       "      <td>Andhra Pradesh</td>\n",
       "      <td>30-09-2019</td>\n",
       "      <td>Monthly</td>\n",
       "      <td>5.17</td>\n",
       "      <td>12256762.0</td>\n",
       "      <td>44.68</td>\n",
       "      <td>Rural</td>\n",
       "    </tr>\n",
       "  </tbody>\n",
       "</table>\n",
       "</div>"
      ],
      "text/plain": [
       "           Region         Date  Frequency   Estimated Unemployment Rate (%)  \\\n",
       "0  Andhra Pradesh   31-05-2019    Monthly                              3.65   \n",
       "1  Andhra Pradesh   30-06-2019    Monthly                              3.05   \n",
       "2  Andhra Pradesh   31-07-2019    Monthly                              3.75   \n",
       "3  Andhra Pradesh   31-08-2019    Monthly                              3.32   \n",
       "4  Andhra Pradesh   30-09-2019    Monthly                              5.17   \n",
       "\n",
       "    Estimated Employed   Estimated Labour Participation Rate (%)   Area  \n",
       "0           11999139.0                                     43.24  Rural  \n",
       "1           11755881.0                                     42.05  Rural  \n",
       "2           12086707.0                                     43.50  Rural  \n",
       "3           12285693.0                                     43.97  Rural  \n",
       "4           12256762.0                                     44.68  Rural  "
      ]
     },
     "execution_count": 2,
     "metadata": {},
     "output_type": "execute_result"
    }
   ],
   "source": [
    "df=pd.read_csv('Unemployement.csv')\n",
    "df.head()"
   ]
  },
  {
   "cell_type": "markdown",
   "id": "9b213970",
   "metadata": {},
   "source": [
    "# Getting some basic information"
   ]
  },
  {
   "cell_type": "code",
   "execution_count": 3,
   "id": "866ea905",
   "metadata": {},
   "outputs": [
    {
     "name": "stdout",
     "output_type": "stream",
     "text": [
      "<class 'pandas.core.frame.DataFrame'>\n",
      "RangeIndex: 768 entries, 0 to 767\n",
      "Data columns (total 7 columns):\n",
      " #   Column                                    Non-Null Count  Dtype  \n",
      "---  ------                                    --------------  -----  \n",
      " 0   Region                                    740 non-null    object \n",
      " 1    Date                                     740 non-null    object \n",
      " 2    Frequency                                740 non-null    object \n",
      " 3    Estimated Unemployment Rate (%)          740 non-null    float64\n",
      " 4    Estimated Employed                       740 non-null    float64\n",
      " 5    Estimated Labour Participation Rate (%)  740 non-null    float64\n",
      " 6   Area                                      740 non-null    object \n",
      "dtypes: float64(3), object(4)\n",
      "memory usage: 42.1+ KB\n"
     ]
    }
   ],
   "source": [
    "df.info()"
   ]
  },
  {
   "cell_type": "code",
   "execution_count": 4,
   "id": "2bdb0ad5",
   "metadata": {},
   "outputs": [
    {
     "data": {
      "text/html": [
       "<div>\n",
       "<style scoped>\n",
       "    .dataframe tbody tr th:only-of-type {\n",
       "        vertical-align: middle;\n",
       "    }\n",
       "\n",
       "    .dataframe tbody tr th {\n",
       "        vertical-align: top;\n",
       "    }\n",
       "\n",
       "    .dataframe thead th {\n",
       "        text-align: right;\n",
       "    }\n",
       "</style>\n",
       "<table border=\"1\" class=\"dataframe\">\n",
       "  <thead>\n",
       "    <tr style=\"text-align: right;\">\n",
       "      <th></th>\n",
       "      <th>Estimated Unemployment Rate (%)</th>\n",
       "      <th>Estimated Employed</th>\n",
       "      <th>Estimated Labour Participation Rate (%)</th>\n",
       "    </tr>\n",
       "  </thead>\n",
       "  <tbody>\n",
       "    <tr>\n",
       "      <th>count</th>\n",
       "      <td>740.000000</td>\n",
       "      <td>7.400000e+02</td>\n",
       "      <td>740.000000</td>\n",
       "    </tr>\n",
       "    <tr>\n",
       "      <th>mean</th>\n",
       "      <td>11.787946</td>\n",
       "      <td>7.204460e+06</td>\n",
       "      <td>42.630122</td>\n",
       "    </tr>\n",
       "    <tr>\n",
       "      <th>std</th>\n",
       "      <td>10.721298</td>\n",
       "      <td>8.087988e+06</td>\n",
       "      <td>8.111094</td>\n",
       "    </tr>\n",
       "    <tr>\n",
       "      <th>min</th>\n",
       "      <td>0.000000</td>\n",
       "      <td>4.942000e+04</td>\n",
       "      <td>13.330000</td>\n",
       "    </tr>\n",
       "    <tr>\n",
       "      <th>25%</th>\n",
       "      <td>4.657500</td>\n",
       "      <td>1.190404e+06</td>\n",
       "      <td>38.062500</td>\n",
       "    </tr>\n",
       "    <tr>\n",
       "      <th>50%</th>\n",
       "      <td>8.350000</td>\n",
       "      <td>4.744178e+06</td>\n",
       "      <td>41.160000</td>\n",
       "    </tr>\n",
       "    <tr>\n",
       "      <th>75%</th>\n",
       "      <td>15.887500</td>\n",
       "      <td>1.127549e+07</td>\n",
       "      <td>45.505000</td>\n",
       "    </tr>\n",
       "    <tr>\n",
       "      <th>max</th>\n",
       "      <td>76.740000</td>\n",
       "      <td>4.577751e+07</td>\n",
       "      <td>72.570000</td>\n",
       "    </tr>\n",
       "  </tbody>\n",
       "</table>\n",
       "</div>"
      ],
      "text/plain": [
       "        Estimated Unemployment Rate (%)   Estimated Employed  \\\n",
       "count                        740.000000         7.400000e+02   \n",
       "mean                          11.787946         7.204460e+06   \n",
       "std                           10.721298         8.087988e+06   \n",
       "min                            0.000000         4.942000e+04   \n",
       "25%                            4.657500         1.190404e+06   \n",
       "50%                            8.350000         4.744178e+06   \n",
       "75%                           15.887500         1.127549e+07   \n",
       "max                           76.740000         4.577751e+07   \n",
       "\n",
       "        Estimated Labour Participation Rate (%)  \n",
       "count                                740.000000  \n",
       "mean                                  42.630122  \n",
       "std                                    8.111094  \n",
       "min                                   13.330000  \n",
       "25%                                   38.062500  \n",
       "50%                                   41.160000  \n",
       "75%                                   45.505000  \n",
       "max                                   72.570000  "
      ]
     },
     "execution_count": 4,
     "metadata": {},
     "output_type": "execute_result"
    }
   ],
   "source": [
    "df.describe()"
   ]
  },
  {
   "cell_type": "code",
   "execution_count": 5,
   "id": "8573eaac",
   "metadata": {},
   "outputs": [
    {
     "data": {
      "text/plain": [
       "Region                                      28\n",
       " Date                                       28\n",
       " Frequency                                  28\n",
       " Estimated Unemployment Rate (%)            28\n",
       " Estimated Employed                         28\n",
       " Estimated Labour Participation Rate (%)    28\n",
       "Area                                        28\n",
       "dtype: int64"
      ]
     },
     "execution_count": 5,
     "metadata": {},
     "output_type": "execute_result"
    }
   ],
   "source": [
    "#checking null values\n",
    "df.isnull().sum()"
   ]
  },
  {
   "cell_type": "code",
   "execution_count": 6,
   "id": "ecd74e8f",
   "metadata": {},
   "outputs": [
    {
     "data": {
      "text/plain": [
       "(768, 7)"
      ]
     },
     "execution_count": 6,
     "metadata": {},
     "output_type": "execute_result"
    }
   ],
   "source": [
    "df.shape"
   ]
  },
  {
   "cell_type": "code",
   "execution_count": 7,
   "id": "e3780255",
   "metadata": {},
   "outputs": [
    {
     "data": {
      "text/html": [
       "<div>\n",
       "<style scoped>\n",
       "    .dataframe tbody tr th:only-of-type {\n",
       "        vertical-align: middle;\n",
       "    }\n",
       "\n",
       "    .dataframe tbody tr th {\n",
       "        vertical-align: top;\n",
       "    }\n",
       "\n",
       "    .dataframe thead th {\n",
       "        text-align: right;\n",
       "    }\n",
       "</style>\n",
       "<table border=\"1\" class=\"dataframe\">\n",
       "  <thead>\n",
       "    <tr style=\"text-align: right;\">\n",
       "      <th></th>\n",
       "      <th>Region</th>\n",
       "      <th>Date</th>\n",
       "      <th>Frequency</th>\n",
       "      <th>Estimated Unemployment Rate (%)</th>\n",
       "      <th>Estimated Employed</th>\n",
       "      <th>Estimated Labour Participation Rate (%)</th>\n",
       "      <th>Area</th>\n",
       "    </tr>\n",
       "  </thead>\n",
       "  <tbody>\n",
       "    <tr>\n",
       "      <th>0</th>\n",
       "      <td>Andhra Pradesh</td>\n",
       "      <td>31-05-2019</td>\n",
       "      <td>Monthly</td>\n",
       "      <td>3.65</td>\n",
       "      <td>11999139.0</td>\n",
       "      <td>43.24</td>\n",
       "      <td>Rural</td>\n",
       "    </tr>\n",
       "    <tr>\n",
       "      <th>1</th>\n",
       "      <td>Andhra Pradesh</td>\n",
       "      <td>30-06-2019</td>\n",
       "      <td>Monthly</td>\n",
       "      <td>3.05</td>\n",
       "      <td>11755881.0</td>\n",
       "      <td>42.05</td>\n",
       "      <td>Rural</td>\n",
       "    </tr>\n",
       "    <tr>\n",
       "      <th>2</th>\n",
       "      <td>Andhra Pradesh</td>\n",
       "      <td>31-07-2019</td>\n",
       "      <td>Monthly</td>\n",
       "      <td>3.75</td>\n",
       "      <td>12086707.0</td>\n",
       "      <td>43.50</td>\n",
       "      <td>Rural</td>\n",
       "    </tr>\n",
       "    <tr>\n",
       "      <th>3</th>\n",
       "      <td>Andhra Pradesh</td>\n",
       "      <td>31-08-2019</td>\n",
       "      <td>Monthly</td>\n",
       "      <td>3.32</td>\n",
       "      <td>12285693.0</td>\n",
       "      <td>43.97</td>\n",
       "      <td>Rural</td>\n",
       "    </tr>\n",
       "    <tr>\n",
       "      <th>4</th>\n",
       "      <td>Andhra Pradesh</td>\n",
       "      <td>30-09-2019</td>\n",
       "      <td>Monthly</td>\n",
       "      <td>5.17</td>\n",
       "      <td>12256762.0</td>\n",
       "      <td>44.68</td>\n",
       "      <td>Rural</td>\n",
       "    </tr>\n",
       "  </tbody>\n",
       "</table>\n",
       "</div>"
      ],
      "text/plain": [
       "           Region         Date  Frequency   Estimated Unemployment Rate (%)  \\\n",
       "0  Andhra Pradesh   31-05-2019    Monthly                              3.65   \n",
       "1  Andhra Pradesh   30-06-2019    Monthly                              3.05   \n",
       "2  Andhra Pradesh   31-07-2019    Monthly                              3.75   \n",
       "3  Andhra Pradesh   31-08-2019    Monthly                              3.32   \n",
       "4  Andhra Pradesh   30-09-2019    Monthly                              5.17   \n",
       "\n",
       "    Estimated Employed   Estimated Labour Participation Rate (%)   Area  \n",
       "0           11999139.0                                     43.24  Rural  \n",
       "1           11755881.0                                     42.05  Rural  \n",
       "2           12086707.0                                     43.50  Rural  \n",
       "3           12285693.0                                     43.97  Rural  \n",
       "4           12256762.0                                     44.68  Rural  "
      ]
     },
     "execution_count": 7,
     "metadata": {},
     "output_type": "execute_result"
    }
   ],
   "source": [
    "#droping null values\n",
    "df.dropna(inplace=True)\n",
    "df.head()"
   ]
  },
  {
   "cell_type": "code",
   "execution_count": 8,
   "id": "31aa2177",
   "metadata": {},
   "outputs": [
    {
     "data": {
      "text/plain": [
       "(740, 7)"
      ]
     },
     "execution_count": 8,
     "metadata": {},
     "output_type": "execute_result"
    }
   ],
   "source": [
    "df.shape"
   ]
  },
  {
   "cell_type": "code",
   "execution_count": 9,
   "id": "b77eaf98",
   "metadata": {},
   "outputs": [
    {
     "data": {
      "text/plain": [
       "Andhra Pradesh      28\n",
       "Kerala              28\n",
       "West Bengal         28\n",
       "Uttar Pradesh       28\n",
       "Tripura             28\n",
       "Telangana           28\n",
       "Tamil Nadu          28\n",
       "Rajasthan           28\n",
       "Punjab              28\n",
       "Odisha              28\n",
       "Madhya Pradesh      28\n",
       "Maharashtra         28\n",
       "Karnataka           28\n",
       "Jharkhand           28\n",
       "Himachal Pradesh    28\n",
       "Haryana             28\n",
       "Gujarat             28\n",
       "Delhi               28\n",
       "Chhattisgarh        28\n",
       "Bihar               28\n",
       "Meghalaya           27\n",
       "Uttarakhand         27\n",
       "Assam               26\n",
       "Puducherry          26\n",
       "Goa                 24\n",
       "Jammu & Kashmir     21\n",
       "Sikkim              17\n",
       "Chandigarh          12\n",
       "Name: Region, dtype: int64"
      ]
     },
     "execution_count": 9,
     "metadata": {},
     "output_type": "execute_result"
    }
   ],
   "source": [
    "df.Region.value_counts()"
   ]
  },
  {
   "cell_type": "markdown",
   "id": "66b8ee2a",
   "metadata": {},
   "source": [
    "**Renaming the columns**"
   ]
  },
  {
   "cell_type": "code",
   "execution_count": 10,
   "id": "e8a1a361",
   "metadata": {},
   "outputs": [],
   "source": [
    "\n",
    "df.columns=['state','date','frequency','estimated unemployment rate','estimated employed','estimated labour participation rate','area']"
   ]
  },
  {
   "cell_type": "code",
   "execution_count": 11,
   "id": "76f960fd",
   "metadata": {},
   "outputs": [
    {
     "data": {
      "text/html": [
       "<div>\n",
       "<style scoped>\n",
       "    .dataframe tbody tr th:only-of-type {\n",
       "        vertical-align: middle;\n",
       "    }\n",
       "\n",
       "    .dataframe tbody tr th {\n",
       "        vertical-align: top;\n",
       "    }\n",
       "\n",
       "    .dataframe thead th {\n",
       "        text-align: right;\n",
       "    }\n",
       "</style>\n",
       "<table border=\"1\" class=\"dataframe\">\n",
       "  <thead>\n",
       "    <tr style=\"text-align: right;\">\n",
       "      <th></th>\n",
       "      <th>state</th>\n",
       "      <th>date</th>\n",
       "      <th>frequency</th>\n",
       "      <th>estimated unemployment rate</th>\n",
       "      <th>estimated employed</th>\n",
       "      <th>estimated labour participation rate</th>\n",
       "      <th>area</th>\n",
       "    </tr>\n",
       "  </thead>\n",
       "  <tbody>\n",
       "    <tr>\n",
       "      <th>0</th>\n",
       "      <td>Andhra Pradesh</td>\n",
       "      <td>31-05-2019</td>\n",
       "      <td>Monthly</td>\n",
       "      <td>3.65</td>\n",
       "      <td>11999139.0</td>\n",
       "      <td>43.24</td>\n",
       "      <td>Rural</td>\n",
       "    </tr>\n",
       "    <tr>\n",
       "      <th>1</th>\n",
       "      <td>Andhra Pradesh</td>\n",
       "      <td>30-06-2019</td>\n",
       "      <td>Monthly</td>\n",
       "      <td>3.05</td>\n",
       "      <td>11755881.0</td>\n",
       "      <td>42.05</td>\n",
       "      <td>Rural</td>\n",
       "    </tr>\n",
       "    <tr>\n",
       "      <th>2</th>\n",
       "      <td>Andhra Pradesh</td>\n",
       "      <td>31-07-2019</td>\n",
       "      <td>Monthly</td>\n",
       "      <td>3.75</td>\n",
       "      <td>12086707.0</td>\n",
       "      <td>43.50</td>\n",
       "      <td>Rural</td>\n",
       "    </tr>\n",
       "    <tr>\n",
       "      <th>3</th>\n",
       "      <td>Andhra Pradesh</td>\n",
       "      <td>31-08-2019</td>\n",
       "      <td>Monthly</td>\n",
       "      <td>3.32</td>\n",
       "      <td>12285693.0</td>\n",
       "      <td>43.97</td>\n",
       "      <td>Rural</td>\n",
       "    </tr>\n",
       "    <tr>\n",
       "      <th>4</th>\n",
       "      <td>Andhra Pradesh</td>\n",
       "      <td>30-09-2019</td>\n",
       "      <td>Monthly</td>\n",
       "      <td>5.17</td>\n",
       "      <td>12256762.0</td>\n",
       "      <td>44.68</td>\n",
       "      <td>Rural</td>\n",
       "    </tr>\n",
       "  </tbody>\n",
       "</table>\n",
       "</div>"
      ],
      "text/plain": [
       "            state         date frequency  estimated unemployment rate  \\\n",
       "0  Andhra Pradesh   31-05-2019   Monthly                         3.65   \n",
       "1  Andhra Pradesh   30-06-2019   Monthly                         3.05   \n",
       "2  Andhra Pradesh   31-07-2019   Monthly                         3.75   \n",
       "3  Andhra Pradesh   31-08-2019   Monthly                         3.32   \n",
       "4  Andhra Pradesh   30-09-2019   Monthly                         5.17   \n",
       "\n",
       "   estimated employed  estimated labour participation rate   area  \n",
       "0          11999139.0                                43.24  Rural  \n",
       "1          11755881.0                                42.05  Rural  \n",
       "2          12086707.0                                43.50  Rural  \n",
       "3          12285693.0                                43.97  Rural  \n",
       "4          12256762.0                                44.68  Rural  "
      ]
     },
     "execution_count": 11,
     "metadata": {},
     "output_type": "execute_result"
    }
   ],
   "source": [
    "df.head()"
   ]
  },
  {
   "cell_type": "markdown",
   "id": "ca5ced74",
   "metadata": {},
   "source": [
    "**Changing the data type of date attribute**"
   ]
  },
  {
   "cell_type": "code",
   "execution_count": 12,
   "id": "671bb72b",
   "metadata": {},
   "outputs": [],
   "source": [
    "df['date']=pd.to_datetime(df['date'],dayfirst=True)"
   ]
  },
  {
   "cell_type": "markdown",
   "id": "06ac71c2",
   "metadata": {},
   "source": [
    "**Extracting month from the date attribute**"
   ]
  },
  {
   "cell_type": "code",
   "execution_count": 13,
   "id": "8231bc14",
   "metadata": {},
   "outputs": [
    {
     "data": {
      "text/html": [
       "<div>\n",
       "<style scoped>\n",
       "    .dataframe tbody tr th:only-of-type {\n",
       "        vertical-align: middle;\n",
       "    }\n",
       "\n",
       "    .dataframe tbody tr th {\n",
       "        vertical-align: top;\n",
       "    }\n",
       "\n",
       "    .dataframe thead th {\n",
       "        text-align: right;\n",
       "    }\n",
       "</style>\n",
       "<table border=\"1\" class=\"dataframe\">\n",
       "  <thead>\n",
       "    <tr style=\"text-align: right;\">\n",
       "      <th></th>\n",
       "      <th>state</th>\n",
       "      <th>date</th>\n",
       "      <th>frequency</th>\n",
       "      <th>estimated unemployment rate</th>\n",
       "      <th>estimated employed</th>\n",
       "      <th>estimated labour participation rate</th>\n",
       "      <th>area</th>\n",
       "      <th>month_int</th>\n",
       "    </tr>\n",
       "  </thead>\n",
       "  <tbody>\n",
       "    <tr>\n",
       "      <th>0</th>\n",
       "      <td>Andhra Pradesh</td>\n",
       "      <td>2019-05-31</td>\n",
       "      <td>Monthly</td>\n",
       "      <td>3.65</td>\n",
       "      <td>11999139.0</td>\n",
       "      <td>43.24</td>\n",
       "      <td>Rural</td>\n",
       "      <td>5</td>\n",
       "    </tr>\n",
       "    <tr>\n",
       "      <th>1</th>\n",
       "      <td>Andhra Pradesh</td>\n",
       "      <td>2019-06-30</td>\n",
       "      <td>Monthly</td>\n",
       "      <td>3.05</td>\n",
       "      <td>11755881.0</td>\n",
       "      <td>42.05</td>\n",
       "      <td>Rural</td>\n",
       "      <td>6</td>\n",
       "    </tr>\n",
       "    <tr>\n",
       "      <th>2</th>\n",
       "      <td>Andhra Pradesh</td>\n",
       "      <td>2019-07-31</td>\n",
       "      <td>Monthly</td>\n",
       "      <td>3.75</td>\n",
       "      <td>12086707.0</td>\n",
       "      <td>43.50</td>\n",
       "      <td>Rural</td>\n",
       "      <td>7</td>\n",
       "    </tr>\n",
       "    <tr>\n",
       "      <th>3</th>\n",
       "      <td>Andhra Pradesh</td>\n",
       "      <td>2019-08-31</td>\n",
       "      <td>Monthly</td>\n",
       "      <td>3.32</td>\n",
       "      <td>12285693.0</td>\n",
       "      <td>43.97</td>\n",
       "      <td>Rural</td>\n",
       "      <td>8</td>\n",
       "    </tr>\n",
       "    <tr>\n",
       "      <th>4</th>\n",
       "      <td>Andhra Pradesh</td>\n",
       "      <td>2019-09-30</td>\n",
       "      <td>Monthly</td>\n",
       "      <td>5.17</td>\n",
       "      <td>12256762.0</td>\n",
       "      <td>44.68</td>\n",
       "      <td>Rural</td>\n",
       "      <td>9</td>\n",
       "    </tr>\n",
       "  </tbody>\n",
       "</table>\n",
       "</div>"
      ],
      "text/plain": [
       "            state       date frequency  estimated unemployment rate  \\\n",
       "0  Andhra Pradesh 2019-05-31   Monthly                         3.65   \n",
       "1  Andhra Pradesh 2019-06-30   Monthly                         3.05   \n",
       "2  Andhra Pradesh 2019-07-31   Monthly                         3.75   \n",
       "3  Andhra Pradesh 2019-08-31   Monthly                         3.32   \n",
       "4  Andhra Pradesh 2019-09-30   Monthly                         5.17   \n",
       "\n",
       "   estimated employed  estimated labour participation rate   area  month_int  \n",
       "0          11999139.0                                43.24  Rural          5  \n",
       "1          11755881.0                                42.05  Rural          6  \n",
       "2          12086707.0                                43.50  Rural          7  \n",
       "3          12285693.0                                43.97  Rural          8  \n",
       "4          12256762.0                                44.68  Rural          9  "
      ]
     },
     "execution_count": 13,
     "metadata": {},
     "output_type": "execute_result"
    }
   ],
   "source": [
    "df['month_int']=df['date'].dt.month\n",
    "df.head()"
   ]
  },
  {
   "cell_type": "code",
   "execution_count": 14,
   "id": "cb70aba7",
   "metadata": {},
   "outputs": [
    {
     "data": {
      "text/plain": [
       "<Axes: >"
      ]
     },
     "execution_count": 14,
     "metadata": {},
     "output_type": "execute_result"
    },
    {
     "data": {
      "image/png": "[encoded data removed]",
      "text/plain": [
       "<Figure size 600x400 with 2 Axes>"
      ]
     },
     "metadata": {},
     "output_type": "display_data"
    }
   ],
   "source": [
    "heatmap= df[['estimated unemployment rate', 'estimated employed', 'estimated labour participation rate', 'area' , 'month_int']]\n",
    "heatmap = heatmap.corr()\n",
    "plt.figure(figsize=(6,4))\n",
    "sns.set_context('notebook', font_scale=1)\n",
    "sns.heatmap(data=heatmap, annot=True, cmap=sns.cubehelix_palette(as_cmap=True))"
   ]
  },
  {
   "cell_type": "markdown",
   "id": "6b48a97f",
   "metadata": {},
   "source": [
    "# Unemployment Analysis: Data Visualization"
   ]
  },
  {
   "cell_type": "code",
   "execution_count": 15,
   "id": "fe469472",
   "metadata": {},
   "outputs": [
    {
     "data": {
      "text/html": [
       "<div>\n",
       "<style scoped>\n",
       "    .dataframe tbody tr th:only-of-type {\n",
       "        vertical-align: middle;\n",
       "    }\n",
       "\n",
       "    .dataframe tbody tr th {\n",
       "        vertical-align: top;\n",
       "    }\n",
       "\n",
       "    .dataframe thead th {\n",
       "        text-align: right;\n",
       "    }\n",
       "</style>\n",
       "<table border=\"1\" class=\"dataframe\">\n",
       "  <thead>\n",
       "    <tr style=\"text-align: right;\">\n",
       "      <th></th>\n",
       "      <th>state</th>\n",
       "      <th>date</th>\n",
       "      <th>frequency</th>\n",
       "      <th>estimated unemployment rate</th>\n",
       "      <th>estimated employed</th>\n",
       "      <th>estimated labour participation rate</th>\n",
       "      <th>area</th>\n",
       "      <th>month_int</th>\n",
       "    </tr>\n",
       "  </thead>\n",
       "  <tbody>\n",
       "    <tr>\n",
       "      <th>0</th>\n",
       "      <td>Andhra Pradesh</td>\n",
       "      <td>2019-05-31</td>\n",
       "      <td>Monthly</td>\n",
       "      <td>3.65</td>\n",
       "      <td>11999139</td>\n",
       "      <td>43.24</td>\n",
       "      <td>Rural</td>\n",
       "      <td>5</td>\n",
       "    </tr>\n",
       "    <tr>\n",
       "      <th>1</th>\n",
       "      <td>Andhra Pradesh</td>\n",
       "      <td>2019-06-30</td>\n",
       "      <td>Monthly</td>\n",
       "      <td>3.05</td>\n",
       "      <td>11755881</td>\n",
       "      <td>42.05</td>\n",
       "      <td>Rural</td>\n",
       "      <td>6</td>\n",
       "    </tr>\n",
       "    <tr>\n",
       "      <th>2</th>\n",
       "      <td>Andhra Pradesh</td>\n",
       "      <td>2019-07-31</td>\n",
       "      <td>Monthly</td>\n",
       "      <td>3.75</td>\n",
       "      <td>12086707</td>\n",
       "      <td>43.50</td>\n",
       "      <td>Rural</td>\n",
       "      <td>7</td>\n",
       "    </tr>\n",
       "    <tr>\n",
       "      <th>3</th>\n",
       "      <td>Andhra Pradesh</td>\n",
       "      <td>2019-08-31</td>\n",
       "      <td>Monthly</td>\n",
       "      <td>3.32</td>\n",
       "      <td>12285693</td>\n",
       "      <td>43.97</td>\n",
       "      <td>Rural</td>\n",
       "      <td>8</td>\n",
       "    </tr>\n",
       "    <tr>\n",
       "      <th>4</th>\n",
       "      <td>Andhra Pradesh</td>\n",
       "      <td>2019-09-30</td>\n",
       "      <td>Monthly</td>\n",
       "      <td>5.17</td>\n",
       "      <td>12256762</td>\n",
       "      <td>44.68</td>\n",
       "      <td>Rural</td>\n",
       "      <td>9</td>\n",
       "    </tr>\n",
       "  </tbody>\n",
       "</table>\n",
       "</div>"
      ],
      "text/plain": [
       "            state       date frequency  estimated unemployment rate  \\\n",
       "0  Andhra Pradesh 2019-05-31   Monthly                         3.65   \n",
       "1  Andhra Pradesh 2019-06-30   Monthly                         3.05   \n",
       "2  Andhra Pradesh 2019-07-31   Monthly                         3.75   \n",
       "3  Andhra Pradesh 2019-08-31   Monthly                         3.32   \n",
       "4  Andhra Pradesh 2019-09-30   Monthly                         5.17   \n",
       "\n",
       "   estimated employed  estimated labour participation rate   area  month_int  \n",
       "0            11999139                                43.24  Rural          5  \n",
       "1            11755881                                42.05  Rural          6  \n",
       "2            12086707                                43.50  Rural          7  \n",
       "3            12285693                                43.97  Rural          8  \n",
       "4            12256762                                44.68  Rural          9  "
      ]
     },
     "execution_count": 15,
     "metadata": {},
     "output_type": "execute_result"
    }
   ],
   "source": [
    "df['estimated employed'] = df['estimated employed']. astype(int)\n",
    "df['estimated employed'].info\n",
    "df.head()"
   ]
  },
  {
   "cell_type": "code",
   "execution_count": 16,
   "id": "dacb55a0",
   "metadata": {},
   "outputs": [
    {
     "data": {
      "image/png": "[encoded data removed]",
      "text/plain": [
       "<Figure size 640x480 with 1 Axes>"
      ]
     },
     "metadata": {},
     "output_type": "display_data"
    }
   ],
   "source": [
    "#The estimated number of employees according to different area of India:\n",
    "df.columns= [\"state\",\"date\",\"frequency\",\n",
    "               \"estimated unemployment rate\",\"estimated employed\",\n",
    "               \"estimated labour participation rate\",\n",
    "               \"area\",\"month_int\"]\n",
    "plt.title(\"Indian Unemployment\")\n",
    "sns.histplot(x='estimated employed', hue='area', data=df)\n",
    "plt.show()"
   ]
  },
  {
   "cell_type": "code",
   "execution_count": 17,
   "id": "28bb7dd9",
   "metadata": {},
   "outputs": [
    {
     "data": {
      "text/plain": [
       "array(['Rural', 'Urban'], dtype=object)"
      ]
     },
     "execution_count": 17,
     "metadata": {},
     "output_type": "execute_result"
    }
   ],
   "source": [
    "df['area'].unique()"
   ]
  },
  {
   "cell_type": "code",
   "execution_count": 18,
   "id": "d3ca08ba",
   "metadata": {},
   "outputs": [
    {
     "data": {
      "image/png": "[encoded data removed]",
      "text/plain": [
       "<Figure size 1200x1000 with 1 Axes>"
      ]
     },
     "metadata": {},
     "output_type": "display_data"
    }
   ],
   "source": [
    "#The unemployment rate according to different area of India:\n",
    "plt.figure(figsize=(12, 10))\n",
    "plt.title(\"Indian Unemployment\")\n",
    "sns.histplot(x=\"estimated unemployment rate\", hue=\"area\", data=df)\n",
    "plt.show()"
   ]
  },
  {
   "cell_type": "code",
   "execution_count": 19,
   "id": "bf35c4d0",
   "metadata": {},
   "outputs": [
    {
     "data": {
      "text/html": [
       "        <script type=\"text/javascript\">\n",
       "        window.PlotlyConfig = {MathJaxConfig: 'local'};\n",
       "        if (window.MathJax && window.MathJax.Hub && window.MathJax.Hub.Config) {window.MathJax.Hub.Config({SVG: {font: \"STIX-Web\"}});}\n",
       "        if (typeof require !== 'undefined') {\n",
       "        require.undef(\"plotly\");\n",
       "        requirejs.config({\n",
       "            paths: {\n",
       "                'plotly': ['https://cdn.plot.ly/plotly-2.26.0.min']\n",
       "            }\n",
       "        });\n",
       "        require(['plotly'], function(Plotly) {\n",
       "            window._Plotly = Plotly;\n",
       "        });\n",
       "        }\n",
       "        </script>\n",
       "        "
      ]
     },
     "metadata": {},
     "output_type": "display_data"
    }
   ],
   "source": [
    "import plotly.express as px\n",
    "from plotly.offline import init_notebook_mode, iplot\n",
    "init_notebook_mode(connected=True)"
   ]
  },
  {
   "cell_type": "code",
   "execution_count": 20,
   "id": "7d1f399c",
   "metadata": {},
   "outputs": [
    {
     "data": {
      "application/vnd.plotly.v1+json": {
       "config": {
        "plotlyServerURL": "https://plot.ly"
       },
       "data": [
        {
         "alignmentgroup": "True",
         "hovertemplate": "state=%{x}<br>estimated unemployment rate=%{y}<extra></extra>",
         "legendgroup": "Andhra Pradesh",
         "marker": {
          "color": "rgb(76,114,176)"
         },
         "name": "Andhra Pradesh",
         "notched": false,
         "offsetgroup": "Andhra Pradesh",
         "orientation": "v",
         "showlegend": true,
         "type": "box",
         "x": [
          "Andhra Pradesh",
          "Andhra Pradesh",
          "Andhra Pradesh",
          "Andhra Pradesh",
          "Andhra Pradesh",
          "Andhra Pradesh",
          "Andhra Pradesh",
          "Andhra Pradesh",
          "Andhra Pradesh",
          "Andhra Pradesh",
          "Andhra Pradesh",
          "Andhra Pradesh",
          "Andhra Pradesh",
          "Andhra Pradesh",
          "Andhra Pradesh",
          "Andhra Pradesh",
          "Andhra Pradesh",
          "Andhra Pradesh",
          "Andhra Pradesh",
          "Andhra Pradesh",
          "Andhra Pradesh",
          "Andhra Pradesh",
          "Andhra Pradesh",
          "Andhra Pradesh",
          "Andhra Pradesh",
          "Andhra Pradesh",
          "Andhra Pradesh",
          "Andhra Pradesh"
         ],
         "x0": " ",
         "xaxis": "x",
         "y": [
          3.65,
          3.05,
          3.75,
          3.32,
          5.17,
          3.52,
          4.12,
          4.38,
          4.84,
          5.91,
          4.06,
          16.29,
          14.46,
          0.85,
          6.09,
          3.8,
          5.64,
          4.61,
          6.01,
          4.7,
          7.54,
          7.88,
          7.11,
          5.66,
          9.88,
          32.3,
          24.91,
          5.86
         ],
         "y0": " ",
         "yaxis": "y"
        },
        {
         "alignmentgroup": "True",
         "hovertemplate": "state=%{x}<br>estimated unemployment rate=%{y}<extra></extra>",
         "legendgroup": "Assam",
         "marker": {
          "color": "rgb(221,132,82)"
         },
         "name": "Assam",
         "notched": false,
         "offsetgroup": "Assam",
         "orientation": "v",
         "showlegend": true,
         "type": "box",
         "x": [
          "Assam",
          "Assam",
          "Assam",
          "Assam",
          "Assam",
          "Assam",
          "Assam",
          "Assam",
          "Assam",
          "Assam",
          "Assam",
          "Assam",
          "Assam",
          "Assam",
          "Assam",
          "Assam",
          "Assam",
          "Assam",
          "Assam",
          "Assam",
          "Assam",
          "Assam",
          "Assam",
          "Assam",
          "Assam",
          "Assam"
         ],
         "x0": " ",
         "xaxis": "x",
         "y": [
          4.29,
          5.08,
          4.26,
          5.79,
          4.46,
          4.65,
          4.66,
          4.29,
          3.26,
          3.77,
          9.38,
          0,
          7.87,
          9.89,
          3.21,
          10.39,
          9.26,
          11.17,
          6.31,
          5.02,
          7.24,
          9.98,
          10.34,
          8.37,
          10.77,
          3.42
         ],
         "y0": " ",
         "yaxis": "y"
        },
        {
         "alignmentgroup": "True",
         "hovertemplate": "state=%{x}<br>estimated unemployment rate=%{y}<extra></extra>",
         "legendgroup": "Bihar",
         "marker": {
          "color": "rgb(85,168,104)"
         },
         "name": "Bihar",
         "notched": false,
         "offsetgroup": "Bihar",
         "orientation": "v",
         "showlegend": true,
         "type": "box",
         "x": [
          "Bihar",
          "Bihar",
          "Bihar",
          "Bihar",
          "Bihar",
          "Bihar",
          "Bihar",
          "Bihar",
          "Bihar",
          "Bihar",
          "Bihar",
          "Bihar",
          "Bihar",
          "Bihar",
          "Bihar",
          "Bihar",
          "Bihar",
          "Bihar",
          "Bihar",
          "Bihar",
          "Bihar",
          "Bihar",
          "Bihar",
          "Bihar",
          "Bihar",
          "Bihar",
          "Bihar",
          "Bihar"
         ],
         "x0": " ",
         "xaxis": "x",
         "y": [
          9.27,
          10.2,
          13.44,
          11,
          8.87,
          12.47,
          12.4,
          10.16,
          9.13,
          9.61,
          15.39,
          45.09,
          47.26,
          20.49,
          19.9,
          13.29,
          16.41,
          17.66,
          20.46,
          14.06,
          17.62,
          14.91,
          20.69,
          15.11,
          15.73,
          58.77,
          37.87,
          12.45
         ],
         "y0": " ",
         "yaxis": "y"
        },
        {
         "alignmentgroup": "True",
         "hovertemplate": "state=%{x}<br>estimated unemployment rate=%{y}<extra></extra>",
         "legendgroup": "Chhattisgarh",
         "marker": {
          "color": "rgb(196,78,82)"
         },
         "name": "Chhattisgarh",
         "notched": false,
         "offsetgroup": "Chhattisgarh",
         "orientation": "v",
         "showlegend": true,
         "type": "box",
         "x": [
          "Chhattisgarh",
          "Chhattisgarh",
          "Chhattisgarh",
          "Chhattisgarh",
          "Chhattisgarh",
          "Chhattisgarh",
          "Chhattisgarh",
          "Chhattisgarh",
          "Chhattisgarh",
          "Chhattisgarh",
          "Chhattisgarh",
          "Chhattisgarh",
          "Chhattisgarh",
          "Chhattisgarh",
          "Chhattisgarh",
          "Chhattisgarh",
          "Chhattisgarh",
          "Chhattisgarh",
          "Chhattisgarh",
          "Chhattisgarh",
          "Chhattisgarh",
          "Chhattisgarh",
          "Chhattisgarh",
          "Chhattisgarh",
          "Chhattisgarh",
          "Chhattisgarh",
          "Chhattisgarh",
          "Chhattisgarh"
         ],
         "x0": " ",
         "xaxis": "x",
         "y": [
          9.82,
          6.76,
          4.54,
          4.64,
          8.33,
          6.96,
          2.77,
          6.11,
          9.89,
          7.89,
          7.31,
          0,
          7.64,
          10.14,
          9.77,
          11.77,
          8.17,
          6.29,
          9.46,
          10.27,
          8.32,
          3.57,
          9.01,
          9.79,
          8.21,
          20.13,
          24.1,
          27.07
         ],
         "y0": " ",
         "yaxis": "y"
        },
        {
         "alignmentgroup": "True",
         "hovertemplate": "state=%{x}<br>estimated unemployment rate=%{y}<extra></extra>",
         "legendgroup": "Delhi",
         "marker": {
          "color": "rgb(129,114,179)"
         },
         "name": "Delhi",
         "notched": false,
         "offsetgroup": "Delhi",
         "orientation": "v",
         "showlegend": true,
         "type": "box",
         "x": [
          "Delhi",
          "Delhi",
          "Delhi",
          "Delhi",
          "Delhi",
          "Delhi",
          "Delhi",
          "Delhi",
          "Delhi",
          "Delhi",
          "Delhi",
          "Delhi",
          "Delhi",
          "Delhi",
          "Delhi",
          "Delhi",
          "Delhi",
          "Delhi",
          "Delhi",
          "Delhi",
          "Delhi",
          "Delhi",
          "Delhi",
          "Delhi",
          "Delhi",
          "Delhi",
          "Delhi",
          "Delhi"
         ],
         "x0": " ",
         "xaxis": "x",
         "y": [
          12.56,
          9.33,
          11.07,
          17.18,
          12.5,
          15.84,
          11.11,
          16.97,
          13.48,
          13.81,
          15.18,
          20.69,
          22.76,
          21.14,
          12.31,
          12.76,
          14.68,
          13.52,
          20.59,
          12.41,
          16.11,
          11.07,
          22.45,
          14.86,
          17.09,
          16.51,
          45.78,
          18.11
         ],
         "y0": " ",
         "yaxis": "y"
        },
        {
         "alignmentgroup": "True",
         "hovertemplate": "state=%{x}<br>estimated unemployment rate=%{y}<extra></extra>",
         "legendgroup": "Goa",
         "marker": {
          "color": "rgb(147,120,96)"
         },
         "name": "Goa",
         "notched": false,
         "offsetgroup": "Goa",
         "orientation": "v",
         "showlegend": true,
         "type": "box",
         "x": [
          "Goa",
          "Goa",
          "Goa",
          "Goa",
          "Goa",
          "Goa",
          "Goa",
          "Goa",
          "Goa",
          "Goa",
          "Goa",
          "Goa",
          "Goa",
          "Goa",
          "Goa",
          "Goa",
          "Goa",
          "Goa",
          "Goa",
          "Goa",
          "Goa",
          "Goa",
          "Goa",
          "Goa"
         ],
         "x0": " ",
         "xaxis": "x",
         "y": [
          2.91,
          5.45,
          10.98,
          1.98,
          3.61,
          7.21,
          23.71,
          3.54,
          5.38,
          0,
          15.91,
          20,
          2.75,
          13.33,
          12.28,
          4.9,
          3.16,
          12.31,
          25.2,
          16.22,
          10.92,
          4.31,
          4.76,
          11.76
         ],
         "y0": " ",
         "yaxis": "y"
        },
        {
         "alignmentgroup": "True",
         "hovertemplate": "state=%{x}<br>estimated unemployment rate=%{y}<extra></extra>",
         "legendgroup": "Gujarat",
         "marker": {
          "color": "rgb(218,139,195)"
         },
         "name": "Gujarat",
         "notched": false,
         "offsetgroup": "Gujarat",
         "orientation": "v",
         "showlegend": true,
         "type": "box",
         "x": [
          "Gujarat",
          "Gujarat",
          "Gujarat",
          "Gujarat",
          "Gujarat",
          "Gujarat",
          "Gujarat",
          "Gujarat",
          "Gujarat",
          "Gujarat",
          "Gujarat",
          "Gujarat",
          "Gujarat",
          "Gujarat",
          "Gujarat",
          "Gujarat",
          "Gujarat",
          "Gujarat",
          "Gujarat",
          "Gujarat",
          "Gujarat",
          "Gujarat",
          "Gujarat",
          "Gujarat",
          "Gujarat",
          "Gujarat",
          "Gujarat",
          "Gujarat"
         ],
         "x0": " ",
         "xaxis": "x",
         "y": [
          2.88,
          4.77,
          4.58,
          3.7,
          6.29,
          4.91,
          4.68,
          3.46,
          5.35,
          6.64,
          7.59,
          12,
          14.58,
          1.41,
          4.09,
          6.31,
          5.15,
          4.2,
          5.96,
          5.45,
          7.53,
          5.71,
          5.82,
          6.04,
          5.39,
          25.94,
          11.62,
          4.54
         ],
         "y0": " ",
         "yaxis": "y"
        },
        {
         "alignmentgroup": "True",
         "hovertemplate": "state=%{x}<br>estimated unemployment rate=%{y}<extra></extra>",
         "legendgroup": "Haryana",
         "marker": {
          "color": "rgb(140,140,140)"
         },
         "name": "Haryana",
         "notched": false,
         "offsetgroup": "Haryana",
         "orientation": "v",
         "showlegend": true,
         "type": "box",
         "x": [
          "Haryana",
          "Haryana",
          "Haryana",
          "Haryana",
          "Haryana",
          "Haryana",
          "Haryana",
          "Haryana",
          "Haryana",
          "Haryana",
          "Haryana",
          "Haryana",
          "Haryana",
          "Haryana",
          "Haryana",
          "Haryana",
          "Haryana",
          "Haryana",
          "Haryana",
          "Haryana",
          "Haryana",
          "Haryana",
          "Haryana",
          "Haryana",
          "Haryana",
          "Haryana",
          "Haryana",
          "Haryana"
         ],
         "x0": " ",
         "xaxis": "x",
         "y": [
          14.54,
          23.08,
          16.22,
          30.94,
          16.36,
          24.17,
          16.59,
          29.56,
          16.21,
          27.19,
          23.92,
          41.61,
          34.22,
          35.57,
          24.67,
          20.42,
          25.45,
          24.19,
          26.84,
          21.04,
          27.06,
          23.65,
          27.24,
          23.29,
          27.14,
          46.89,
          38.46,
          29.41
         ],
         "y0": " ",
         "yaxis": "y"
        },
        {
         "alignmentgroup": "True",
         "hovertemplate": "state=%{x}<br>estimated unemployment rate=%{y}<extra></extra>",
         "legendgroup": "Himachal Pradesh",
         "marker": {
          "color": "rgb(204,185,116)"
         },
         "name": "Himachal Pradesh",
         "notched": false,
         "offsetgroup": "Himachal Pradesh",
         "orientation": "v",
         "showlegend": true,
         "type": "box",
         "x": [
          "Himachal Pradesh",
          "Himachal Pradesh",
          "Himachal Pradesh",
          "Himachal Pradesh",
          "Himachal Pradesh",
          "Himachal Pradesh",
          "Himachal Pradesh",
          "Himachal Pradesh",
          "Himachal Pradesh",
          "Himachal Pradesh",
          "Himachal Pradesh",
          "Himachal Pradesh",
          "Himachal Pradesh",
          "Himachal Pradesh",
          "Himachal Pradesh",
          "Himachal Pradesh",
          "Himachal Pradesh",
          "Himachal Pradesh",
          "Himachal Pradesh",
          "Himachal Pradesh",
          "Himachal Pradesh",
          "Himachal Pradesh",
          "Himachal Pradesh",
          "Himachal Pradesh",
          "Himachal Pradesh",
          "Himachal Pradesh",
          "Himachal Pradesh",
          "Himachal Pradesh"
         ],
         "x0": " ",
         "xaxis": "x",
         "y": [
          13.68,
          11.43,
          20.59,
          18.56,
          15.98,
          15.81,
          22.86,
          19.46,
          16.67,
          15.42,
          17.71,
          2.13,
          25.64,
          1.12,
          10.88,
          21.43,
          21.51,
          24.48,
          12,
          23.77,
          27.27,
          25.32,
          18.15,
          27.31,
          26.44,
          2.7,
          50,
          10.81
         ],
         "y0": " ",
         "yaxis": "y"
        },
        {
         "alignmentgroup": "True",
         "hovertemplate": "state=%{x}<br>estimated unemployment rate=%{y}<extra></extra>",
         "legendgroup": "Jammu & Kashmir",
         "marker": {
          "color": "rgb(100,181,205)"
         },
         "name": "Jammu & Kashmir",
         "notched": false,
         "offsetgroup": "Jammu & Kashmir",
         "orientation": "v",
         "showlegend": true,
         "type": "box",
         "x": [
          "Jammu & Kashmir",
          "Jammu & Kashmir",
          "Jammu & Kashmir",
          "Jammu & Kashmir",
          "Jammu & Kashmir",
          "Jammu & Kashmir",
          "Jammu & Kashmir",
          "Jammu & Kashmir",
          "Jammu & Kashmir",
          "Jammu & Kashmir",
          "Jammu & Kashmir",
          "Jammu & Kashmir",
          "Jammu & Kashmir",
          "Jammu & Kashmir",
          "Jammu & Kashmir",
          "Jammu & Kashmir",
          "Jammu & Kashmir",
          "Jammu & Kashmir",
          "Jammu & Kashmir",
          "Jammu & Kashmir",
          "Jammu & Kashmir"
         ],
         "x0": " ",
         "xaxis": "x",
         "y": [
          12.78,
          12.09,
          13.67,
          11.32,
          19.27,
          14.73,
          22.19,
          21.23,
          16,
          2.22,
          18.97,
          23.04,
          19.88,
          21.55,
          24.06,
          14.29,
          7.02,
          18.54,
          19.86,
          14.29,
          12.96
         ],
         "y0": " ",
         "yaxis": "y"
        },
        {
         "alignmentgroup": "True",
         "hovertemplate": "state=%{x}<br>estimated unemployment rate=%{y}<extra></extra>",
         "legendgroup": "Jharkhand",
         "marker": {
          "color": "rgb(76,114,176)"
         },
         "name": "Jharkhand",
         "notched": false,
         "offsetgroup": "Jharkhand",
         "orientation": "v",
         "showlegend": true,
         "type": "box",
         "x": [
          "Jharkhand",
          "Jharkhand",
          "Jharkhand",
          "Jharkhand",
          "Jharkhand",
          "Jharkhand",
          "Jharkhand",
          "Jharkhand",
          "Jharkhand",
          "Jharkhand",
          "Jharkhand",
          "Jharkhand",
          "Jharkhand",
          "Jharkhand",
          "Jharkhand",
          "Jharkhand",
          "Jharkhand",
          "Jharkhand",
          "Jharkhand",
          "Jharkhand",
          "Jharkhand",
          "Jharkhand",
          "Jharkhand",
          "Jharkhand",
          "Jharkhand",
          "Jharkhand",
          "Jharkhand",
          "Jharkhand"
         ],
         "x0": " ",
         "xaxis": "x",
         "y": [
          7.11,
          8.46,
          9.98,
          12.06,
          7.12,
          6.57,
          8.07,
          15.15,
          6.16,
          9.06,
          5.01,
          41.72,
          55.1,
          21.53,
          17.23,
          20.51,
          15.67,
          20.25,
          21.16,
          19.05,
          17.34,
          22.01,
          22.96,
          19.67,
          16.4,
          61.48,
          70.17,
          19.38
         ],
         "y0": " ",
         "yaxis": "y"
        },
        {
         "alignmentgroup": "True",
         "hovertemplate": "state=%{x}<br>estimated unemployment rate=%{y}<extra></extra>",
         "legendgroup": "Karnataka",
         "marker": {
          "color": "rgb(221,132,82)"
         },
         "name": "Karnataka",
         "notched": false,
         "offsetgroup": "Karnataka",
         "orientation": "v",
         "showlegend": true,
         "type": "box",
         "x": [
          "Karnataka",
          "Karnataka",
          "Karnataka",
          "Karnataka",
          "Karnataka",
          "Karnataka",
          "Karnataka",
          "Karnataka",
          "Karnataka",
          "Karnataka",
          "Karnataka",
          "Karnataka",
          "Karnataka",
          "Karnataka",
          "Karnataka",
          "Karnataka",
          "Karnataka",
          "Karnataka",
          "Karnataka",
          "Karnataka",
          "Karnataka",
          "Karnataka",
          "Karnataka",
          "Karnataka",
          "Karnataka",
          "Karnataka",
          "Karnataka",
          "Karnataka"
         ],
         "x0": " ",
         "xaxis": "x",
         "y": [
          5.46,
          5.98,
          0.52,
          0.37,
          3.2,
          7.13,
          1.19,
          0.41,
          2.57,
          4.11,
          2.39,
          33.17,
          23.72,
          10.92,
          6.56,
          5,
          2.29,
          1.27,
          3.57,
          3.87,
          3.44,
          1.56,
          3.31,
          2.88,
          4.92,
          25.12,
          15.88,
          6.12
         ],
         "y0": " ",
         "yaxis": "y"
        },
        {
         "alignmentgroup": "True",
         "hovertemplate": "state=%{x}<br>estimated unemployment rate=%{y}<extra></extra>",
         "legendgroup": "Kerala",
         "marker": {
          "color": "rgb(85,168,104)"
         },
         "name": "Kerala",
         "notched": false,
         "offsetgroup": "Kerala",
         "orientation": "v",
         "showlegend": true,
         "type": "box",
         "x": [
          "Kerala",
          "Kerala",
          "Kerala",
          "Kerala",
          "Kerala",
          "Kerala",
          "Kerala",
          "Kerala",
          "Kerala",
          "Kerala",
          "Kerala",
          "Kerala",
          "Kerala",
          "Kerala",
          "Kerala",
          "Kerala",
          "Kerala",
          "Kerala",
          "Kerala",
          "Kerala",
          "Kerala",
          "Kerala",
          "Kerala",
          "Kerala",
          "Kerala",
          "Kerala",
          "Kerala",
          "Kerala"
         ],
         "x0": " ",
         "xaxis": "x",
         "y": [
          6.63,
          9,
          4.95,
          10.32,
          5.35,
          9.14,
          5,
          10.77,
          4.11,
          8.91,
          8.85,
          10.71,
          23.38,
          27.66,
          6.11,
          6.67,
          7.58,
          7.69,
          5.52,
          5.35,
          6.71,
          7.31,
          6.65,
          6.08,
          9.14,
          21.43,
          30.28,
          12.17
         ],
         "y0": " ",
         "yaxis": "y"
        },
        {
         "alignmentgroup": "True",
         "hovertemplate": "state=%{x}<br>estimated unemployment rate=%{y}<extra></extra>",
         "legendgroup": "Madhya Pradesh",
         "marker": {
          "color": "rgb(196,78,82)"
         },
         "name": "Madhya Pradesh",
         "notched": false,
         "offsetgroup": "Madhya Pradesh",
         "orientation": "v",
         "showlegend": true,
         "type": "box",
         "x": [
          "Madhya Pradesh",
          "Madhya Pradesh",
          "Madhya Pradesh",
          "Madhya Pradesh",
          "Madhya Pradesh",
          "Madhya Pradesh",
          "Madhya Pradesh",
          "Madhya Pradesh",
          "Madhya Pradesh",
          "Madhya Pradesh",
          "Madhya Pradesh",
          "Madhya Pradesh",
          "Madhya Pradesh",
          "Madhya Pradesh",
          "Madhya Pradesh",
          "Madhya Pradesh",
          "Madhya Pradesh",
          "Madhya Pradesh",
          "Madhya Pradesh",
          "Madhya Pradesh",
          "Madhya Pradesh",
          "Madhya Pradesh",
          "Madhya Pradesh",
          "Madhya Pradesh",
          "Madhya Pradesh",
          "Madhya Pradesh",
          "Madhya Pradesh",
          "Madhya Pradesh"
         ],
         "x0": " ",
         "xaxis": "x",
         "y": [
          3.63,
          4.25,
          3.92,
          4.94,
          3.08,
          2.98,
          2.72,
          2.94,
          3.66,
          4.42,
          1.19,
          12.5,
          22.46,
          6.46,
          3.91,
          6.38,
          7.38,
          6.82,
          7,
          4.4,
          6.06,
          6.2,
          5.17,
          4.96,
          4.8,
          11.94,
          40.49,
          12.72
         ],
         "y0": " ",
         "yaxis": "y"
        },
        {
         "alignmentgroup": "True",
         "hovertemplate": "state=%{x}<br>estimated unemployment rate=%{y}<extra></extra>",
         "legendgroup": "Maharashtra",
         "marker": {
          "color": "rgb(129,114,179)"
         },
         "name": "Maharashtra",
         "notched": false,
         "offsetgroup": "Maharashtra",
         "orientation": "v",
         "showlegend": true,
         "type": "box",
         "x": [
          "Maharashtra",
          "Maharashtra",
          "Maharashtra",
          "Maharashtra",
          "Maharashtra",
          "Maharashtra",
          "Maharashtra",
          "Maharashtra",
          "Maharashtra",
          "Maharashtra",
          "Maharashtra",
          "Maharashtra",
          "Maharashtra",
          "Maharashtra",
          "Maharashtra",
          "Maharashtra",
          "Maharashtra",
          "Maharashtra",
          "Maharashtra",
          "Maharashtra",
          "Maharashtra",
          "Maharashtra",
          "Maharashtra",
          "Maharashtra",
          "Maharashtra",
          "Maharashtra",
          "Maharashtra",
          "Maharashtra"
         ],
         "x0": " ",
         "xaxis": "x",
         "y": [
          3.67,
          4.34,
          3.66,
          3.76,
          4.4,
          3.81,
          3.68,
          3.03,
          3.8,
          4.24,
          5.38,
          25.28,
          16.89,
          9.4,
          6.08,
          6.46,
          6.35,
          7.57,
          7.6,
          7.51,
          7.6,
          7.83,
          6.67,
          5.34,
          6.34,
          14.99,
          15.92,
          10.01
         ],
         "y0": " ",
         "yaxis": "y"
        },
        {
         "alignmentgroup": "True",
         "hovertemplate": "state=%{x}<br>estimated unemployment rate=%{y}<extra></extra>",
         "legendgroup": "Meghalaya",
         "marker": {
          "color": "rgb(147,120,96)"
         },
         "name": "Meghalaya",
         "notched": false,
         "offsetgroup": "Meghalaya",
         "orientation": "v",
         "showlegend": true,
         "type": "box",
         "x": [
          "Meghalaya",
          "Meghalaya",
          "Meghalaya",
          "Meghalaya",
          "Meghalaya",
          "Meghalaya",
          "Meghalaya",
          "Meghalaya",
          "Meghalaya",
          "Meghalaya",
          "Meghalaya",
          "Meghalaya",
          "Meghalaya",
          "Meghalaya",
          "Meghalaya",
          "Meghalaya",
          "Meghalaya",
          "Meghalaya",
          "Meghalaya",
          "Meghalaya",
          "Meghalaya",
          "Meghalaya",
          "Meghalaya",
          "Meghalaya",
          "Meghalaya",
          "Meghalaya",
          "Meghalaya"
         ],
         "x0": " ",
         "xaxis": "x",
         "y": [
          3.16,
          4.23,
          1.03,
          0.52,
          0.24,
          3.7,
          1.5,
          1.8,
          0.97,
          2.76,
          1.28,
          8.38,
          3.73,
          1.35,
          8.4,
          8.66,
          4.43,
          5.8,
          5.3,
          7.2,
          3.02,
          5.21,
          4.76,
          7.37,
          2.8,
          17.39,
          14.58
         ],
         "y0": " ",
         "yaxis": "y"
        },
        {
         "alignmentgroup": "True",
         "hovertemplate": "state=%{x}<br>estimated unemployment rate=%{y}<extra></extra>",
         "legendgroup": "Odisha",
         "marker": {
          "color": "rgb(218,139,195)"
         },
         "name": "Odisha",
         "notched": false,
         "offsetgroup": "Odisha",
         "orientation": "v",
         "showlegend": true,
         "type": "box",
         "x": [
          "Odisha",
          "Odisha",
          "Odisha",
          "Odisha",
          "Odisha",
          "Odisha",
          "Odisha",
          "Odisha",
          "Odisha",
          "Odisha",
          "Odisha",
          "Odisha",
          "Odisha",
          "Odisha",
          "Odisha",
          "Odisha",
          "Odisha",
          "Odisha",
          "Odisha",
          "Odisha",
          "Odisha",
          "Odisha",
          "Odisha",
          "Odisha",
          "Odisha",
          "Odisha",
          "Odisha",
          "Odisha"
         ],
         "x0": " ",
         "xaxis": "x",
         "y": [
          4.17,
          4.71,
          3.31,
          3.68,
          4.31,
          4.28,
          4.72,
          4.67,
          1.81,
          3.31,
          15.09,
          24.48,
          9.45,
          4.59,
          2.95,
          2.63,
          1.78,
          3.5,
          3.78,
          4.5,
          2.23,
          3.36,
          2.28,
          2.19,
          3.96,
          20.5,
          10,
          2.18
         ],
         "y0": " ",
         "yaxis": "y"
        },
        {
         "alignmentgroup": "True",
         "hovertemplate": "state=%{x}<br>estimated unemployment rate=%{y}<extra></extra>",
         "legendgroup": "Puducherry",
         "marker": {
          "color": "rgb(140,140,140)"
         },
         "name": "Puducherry",
         "notched": false,
         "offsetgroup": "Puducherry",
         "orientation": "v",
         "showlegend": true,
         "type": "box",
         "x": [
          "Puducherry",
          "Puducherry",
          "Puducherry",
          "Puducherry",
          "Puducherry",
          "Puducherry",
          "Puducherry",
          "Puducherry",
          "Puducherry",
          "Puducherry",
          "Puducherry",
          "Puducherry",
          "Puducherry",
          "Puducherry",
          "Puducherry",
          "Puducherry",
          "Puducherry",
          "Puducherry",
          "Puducherry",
          "Puducherry",
          "Puducherry",
          "Puducherry",
          "Puducherry",
          "Puducherry",
          "Puducherry",
          "Puducherry"
         ],
         "x0": " ",
         "xaxis": "x",
         "y": [
          0,
          0,
          0,
          4.85,
          0,
          1.18,
          0,
          1.99,
          0.58,
          1.74,
          2.31,
          74.51,
          1.25,
          0,
          0,
          8.95,
          1.22,
          1.17,
          1.37,
          5.21,
          0.57,
          1.78,
          0.62,
          76.74,
          75,
          4.55
         ],
         "y0": " ",
         "yaxis": "y"
        },
        {
         "alignmentgroup": "True",
         "hovertemplate": "state=%{x}<br>estimated unemployment rate=%{y}<extra></extra>",
         "legendgroup": "Punjab",
         "marker": {
          "color": "rgb(204,185,116)"
         },
         "name": "Punjab",
         "notched": false,
         "offsetgroup": "Punjab",
         "orientation": "v",
         "showlegend": true,
         "type": "box",
         "x": [
          "Punjab",
          "Punjab",
          "Punjab",
          "Punjab",
          "Punjab",
          "Punjab",
          "Punjab",
          "Punjab",
          "Punjab",
          "Punjab",
          "Punjab",
          "Punjab",
          "Punjab",
          "Punjab",
          "Punjab",
          "Punjab",
          "Punjab",
          "Punjab",
          "Punjab",
          "Punjab",
          "Punjab",
          "Punjab",
          "Punjab",
          "Punjab",
          "Punjab",
          "Punjab",
          "Punjab",
          "Punjab"
         ],
         "x0": " ",
         "xaxis": "x",
         "y": [
          9.17,
          12.21,
          9.64,
          6.69,
          8.59,
          12.56,
          7.07,
          6.13,
          9.69,
          10.41,
          10.51,
          3.69,
          40.59,
          20,
          13.49,
          13.17,
          11.61,
          11.99,
          15.69,
          13.75,
          10.39,
          11.97,
          13.68,
          11.99,
          9.97,
          1.13,
          20.54,
          10.55
         ],
         "y0": " ",
         "yaxis": "y"
        },
        {
         "alignmentgroup": "True",
         "hovertemplate": "state=%{x}<br>estimated unemployment rate=%{y}<extra></extra>",
         "legendgroup": "Rajasthan",
         "marker": {
          "color": "rgb(100,181,205)"
         },
         "name": "Rajasthan",
         "notched": false,
         "offsetgroup": "Rajasthan",
         "orientation": "v",
         "showlegend": true,
         "type": "box",
         "x": [
          "Rajasthan",
          "Rajasthan",
          "Rajasthan",
          "Rajasthan",
          "Rajasthan",
          "Rajasthan",
          "Rajasthan",
          "Rajasthan",
          "Rajasthan",
          "Rajasthan",
          "Rajasthan",
          "Rajasthan",
          "Rajasthan",
          "Rajasthan",
          "Rajasthan",
          "Rajasthan",
          "Rajasthan",
          "Rajasthan",
          "Rajasthan",
          "Rajasthan",
          "Rajasthan",
          "Rajasthan",
          "Rajasthan",
          "Rajasthan",
          "Rajasthan",
          "Rajasthan",
          "Rajasthan",
          "Rajasthan"
         ],
         "x0": " ",
         "xaxis": "x",
         "y": [
          4.03,
          13.7,
          9.7,
          12.5,
          5.45,
          14.66,
          10.47,
          13.96,
          8,
          14.48,
          9.47,
          12.25,
          10.45,
          13.86,
          13.62,
          14.36,
          11.67,
          14.71,
          12.63,
          13.02,
          14.3,
          18.04,
          18.82,
          17.02,
          18.54,
          35.53,
          25.35,
          13.04
         ],
         "y0": " ",
         "yaxis": "y"
        },
        {
         "alignmentgroup": "True",
         "hovertemplate": "state=%{x}<br>estimated unemployment rate=%{y}<extra></extra>",
         "legendgroup": "Sikkim",
         "marker": {
          "color": "rgb(76,114,176)"
         },
         "name": "Sikkim",
         "notched": false,
         "offsetgroup": "Sikkim",
         "orientation": "v",
         "showlegend": true,
         "type": "box",
         "x": [
          "Sikkim",
          "Sikkim",
          "Sikkim",
          "Sikkim",
          "Sikkim",
          "Sikkim",
          "Sikkim",
          "Sikkim",
          "Sikkim",
          "Sikkim",
          "Sikkim",
          "Sikkim",
          "Sikkim",
          "Sikkim",
          "Sikkim",
          "Sikkim",
          "Sikkim"
         ],
         "x0": " ",
         "xaxis": "x",
         "y": [
          5.48,
          13.11,
          1,
          0,
          5.81,
          8.2,
          7.76,
          2.56,
          4.82,
          4.81,
          9.68,
          4.04,
          7.37,
          20.45,
          5.77,
          19.75,
          2.63
         ],
         "y0": " ",
         "yaxis": "y"
        },
        {
         "alignmentgroup": "True",
         "hovertemplate": "state=%{x}<br>estimated unemployment rate=%{y}<extra></extra>",
         "legendgroup": "Tamil Nadu",
         "marker": {
          "color": "rgb(221,132,82)"
         },
         "name": "Tamil Nadu",
         "notched": false,
         "offsetgroup": "Tamil Nadu",
         "orientation": "v",
         "showlegend": true,
         "type": "box",
         "x": [
          "Tamil Nadu",
          "Tamil Nadu",
          "Tamil Nadu",
          "Tamil Nadu",
          "Tamil Nadu",
          "Tamil Nadu",
          "Tamil Nadu",
          "Tamil Nadu",
          "Tamil Nadu",
          "Tamil Nadu",
          "Tamil Nadu",
          "Tamil Nadu",
          "Tamil Nadu",
          "Tamil Nadu",
          "Tamil Nadu",
          "Tamil Nadu",
          "Tamil Nadu",
          "Tamil Nadu",
          "Tamil Nadu",
          "Tamil Nadu",
          "Tamil Nadu",
          "Tamil Nadu",
          "Tamil Nadu",
          "Tamil Nadu",
          "Tamil Nadu",
          "Tamil Nadu",
          "Tamil Nadu",
          "Tamil Nadu"
         ],
         "x0": " ",
         "xaxis": "x",
         "y": [
          0.97,
          0.92,
          6.01,
          2.91,
          1.71,
          1.46,
          2.46,
          3.73,
          1.18,
          1.17,
          6.36,
          53.19,
          38.73,
          2.06,
          0.89,
          1.56,
          3.18,
          9.53,
          1.86,
          1.13,
          2.65,
          8.05,
          2.05,
          3.31,
          6.46,
          45.55,
          25.95,
          24.93
         ],
         "y0": " ",
         "yaxis": "y"
        },
        {
         "alignmentgroup": "True",
         "hovertemplate": "state=%{x}<br>estimated unemployment rate=%{y}<extra></extra>",
         "legendgroup": "Telangana",
         "marker": {
          "color": "rgb(85,168,104)"
         },
         "name": "Telangana",
         "notched": false,
         "offsetgroup": "Telangana",
         "orientation": "v",
         "showlegend": true,
         "type": "box",
         "x": [
          "Telangana",
          "Telangana",
          "Telangana",
          "Telangana",
          "Telangana",
          "Telangana",
          "Telangana",
          "Telangana",
          "Telangana",
          "Telangana",
          "Telangana",
          "Telangana",
          "Telangana",
          "Telangana",
          "Telangana",
          "Telangana",
          "Telangana",
          "Telangana",
          "Telangana",
          "Telangana",
          "Telangana",
          "Telangana",
          "Telangana",
          "Telangana",
          "Telangana",
          "Telangana",
          "Telangana",
          "Telangana"
         ],
         "x0": " ",
         "xaxis": "x",
         "y": [
          2.23,
          5.92,
          2.45,
          1.4,
          5.49,
          7.29,
          6.47,
          1.35,
          5.02,
          9.02,
          5.63,
          4.51,
          34.01,
          19.3,
          1.52,
          1.43,
          3.73,
          4.19,
          6.19,
          6.74,
          5.23,
          4.22,
          6.49,
          6.74,
          6.1,
          10.5,
          36.57,
          6.92
         ],
         "y0": " ",
         "yaxis": "y"
        },
        {
         "alignmentgroup": "True",
         "hovertemplate": "state=%{x}<br>estimated unemployment rate=%{y}<extra></extra>",
         "legendgroup": "Tripura",
         "marker": {
          "color": "rgb(196,78,82)"
         },
         "name": "Tripura",
         "notched": false,
         "offsetgroup": "Tripura",
         "orientation": "v",
         "showlegend": true,
         "type": "box",
         "x": [
          "Tripura",
          "Tripura",
          "Tripura",
          "Tripura",
          "Tripura",
          "Tripura",
          "Tripura",
          "Tripura",
          "Tripura",
          "Tripura",
          "Tripura",
          "Tripura",
          "Tripura",
          "Tripura",
          "Tripura",
          "Tripura",
          "Tripura",
          "Tripura",
          "Tripura",
          "Tripura",
          "Tripura",
          "Tripura",
          "Tripura",
          "Tripura",
          "Tripura",
          "Tripura",
          "Tripura",
          "Tripura"
         ],
         "x0": " ",
         "xaxis": "x",
         "y": [
          29.25,
          26.64,
          22.47,
          25.49,
          30.23,
          27.54,
          25.25,
          26.53,
          31.91,
          26.22,
          31.61,
          43.64,
          14.71,
          18.84,
          34.69,
          25.59,
          25.81,
          33.45,
          33.57,
          26.67,
          27.15,
          33.48,
          34.37,
          33.88,
          25.69,
          34.88,
          16.78,
          27.47
         ],
         "y0": " ",
         "yaxis": "y"
        },
        {
         "alignmentgroup": "True",
         "hovertemplate": "state=%{x}<br>estimated unemployment rate=%{y}<extra></extra>",
         "legendgroup": "Uttar Pradesh",
         "marker": {
          "color": "rgb(129,114,179)"
         },
         "name": "Uttar Pradesh",
         "notched": false,
         "offsetgroup": "Uttar Pradesh",
         "orientation": "v",
         "showlegend": true,
         "type": "box",
         "x": [
          "Uttar Pradesh",
          "Uttar Pradesh",
          "Uttar Pradesh",
          "Uttar Pradesh",
          "Uttar Pradesh",
          "Uttar Pradesh",
          "Uttar Pradesh",
          "Uttar Pradesh",
          "Uttar Pradesh",
          "Uttar Pradesh",
          "Uttar Pradesh",
          "Uttar Pradesh",
          "Uttar Pradesh",
          "Uttar Pradesh",
          "Uttar Pradesh",
          "Uttar Pradesh",
          "Uttar Pradesh",
          "Uttar Pradesh",
          "Uttar Pradesh",
          "Uttar Pradesh",
          "Uttar Pradesh",
          "Uttar Pradesh",
          "Uttar Pradesh",
          "Uttar Pradesh",
          "Uttar Pradesh",
          "Uttar Pradesh",
          "Uttar Pradesh",
          "Uttar Pradesh"
         ],
         "x0": " ",
         "xaxis": "x",
         "y": [
          10.26,
          11.13,
          9.19,
          11.47,
          6.45,
          10.18,
          6.94,
          8.43,
          6.06,
          8.12,
          9.37,
          19.92,
          16.89,
          8.51,
          14.4,
          11.62,
          11.8,
          14.73,
          13.58,
          10.35,
          11.31,
          12.37,
          12.34,
          11.65,
          12.32,
          26.94,
          32.06,
          13.05
         ],
         "y0": " ",
         "yaxis": "y"
        },
        {
         "alignmentgroup": "True",
         "hovertemplate": "state=%{x}<br>estimated unemployment rate=%{y}<extra></extra>",
         "legendgroup": "Uttarakhand",
         "marker": {
          "color": "rgb(147,120,96)"
         },
         "name": "Uttarakhand",
         "notched": false,
         "offsetgroup": "Uttarakhand",
         "orientation": "v",
         "showlegend": true,
         "type": "box",
         "x": [
          "Uttarakhand",
          "Uttarakhand",
          "Uttarakhand",
          "Uttarakhand",
          "Uttarakhand",
          "Uttarakhand",
          "Uttarakhand",
          "Uttarakhand",
          "Uttarakhand",
          "Uttarakhand",
          "Uttarakhand",
          "Uttarakhand",
          "Uttarakhand",
          "Uttarakhand",
          "Uttarakhand",
          "Uttarakhand",
          "Uttarakhand",
          "Uttarakhand",
          "Uttarakhand",
          "Uttarakhand",
          "Uttarakhand",
          "Uttarakhand",
          "Uttarakhand",
          "Uttarakhand",
          "Uttarakhand",
          "Uttarakhand",
          "Uttarakhand"
         ],
         "x0": " ",
         "xaxis": "x",
         "y": [
          1.63,
          4.65,
          5.74,
          6.11,
          3.47,
          4.83,
          5.56,
          4.52,
          4.17,
          4.85,
          3.66,
          3.57,
          10.71,
          9.17,
          4.69,
          6.94,
          7.43,
          9.62,
          4.72,
          6.34,
          7.39,
          8.92,
          5.28,
          8.15,
          13.18,
          17.36,
          5.08
         ],
         "y0": " ",
         "yaxis": "y"
        },
        {
         "alignmentgroup": "True",
         "hovertemplate": "state=%{x}<br>estimated unemployment rate=%{y}<extra></extra>",
         "legendgroup": "West Bengal",
         "marker": {
          "color": "rgb(218,139,195)"
         },
         "name": "West Bengal",
         "notched": false,
         "offsetgroup": "West Bengal",
         "orientation": "v",
         "showlegend": true,
         "type": "box",
         "x": [
          "West Bengal",
          "West Bengal",
          "West Bengal",
          "West Bengal",
          "West Bengal",
          "West Bengal",
          "West Bengal",
          "West Bengal",
          "West Bengal",
          "West Bengal",
          "West Bengal",
          "West Bengal",
          "West Bengal",
          "West Bengal",
          "West Bengal",
          "West Bengal",
          "West Bengal",
          "West Bengal",
          "West Bengal",
          "West Bengal",
          "West Bengal",
          "West Bengal",
          "West Bengal",
          "West Bengal",
          "West Bengal",
          "West Bengal",
          "West Bengal",
          "West Bengal"
         ],
         "x0": " ",
         "xaxis": "x",
         "y": [
          6.02,
          5.85,
          5.62,
          5.58,
          5.26,
          6.78,
          5.83,
          5.79,
          6.79,
          3.78,
          7.02,
          18.32,
          18.43,
          4.94,
          7.25,
          7.38,
          7.91,
          7.27,
          7.79,
          7.83,
          6.61,
          7.24,
          7.27,
          7.55,
          6.67,
          15.63,
          15.22,
          9.86
         ],
         "y0": " ",
         "yaxis": "y"
        },
        {
         "alignmentgroup": "True",
         "hovertemplate": "state=%{x}<br>estimated unemployment rate=%{y}<extra></extra>",
         "legendgroup": "Chandigarh",
         "marker": {
          "color": "rgb(140,140,140)"
         },
         "name": "Chandigarh",
         "notched": false,
         "offsetgroup": "Chandigarh",
         "orientation": "v",
         "showlegend": true,
         "type": "box",
         "x": [
          "Chandigarh",
          "Chandigarh",
          "Chandigarh",
          "Chandigarh",
          "Chandigarh",
          "Chandigarh",
          "Chandigarh",
          "Chandigarh",
          "Chandigarh",
          "Chandigarh",
          "Chandigarh",
          "Chandigarh"
         ],
         "x0": " ",
         "xaxis": "x",
         "y": [
          18.35,
          12.4,
          21.8,
          9.52,
          20.14,
          13.99,
          22.05,
          8.33,
          20,
          16.67,
          21.43,
          7.22
         ],
         "y0": " ",
         "yaxis": "y"
        }
       ],
       "layout": {
        "boxmode": "overlay",
        "legend": {
         "title": {
          "text": "state"
         },
         "tracegroupgap": 0
        },
        "template": {
         "data": {
          "bar": [
           {
            "error_x": {
             "color": "rgb(36,36,36)"
            },
            "error_y": {
             "color": "rgb(36,36,36)"
            },
            "marker": {
             "line": {
              "color": "rgb(234,234,242)",
              "width": 0.5
             },
             "pattern": {
              "fillmode": "overlay",
              "size": 10,
              "solidity": 0.2
             }
            },
            "type": "bar"
           }
          ],
          "barpolar": [
           {
            "marker": {
             "line": {
              "color": "rgb(234,234,242)",
              "width": 0.5
             },
             "pattern": {
              "fillmode": "overlay",
              "size": 10,
              "solidity": 0.2
             }
            },
            "type": "barpolar"
           }
          ],
          "carpet": [
           {
            "aaxis": {
             "endlinecolor": "rgb(36,36,36)",
             "gridcolor": "white",
             "linecolor": "white",
             "minorgridcolor": "white",
             "startlinecolor": "rgb(36,36,36)"
            },
            "baxis": {
             "endlinecolor": "rgb(36,36,36)",
             "gridcolor": "white",
             "linecolor": "white",
             "minorgridcolor": "white",
             "startlinecolor": "rgb(36,36,36)"
            },
            "type": "carpet"
           }
          ],
          "choropleth": [
           {
            "colorbar": {
             "outlinewidth": 0,
             "tickcolor": "rgb(36,36,36)",
             "ticklen": 8,
             "ticks": "outside",
             "tickwidth": 2
            },
            "type": "choropleth"
           }
          ],
          "contour": [
           {
            "colorbar": {
             "outlinewidth": 0,
             "tickcolor": "rgb(36,36,36)",
             "ticklen": 8,
             "ticks": "outside",
             "tickwidth": 2
            },
            "colorscale": [
             [
              0,
              "rgb(2,4,25)"
             ],
             [
              0.06274509803921569,
              "rgb(24,15,41)"
             ],
             [
              0.12549019607843137,
              "rgb(47,23,57)"
             ],
             [
              0.18823529411764706,
              "rgb(71,28,72)"
             ],
             [
              0.25098039215686274,
              "rgb(97,30,82)"
             ],
             [
              0.3137254901960784,
              "rgb(123,30,89)"
             ],
             [
              0.3764705882352941,
              "rgb(150,27,91)"
             ],
             [
              0.4392156862745098,
              "rgb(177,22,88)"
             ],
             [
              0.5019607843137255,
              "rgb(203,26,79)"
             ],
             [
              0.5647058823529412,
              "rgb(223,47,67)"
             ],
             [
              0.6274509803921569,
              "rgb(236,76,61)"
             ],
             [
              0.6901960784313725,
              "rgb(242,107,73)"
             ],
             [
              0.7529411764705882,
              "rgb(244,135,95)"
             ],
             [
              0.8156862745098039,
              "rgb(245,162,122)"
             ],
             [
              0.8784313725490196,
              "rgb(246,188,153)"
             ],
             [
              0.9411764705882353,
              "rgb(247,212,187)"
             ],
             [
              1,
              "rgb(250,234,220)"
             ]
            ],
            "type": "contour"
           }
          ],
          "contourcarpet": [
           {
            "colorbar": {
             "outlinewidth": 0,
             "tickcolor": "rgb(36,36,36)",
             "ticklen": 8,
             "ticks": "outside",
             "tickwidth": 2
            },
            "type": "contourcarpet"
           }
          ],
          "heatmap": [
           {
            "colorbar": {
             "outlinewidth": 0,
             "tickcolor": "rgb(36,36,36)",
             "ticklen": 8,
             "ticks": "outside",
             "tickwidth": 2
            },
            "colorscale": [
             [
              0,
              "rgb(2,4,25)"
             ],
             [
              0.06274509803921569,
              "rgb(24,15,41)"
             ],
             [
              0.12549019607843137,
              "rgb(47,23,57)"
             ],
             [
              0.18823529411764706,
              "rgb(71,28,72)"
             ],
             [
              0.25098039215686274,
              "rgb(97,30,82)"
             ],
             [
              0.3137254901960784,
              "rgb(123,30,89)"
             ],
             [
              0.3764705882352941,
              "rgb(150,27,91)"
             ],
             [
              0.4392156862745098,
              "rgb(177,22,88)"
             ],
             [
              0.5019607843137255,
              "rgb(203,26,79)"
             ],
             [
              0.5647058823529412,
              "rgb(223,47,67)"
             ],
             [
              0.6274509803921569,
              "rgb(236,76,61)"
             ],
             [
              0.6901960784313725,
              "rgb(242,107,73)"
             ],
             [
              0.7529411764705882,
              "rgb(244,135,95)"
             ],
             [
              0.8156862745098039,
              "rgb(245,162,122)"
             ],
             [
              0.8784313725490196,
              "rgb(246,188,153)"
             ],
             [
              0.9411764705882353,
              "rgb(247,212,187)"
             ],
             [
              1,
              "rgb(250,234,220)"
             ]
            ],
            "type": "heatmap"
           }
          ],
          "heatmapgl": [
           {
            "colorbar": {
             "outlinewidth": 0,
             "tickcolor": "rgb(36,36,36)",
             "ticklen": 8,
             "ticks": "outside",
             "tickwidth": 2
            },
            "colorscale": [
             [
              0,
              "rgb(2,4,25)"
             ],
             [
              0.06274509803921569,
              "rgb(24,15,41)"
             ],
             [
              0.12549019607843137,
              "rgb(47,23,57)"
             ],
             [
              0.18823529411764706,
              "rgb(71,28,72)"
             ],
             [
              0.25098039215686274,
              "rgb(97,30,82)"
             ],
             [
              0.3137254901960784,
              "rgb(123,30,89)"
             ],
             [
              0.3764705882352941,
              "rgb(150,27,91)"
             ],
             [
              0.4392156862745098,
              "rgb(177,22,88)"
             ],
             [
              0.5019607843137255,
              "rgb(203,26,79)"
             ],
             [
              0.5647058823529412,
              "rgb(223,47,67)"
             ],
             [
              0.6274509803921569,
              "rgb(236,76,61)"
             ],
             [
              0.6901960784313725,
              "rgb(242,107,73)"
             ],
             [
              0.7529411764705882,
              "rgb(244,135,95)"
             ],
             [
              0.8156862745098039,
              "rgb(245,162,122)"
             ],
             [
              0.8784313725490196,
              "rgb(246,188,153)"
             ],
             [
              0.9411764705882353,
              "rgb(247,212,187)"
             ],
             [
              1,
              "rgb(250,234,220)"
             ]
            ],
            "type": "heatmapgl"
           }
          ],
          "histogram": [
           {
            "marker": {
             "pattern": {
              "fillmode": "overlay",
              "size": 10,
              "solidity": 0.2
             }
            },
            "type": "histogram"
           }
          ],
          "histogram2d": [
           {
            "colorbar": {
             "outlinewidth": 0,
             "tickcolor": "rgb(36,36,36)",
             "ticklen": 8,
             "ticks": "outside",
             "tickwidth": 2
            },
            "colorscale": [
             [
              0,
              "rgb(2,4,25)"
             ],
             [
              0.06274509803921569,
              "rgb(24,15,41)"
             ],
             [
              0.12549019607843137,
              "rgb(47,23,57)"
             ],
             [
              0.18823529411764706,
              "rgb(71,28,72)"
             ],
             [
              0.25098039215686274,
              "rgb(97,30,82)"
             ],
             [
              0.3137254901960784,
              "rgb(123,30,89)"
             ],
             [
              0.3764705882352941,
              "rgb(150,27,91)"
             ],
             [
              0.4392156862745098,
              "rgb(177,22,88)"
             ],
             [
              0.5019607843137255,
              "rgb(203,26,79)"
             ],
             [
              0.5647058823529412,
              "rgb(223,47,67)"
             ],
             [
              0.6274509803921569,
              "rgb(236,76,61)"
             ],
             [
              0.6901960784313725,
              "rgb(242,107,73)"
             ],
             [
              0.7529411764705882,
              "rgb(244,135,95)"
             ],
             [
              0.8156862745098039,
              "rgb(245,162,122)"
             ],
             [
              0.8784313725490196,
              "rgb(246,188,153)"
             ],
             [
              0.9411764705882353,
              "rgb(247,212,187)"
             ],
             [
              1,
              "rgb(250,234,220)"
             ]
            ],
            "type": "histogram2d"
           }
          ],
          "histogram2dcontour": [
           {
            "colorbar": {
             "outlinewidth": 0,
             "tickcolor": "rgb(36,36,36)",
             "ticklen": 8,
             "ticks": "outside",
             "tickwidth": 2
            },
            "colorscale": [
             [
              0,
              "rgb(2,4,25)"
             ],
             [
              0.06274509803921569,
              "rgb(24,15,41)"
             ],
             [
              0.12549019607843137,
              "rgb(47,23,57)"
             ],
             [
              0.18823529411764706,
              "rgb(71,28,72)"
             ],
             [
              0.25098039215686274,
              "rgb(97,30,82)"
             ],
             [
              0.3137254901960784,
              "rgb(123,30,89)"
             ],
             [
              0.3764705882352941,
              "rgb(150,27,91)"
             ],
             [
              0.4392156862745098,
              "rgb(177,22,88)"
             ],
             [
              0.5019607843137255,
              "rgb(203,26,79)"
             ],
             [
              0.5647058823529412,
              "rgb(223,47,67)"
             ],
             [
              0.6274509803921569,
              "rgb(236,76,61)"
             ],
             [
              0.6901960784313725,
              "rgb(242,107,73)"
             ],
             [
              0.7529411764705882,
              "rgb(244,135,95)"
             ],
             [
              0.8156862745098039,
              "rgb(245,162,122)"
             ],
             [
              0.8784313725490196,
              "rgb(246,188,153)"
             ],
             [
              0.9411764705882353,
              "rgb(247,212,187)"
             ],
             [
              1,
              "rgb(250,234,220)"
             ]
            ],
            "type": "histogram2dcontour"
           }
          ],
          "mesh3d": [
           {
            "colorbar": {
             "outlinewidth": 0,
             "tickcolor": "rgb(36,36,36)",
             "ticklen": 8,
             "ticks": "outside",
             "tickwidth": 2
            },
            "type": "mesh3d"
           }
          ],
          "parcoords": [
           {
            "line": {
             "colorbar": {
              "outlinewidth": 0,
              "tickcolor": "rgb(36,36,36)",
              "ticklen": 8,
              "ticks": "outside",
              "tickwidth": 2
             }
            },
            "type": "parcoords"
           }
          ],
          "pie": [
           {
            "automargin": true,
            "type": "pie"
           }
          ],
          "scatter": [
           {
            "fillpattern": {
             "fillmode": "overlay",
             "size": 10,
             "solidity": 0.2
            },
            "type": "scatter"
           }
          ],
          "scatter3d": [
           {
            "line": {
             "colorbar": {
              "outlinewidth": 0,
              "tickcolor": "rgb(36,36,36)",
              "ticklen": 8,
              "ticks": "outside",
              "tickwidth": 2
             }
            },
            "marker": {
             "colorbar": {
              "outlinewidth": 0,
              "tickcolor": "rgb(36,36,36)",
              "ticklen": 8,
              "ticks": "outside",
              "tickwidth": 2
             }
            },
            "type": "scatter3d"
           }
          ],
          "scattercarpet": [
           {
            "marker": {
             "colorbar": {
              "outlinewidth": 0,
              "tickcolor": "rgb(36,36,36)",
              "ticklen": 8,
              "ticks": "outside",
              "tickwidth": 2
             }
            },
            "type": "scattercarpet"
           }
          ],
          "scattergeo": [
           {
            "marker": {
             "colorbar": {
              "outlinewidth": 0,
              "tickcolor": "rgb(36,36,36)",
              "ticklen": 8,
              "ticks": "outside",
              "tickwidth": 2
             }
            },
            "type": "scattergeo"
           }
          ],
          "scattergl": [
           {
            "marker": {
             "colorbar": {
              "outlinewidth": 0,
              "tickcolor": "rgb(36,36,36)",
              "ticklen": 8,
              "ticks": "outside",
              "tickwidth": 2
             }
            },
            "type": "scattergl"
           }
          ],
          "scattermapbox": [
           {
            "marker": {
             "colorbar": {
              "outlinewidth": 0,
              "tickcolor": "rgb(36,36,36)",
              "ticklen": 8,
              "ticks": "outside",
              "tickwidth": 2
             }
            },
            "type": "scattermapbox"
           }
          ],
          "scatterpolar": [
           {
            "marker": {
             "colorbar": {
              "outlinewidth": 0,
              "tickcolor": "rgb(36,36,36)",
              "ticklen": 8,
              "ticks": "outside",
              "tickwidth": 2
             }
            },
            "type": "scatterpolar"
           }
          ],
          "scatterpolargl": [
           {
            "marker": {
             "colorbar": {
              "outlinewidth": 0,
              "tickcolor": "rgb(36,36,36)",
              "ticklen": 8,
              "ticks": "outside",
              "tickwidth": 2
             }
            },
            "type": "scatterpolargl"
           }
          ],
          "scatterternary": [
           {
            "marker": {
             "colorbar": {
              "outlinewidth": 0,
              "tickcolor": "rgb(36,36,36)",
              "ticklen": 8,
              "ticks": "outside",
              "tickwidth": 2
             }
            },
            "type": "scatterternary"
           }
          ],
          "surface": [
           {
            "colorbar": {
             "outlinewidth": 0,
             "tickcolor": "rgb(36,36,36)",
             "ticklen": 8,
             "ticks": "outside",
             "tickwidth": 2
            },
            "colorscale": [
             [
              0,
              "rgb(2,4,25)"
             ],
             [
              0.06274509803921569,
              "rgb(24,15,41)"
             ],
             [
              0.12549019607843137,
              "rgb(47,23,57)"
             ],
             [
              0.18823529411764706,
              "rgb(71,28,72)"
             ],
             [
              0.25098039215686274,
              "rgb(97,30,82)"
             ],
             [
              0.3137254901960784,
              "rgb(123,30,89)"
             ],
             [
              0.3764705882352941,
              "rgb(150,27,91)"
             ],
             [
              0.4392156862745098,
              "rgb(177,22,88)"
             ],
             [
              0.5019607843137255,
              "rgb(203,26,79)"
             ],
             [
              0.5647058823529412,
              "rgb(223,47,67)"
             ],
             [
              0.6274509803921569,
              "rgb(236,76,61)"
             ],
             [
              0.6901960784313725,
              "rgb(242,107,73)"
             ],
             [
              0.7529411764705882,
              "rgb(244,135,95)"
             ],
             [
              0.8156862745098039,
              "rgb(245,162,122)"
             ],
             [
              0.8784313725490196,
              "rgb(246,188,153)"
             ],
             [
              0.9411764705882353,
              "rgb(247,212,187)"
             ],
             [
              1,
              "rgb(250,234,220)"
             ]
            ],
            "type": "surface"
           }
          ],
          "table": [
           {
            "cells": {
             "fill": {
              "color": "rgb(231,231,240)"
             },
             "line": {
              "color": "white"
             }
            },
            "header": {
             "fill": {
              "color": "rgb(183,183,191)"
             },
             "line": {
              "color": "white"
             }
            },
            "type": "table"
           }
          ]
         },
         "layout": {
          "annotationdefaults": {
           "arrowcolor": "rgb(67,103,167)"
          },
          "autotypenumbers": "strict",
          "coloraxis": {
           "colorbar": {
            "outlinewidth": 0,
            "tickcolor": "rgb(36,36,36)",
            "ticklen": 8,
            "ticks": "outside",
            "tickwidth": 2
           }
          },
          "colorscale": {
           "sequential": [
            [
             0,
             "rgb(2,4,25)"
            ],
            [
             0.06274509803921569,
             "rgb(24,15,41)"
            ],
            [
             0.12549019607843137,
             "rgb(47,23,57)"
            ],
            [
             0.18823529411764706,
             "rgb(71,28,72)"
            ],
            [
             0.25098039215686274,
             "rgb(97,30,82)"
            ],
            [
             0.3137254901960784,
             "rgb(123,30,89)"
            ],
            [
             0.3764705882352941,
             "rgb(150,27,91)"
            ],
            [
             0.4392156862745098,
             "rgb(177,22,88)"
            ],
            [
             0.5019607843137255,
             "rgb(203,26,79)"
            ],
            [
             0.5647058823529412,
             "rgb(223,47,67)"
            ],
            [
             0.6274509803921569,
             "rgb(236,76,61)"
            ],
            [
             0.6901960784313725,
             "rgb(242,107,73)"
            ],
            [
             0.7529411764705882,
             "rgb(244,135,95)"
            ],
            [
             0.8156862745098039,
             "rgb(245,162,122)"
            ],
            [
             0.8784313725490196,
             "rgb(246,188,153)"
            ],
            [
             0.9411764705882353,
             "rgb(247,212,187)"
            ],
            [
             1,
             "rgb(250,234,220)"
            ]
           ],
           "sequentialminus": [
            [
             0,
             "rgb(2,4,25)"
            ],
            [
             0.06274509803921569,
             "rgb(24,15,41)"
            ],
            [
             0.12549019607843137,
             "rgb(47,23,57)"
            ],
            [
             0.18823529411764706,
             "rgb(71,28,72)"
            ],
            [
             0.25098039215686274,
             "rgb(97,30,82)"
            ],
            [
             0.3137254901960784,
             "rgb(123,30,89)"
            ],
            [
             0.3764705882352941,
             "rgb(150,27,91)"
            ],
            [
             0.4392156862745098,
             "rgb(177,22,88)"
            ],
            [
             0.5019607843137255,
             "rgb(203,26,79)"
            ],
            [
             0.5647058823529412,
             "rgb(223,47,67)"
            ],
            [
             0.6274509803921569,
             "rgb(236,76,61)"
            ],
            [
             0.6901960784313725,
             "rgb(242,107,73)"
            ],
            [
             0.7529411764705882,
             "rgb(244,135,95)"
            ],
            [
             0.8156862745098039,
             "rgb(245,162,122)"
            ],
            [
             0.8784313725490196,
             "rgb(246,188,153)"
            ],
            [
             0.9411764705882353,
             "rgb(247,212,187)"
            ],
            [
             1,
             "rgb(250,234,220)"
            ]
           ]
          },
          "colorway": [
           "rgb(76,114,176)",
           "rgb(221,132,82)",
           "rgb(85,168,104)",
           "rgb(196,78,82)",
           "rgb(129,114,179)",
           "rgb(147,120,96)",
           "rgb(218,139,195)",
           "rgb(140,140,140)",
           "rgb(204,185,116)",
           "rgb(100,181,205)"
          ],
          "font": {
           "color": "rgb(36,36,36)"
          },
          "geo": {
           "bgcolor": "white",
           "lakecolor": "white",
           "landcolor": "rgb(234,234,242)",
           "showlakes": true,
           "showland": true,
           "subunitcolor": "white"
          },
          "hoverlabel": {
           "align": "left"
          },
          "hovermode": "closest",
          "paper_bgcolor": "white",
          "plot_bgcolor": "rgb(234,234,242)",
          "polar": {
           "angularaxis": {
            "gridcolor": "white",
            "linecolor": "white",
            "showgrid": true,
            "ticks": ""
           },
           "bgcolor": "rgb(234,234,242)",
           "radialaxis": {
            "gridcolor": "white",
            "linecolor": "white",
            "showgrid": true,
            "ticks": ""
           }
          },
          "scene": {
           "xaxis": {
            "backgroundcolor": "rgb(234,234,242)",
            "gridcolor": "white",
            "gridwidth": 2,
            "linecolor": "white",
            "showbackground": true,
            "showgrid": true,
            "ticks": "",
            "zerolinecolor": "white"
           },
           "yaxis": {
            "backgroundcolor": "rgb(234,234,242)",
            "gridcolor": "white",
            "gridwidth": 2,
            "linecolor": "white",
            "showbackground": true,
            "showgrid": true,
            "ticks": "",
            "zerolinecolor": "white"
           },
           "zaxis": {
            "backgroundcolor": "rgb(234,234,242)",
            "gridcolor": "white",
            "gridwidth": 2,
            "linecolor": "white",
            "showbackground": true,
            "showgrid": true,
            "ticks": "",
            "zerolinecolor": "white"
           }
          },
          "shapedefaults": {
           "fillcolor": "rgb(67,103,167)",
           "line": {
            "width": 0
           },
           "opacity": 0.5
          },
          "ternary": {
           "aaxis": {
            "gridcolor": "white",
            "linecolor": "white",
            "showgrid": true,
            "ticks": ""
           },
           "baxis": {
            "gridcolor": "white",
            "linecolor": "white",
            "showgrid": true,
            "ticks": ""
           },
           "bgcolor": "rgb(234,234,242)",
           "caxis": {
            "gridcolor": "white",
            "linecolor": "white",
            "showgrid": true,
            "ticks": ""
           }
          },
          "xaxis": {
           "automargin": true,
           "gridcolor": "white",
           "linecolor": "white",
           "showgrid": true,
           "ticks": "",
           "title": {
            "standoff": 15
           },
           "zerolinecolor": "white"
          },
          "yaxis": {
           "automargin": true,
           "gridcolor": "white",
           "linecolor": "white",
           "showgrid": true,
           "ticks": "",
           "title": {
            "standoff": 15
           },
           "zerolinecolor": "white"
          }
         }
        },
        "title": {
         "text": "Unemployment rate per States"
        },
        "xaxis": {
         "anchor": "y",
         "categoryarray": [
          "Andhra Pradesh",
          "Assam",
          "Bihar",
          "Chhattisgarh",
          "Delhi",
          "Goa",
          "Gujarat",
          "Haryana",
          "Himachal Pradesh",
          "Jammu & Kashmir",
          "Jharkhand",
          "Karnataka",
          "Kerala",
          "Madhya Pradesh",
          "Maharashtra",
          "Meghalaya",
          "Odisha",
          "Puducherry",
          "Punjab",
          "Rajasthan",
          "Sikkim",
          "Tamil Nadu",
          "Telangana",
          "Tripura",
          "Uttar Pradesh",
          "Uttarakhand",
          "West Bengal",
          "Chandigarh"
         ],
         "categoryorder": "total descending",
         "domain": [
          0,
          1
         ],
         "title": {
          "text": "state"
         }
        },
        "yaxis": {
         "anchor": "x",
         "domain": [
          0,
          1
         ],
         "title": {
          "text": "estimated unemployment rate"
         }
        }
       }
      },
      "text/html": [
       "<div>                            <div id=\"55f19370-9c89-4b78-ab31-cb243c0a736c\" class=\"plotly-graph-div\" style=\"height:525px; width:100%;\"></div>            <script type=\"text/javascript\">                require([\"plotly\"], function(Plotly) {                    window.PLOTLYENV=window.PLOTLYENV || {};                                    if (document.getElementById(\"55f19370-9c89-4b78-ab31-cb243c0a736c\")) {                    Plotly.newPlot(                        \"55f19370-9c89-4b78-ab31-cb243c0a736c\",                        [{\"alignmentgroup\":\"True\",\"hovertemplate\":\"state=%{x}\\u003cbr\\u003eestimated unemployment rate=%{y}\\u003cextra\\u003e\\u003c\\u002fextra\\u003e\",\"legendgroup\":\"Andhra Pradesh\",\"marker\":{\"color\":\"rgb(76,114,176)\"},\"name\":\"Andhra Pradesh\",\"notched\":false,\"offsetgroup\":\"Andhra Pradesh\",\"orientation\":\"v\",\"showlegend\":true,\"x\":[\"Andhra Pradesh\",\"Andhra Pradesh\",\"Andhra Pradesh\",\"Andhra Pradesh\",\"Andhra Pradesh\",\"Andhra Pradesh\",\"Andhra Pradesh\",\"Andhra Pradesh\",\"Andhra Pradesh\",\"Andhra Pradesh\",\"Andhra Pradesh\",\"Andhra Pradesh\",\"Andhra Pradesh\",\"Andhra Pradesh\",\"Andhra Pradesh\",\"Andhra Pradesh\",\"Andhra Pradesh\",\"Andhra Pradesh\",\"Andhra Pradesh\",\"Andhra Pradesh\",\"Andhra Pradesh\",\"Andhra Pradesh\",\"Andhra Pradesh\",\"Andhra Pradesh\",\"Andhra Pradesh\",\"Andhra Pradesh\",\"Andhra Pradesh\",\"Andhra Pradesh\"],\"x0\":\" \",\"xaxis\":\"x\",\"y\":[3.65,3.05,3.75,3.32,5.17,3.52,4.12,4.38,4.84,5.91,4.06,16.29,14.46,0.85,6.09,3.8,5.64,4.61,6.01,4.7,7.54,7.88,7.11,5.66,9.88,32.3,24.91,5.86],\"y0\":\" \",\"yaxis\":\"y\",\"type\":\"box\"},{\"alignmentgroup\":\"True\",\"hovertemplate\":\"state=%{x}\\u003cbr\\u003eestimated unemployment rate=%{y}\\u003cextra\\u003e\\u003c\\u002fextra\\u003e\",\"legendgroup\":\"Assam\",\"marker\":{\"color\":\"rgb(221,132,82)\"},\"name\":\"Assam\",\"notched\":false,\"offsetgroup\":\"Assam\",\"orientation\":\"v\",\"showlegend\":true,\"x\":[\"Assam\",\"Assam\",\"Assam\",\"Assam\",\"Assam\",\"Assam\",\"Assam\",\"Assam\",\"Assam\",\"Assam\",\"Assam\",\"Assam\",\"Assam\",\"Assam\",\"Assam\",\"Assam\",\"Assam\",\"Assam\",\"Assam\",\"Assam\",\"Assam\",\"Assam\",\"Assam\",\"Assam\",\"Assam\",\"Assam\"],\"x0\":\" \",\"xaxis\":\"x\",\"y\":[4.29,5.08,4.26,5.79,4.46,4.65,4.66,4.29,3.26,3.77,9.38,0.0,7.87,9.89,3.21,10.39,9.26,11.17,6.31,5.02,7.24,9.98,10.34,8.37,10.77,3.42],\"y0\":\" \",\"yaxis\":\"y\",\"type\":\"box\"},{\"alignmentgroup\":\"True\",\"hovertemplate\":\"state=%{x}\\u003cbr\\u003eestimated unemployment rate=%{y}\\u003cextra\\u003e\\u003c\\u002fextra\\u003e\",\"legendgroup\":\"Bihar\",\"marker\":{\"color\":\"rgb(85,168,104)\"},\"name\":\"Bihar\",\"notched\":false,\"offsetgroup\":\"Bihar\",\"orientation\":\"v\",\"showlegend\":true,\"x\":[\"Bihar\",\"Bihar\",\"Bihar\",\"Bihar\",\"Bihar\",\"Bihar\",\"Bihar\",\"Bihar\",\"Bihar\",\"Bihar\",\"Bihar\",\"Bihar\",\"Bihar\",\"Bihar\",\"Bihar\",\"Bihar\",\"Bihar\",\"Bihar\",\"Bihar\",\"Bihar\",\"Bihar\",\"Bihar\",\"Bihar\",\"Bihar\",\"Bihar\",\"Bihar\",\"Bihar\",\"Bihar\"],\"x0\":\" \",\"xaxis\":\"x\",\"y\":[9.27,10.2,13.44,11.0,8.87,12.47,12.4,10.16,9.13,9.61,15.39,45.09,47.26,20.49,19.9,13.29,16.41,17.66,20.46,14.06,17.62,14.91,20.69,15.11,15.73,58.77,37.87,12.45],\"y0\":\" \",\"yaxis\":\"y\",\"type\":\"box\"},{\"alignmentgroup\":\"True\",\"hovertemplate\":\"state=%{x}\\u003cbr\\u003eestimated unemployment rate=%{y}\\u003cextra\\u003e\\u003c\\u002fextra\\u003e\",\"legendgroup\":\"Chhattisgarh\",\"marker\":{\"color\":\"rgb(196,78,82)\"},\"name\":\"Chhattisgarh\",\"notched\":false,\"offsetgroup\":\"Chhattisgarh\",\"orientation\":\"v\",\"showlegend\":true,\"x\":[\"Chhattisgarh\",\"Chhattisgarh\",\"Chhattisgarh\",\"Chhattisgarh\",\"Chhattisgarh\",\"Chhattisgarh\",\"Chhattisgarh\",\"Chhattisgarh\",\"Chhattisgarh\",\"Chhattisgarh\",\"Chhattisgarh\",\"Chhattisgarh\",\"Chhattisgarh\",\"Chhattisgarh\",\"Chhattisgarh\",\"Chhattisgarh\",\"Chhattisgarh\",\"Chhattisgarh\",\"Chhattisgarh\",\"Chhattisgarh\",\"Chhattisgarh\",\"Chhattisgarh\",\"Chhattisgarh\",\"Chhattisgarh\",\"Chhattisgarh\",\"Chhattisgarh\",\"Chhattisgarh\",\"Chhattisgarh\"],\"x0\":\" \",\"xaxis\":\"x\",\"y\":[9.82,6.76,4.54,4.64,8.33,6.96,2.77,6.11,9.89,7.89,7.31,0.0,7.64,10.14,9.77,11.77,8.17,6.29,9.46,10.27,8.32,3.57,9.01,9.79,8.21,20.13,24.1,27.07],\"y0\":\" \",\"yaxis\":\"y\",\"type\":\"box\"},{\"alignmentgroup\":\"True\",\"hovertemplate\":\"state=%{x}\\u003cbr\\u003eestimated unemployment rate=%{y}\\u003cextra\\u003e\\u003c\\u002fextra\\u003e\",\"legendgroup\":\"Delhi\",\"marker\":{\"color\":\"rgb(129,114,179)\"},\"name\":\"Delhi\",\"notched\":false,\"offsetgroup\":\"Delhi\",\"orientation\":\"v\",\"showlegend\":true,\"x\":[\"Delhi\",\"Delhi\",\"Delhi\",\"Delhi\",\"Delhi\",\"Delhi\",\"Delhi\",\"Delhi\",\"Delhi\",\"Delhi\",\"Delhi\",\"Delhi\",\"Delhi\",\"Delhi\",\"Delhi\",\"Delhi\",\"Delhi\",\"Delhi\",\"Delhi\",\"Delhi\",\"Delhi\",\"Delhi\",\"Delhi\",\"Delhi\",\"Delhi\",\"Delhi\",\"Delhi\",\"Delhi\"],\"x0\":\" \",\"xaxis\":\"x\",\"y\":[12.56,9.33,11.07,17.18,12.5,15.84,11.11,16.97,13.48,13.81,15.18,20.69,22.76,21.14,12.31,12.76,14.68,13.52,20.59,12.41,16.11,11.07,22.45,14.86,17.09,16.51,45.78,18.11],\"y0\":\" \",\"yaxis\":\"y\",\"type\":\"box\"},{\"alignmentgroup\":\"True\",\"hovertemplate\":\"state=%{x}\\u003cbr\\u003eestimated unemployment rate=%{y}\\u003cextra\\u003e\\u003c\\u002fextra\\u003e\",\"legendgroup\":\"Goa\",\"marker\":{\"color\":\"rgb(147,120,96)\"},\"name\":\"Goa\",\"notched\":false,\"offsetgroup\":\"Goa\",\"orientation\":\"v\",\"showlegend\":true,\"x\":[\"Goa\",\"Goa\",\"Goa\",\"Goa\",\"Goa\",\"Goa\",\"Goa\",\"Goa\",\"Goa\",\"Goa\",\"Goa\",\"Goa\",\"Goa\",\"Goa\",\"Goa\",\"Goa\",\"Goa\",\"Goa\",\"Goa\",\"Goa\",\"Goa\",\"Goa\",\"Goa\",\"Goa\"],\"x0\":\" \",\"xaxis\":\"x\",\"y\":[2.91,5.45,10.98,1.98,3.61,7.21,23.71,3.54,5.38,0.0,15.91,20.0,2.75,13.33,12.28,4.9,3.16,12.31,25.2,16.22,10.92,4.31,4.76,11.76],\"y0\":\" \",\"yaxis\":\"y\",\"type\":\"box\"},{\"alignmentgroup\":\"True\",\"hovertemplate\":\"state=%{x}\\u003cbr\\u003eestimated unemployment rate=%{y}\\u003cextra\\u003e\\u003c\\u002fextra\\u003e\",\"legendgroup\":\"Gujarat\",\"marker\":{\"color\":\"rgb(218,139,195)\"},\"name\":\"Gujarat\",\"notched\":false,\"offsetgroup\":\"Gujarat\",\"orientation\":\"v\",\"showlegend\":true,\"x\":[\"Gujarat\",\"Gujarat\",\"Gujarat\",\"Gujarat\",\"Gujarat\",\"Gujarat\",\"Gujarat\",\"Gujarat\",\"Gujarat\",\"Gujarat\",\"Gujarat\",\"Gujarat\",\"Gujarat\",\"Gujarat\",\"Gujarat\",\"Gujarat\",\"Gujarat\",\"Gujarat\",\"Gujarat\",\"Gujarat\",\"Gujarat\",\"Gujarat\",\"Gujarat\",\"Gujarat\",\"Gujarat\",\"Gujarat\",\"Gujarat\",\"Gujarat\"],\"x0\":\" \",\"xaxis\":\"x\",\"y\":[2.88,4.77,4.58,3.7,6.29,4.91,4.68,3.46,5.35,6.64,7.59,12.0,14.58,1.41,4.09,6.31,5.15,4.2,5.96,5.45,7.53,5.71,5.82,6.04,5.39,25.94,11.62,4.54],\"y0\":\" \",\"yaxis\":\"y\",\"type\":\"box\"},{\"alignmentgroup\":\"True\",\"hovertemplate\":\"state=%{x}\\u003cbr\\u003eestimated unemployment rate=%{y}\\u003cextra\\u003e\\u003c\\u002fextra\\u003e\",\"legendgroup\":\"Haryana\",\"marker\":{\"color\":\"rgb(140,140,140)\"},\"name\":\"Haryana\",\"notched\":false,\"offsetgroup\":\"Haryana\",\"orientation\":\"v\",\"showlegend\":true,\"x\":[\"Haryana\",\"Haryana\",\"Haryana\",\"Haryana\",\"Haryana\",\"Haryana\",\"Haryana\",\"Haryana\",\"Haryana\",\"Haryana\",\"Haryana\",\"Haryana\",\"Haryana\",\"Haryana\",\"Haryana\",\"Haryana\",\"Haryana\",\"Haryana\",\"Haryana\",\"Haryana\",\"Haryana\",\"Haryana\",\"Haryana\",\"Haryana\",\"Haryana\",\"Haryana\",\"Haryana\",\"Haryana\"],\"x0\":\" \",\"xaxis\":\"x\",\"y\":[14.54,23.08,16.22,30.94,16.36,24.17,16.59,29.56,16.21,27.19,23.92,41.61,34.22,35.57,24.67,20.42,25.45,24.19,26.84,21.04,27.06,23.65,27.24,23.29,27.14,46.89,38.46,29.41],\"y0\":\" \",\"yaxis\":\"y\",\"type\":\"box\"},{\"alignmentgroup\":\"True\",\"hovertemplate\":\"state=%{x}\\u003cbr\\u003eestimated unemployment rate=%{y}\\u003cextra\\u003e\\u003c\\u002fextra\\u003e\",\"legendgroup\":\"Himachal Pradesh\",\"marker\":{\"color\":\"rgb(204,185,116)\"},\"name\":\"Himachal Pradesh\",\"notched\":false,\"offsetgroup\":\"Himachal Pradesh\",\"orientation\":\"v\",\"showlegend\":true,\"x\":[\"Himachal Pradesh\",\"Himachal Pradesh\",\"Himachal Pradesh\",\"Himachal Pradesh\",\"Himachal Pradesh\",\"Himachal Pradesh\",\"Himachal Pradesh\",\"Himachal Pradesh\",\"Himachal Pradesh\",\"Himachal Pradesh\",\"Himachal Pradesh\",\"Himachal Pradesh\",\"Himachal Pradesh\",\"Himachal Pradesh\",\"Himachal Pradesh\",\"Himachal Pradesh\",\"Himachal Pradesh\",\"Himachal Pradesh\",\"Himachal Pradesh\",\"Himachal Pradesh\",\"Himachal Pradesh\",\"Himachal Pradesh\",\"Himachal Pradesh\",\"Himachal Pradesh\",\"Himachal Pradesh\",\"Himachal Pradesh\",\"Himachal Pradesh\",\"Himachal Pradesh\"],\"x0\":\" \",\"xaxis\":\"x\",\"y\":[13.68,11.43,20.59,18.56,15.98,15.81,22.86,19.46,16.67,15.42,17.71,2.13,25.64,1.12,10.88,21.43,21.51,24.48,12.0,23.77,27.27,25.32,18.15,27.31,26.44,2.7,50.0,10.81],\"y0\":\" \",\"yaxis\":\"y\",\"type\":\"box\"},{\"alignmentgroup\":\"True\",\"hovertemplate\":\"state=%{x}\\u003cbr\\u003eestimated unemployment rate=%{y}\\u003cextra\\u003e\\u003c\\u002fextra\\u003e\",\"legendgroup\":\"Jammu & Kashmir\",\"marker\":{\"color\":\"rgb(100,181,205)\"},\"name\":\"Jammu & Kashmir\",\"notched\":false,\"offsetgroup\":\"Jammu & Kashmir\",\"orientation\":\"v\",\"showlegend\":true,\"x\":[\"Jammu & Kashmir\",\"Jammu & Kashmir\",\"Jammu & Kashmir\",\"Jammu & Kashmir\",\"Jammu & Kashmir\",\"Jammu & Kashmir\",\"Jammu & Kashmir\",\"Jammu & Kashmir\",\"Jammu & Kashmir\",\"Jammu & Kashmir\",\"Jammu & Kashmir\",\"Jammu & Kashmir\",\"Jammu & Kashmir\",\"Jammu & Kashmir\",\"Jammu & Kashmir\",\"Jammu & Kashmir\",\"Jammu & Kashmir\",\"Jammu & Kashmir\",\"Jammu & Kashmir\",\"Jammu & Kashmir\",\"Jammu & Kashmir\"],\"x0\":\" \",\"xaxis\":\"x\",\"y\":[12.78,12.09,13.67,11.32,19.27,14.73,22.19,21.23,16.0,2.22,18.97,23.04,19.88,21.55,24.06,14.29,7.02,18.54,19.86,14.29,12.96],\"y0\":\" \",\"yaxis\":\"y\",\"type\":\"box\"},{\"alignmentgroup\":\"True\",\"hovertemplate\":\"state=%{x}\\u003cbr\\u003eestimated unemployment rate=%{y}\\u003cextra\\u003e\\u003c\\u002fextra\\u003e\",\"legendgroup\":\"Jharkhand\",\"marker\":{\"color\":\"rgb(76,114,176)\"},\"name\":\"Jharkhand\",\"notched\":false,\"offsetgroup\":\"Jharkhand\",\"orientation\":\"v\",\"showlegend\":true,\"x\":[\"Jharkhand\",\"Jharkhand\",\"Jharkhand\",\"Jharkhand\",\"Jharkhand\",\"Jharkhand\",\"Jharkhand\",\"Jharkhand\",\"Jharkhand\",\"Jharkhand\",\"Jharkhand\",\"Jharkhand\",\"Jharkhand\",\"Jharkhand\",\"Jharkhand\",\"Jharkhand\",\"Jharkhand\",\"Jharkhand\",\"Jharkhand\",\"Jharkhand\",\"Jharkhand\",\"Jharkhand\",\"Jharkhand\",\"Jharkhand\",\"Jharkhand\",\"Jharkhand\",\"Jharkhand\",\"Jharkhand\"],\"x0\":\" \",\"xaxis\":\"x\",\"y\":[7.11,8.46,9.98,12.06,7.12,6.57,8.07,15.15,6.16,9.06,5.01,41.72,55.1,21.53,17.23,20.51,15.67,20.25,21.16,19.05,17.34,22.01,22.96,19.67,16.4,61.48,70.17,19.38],\"y0\":\" \",\"yaxis\":\"y\",\"type\":\"box\"},{\"alignmentgroup\":\"True\",\"hovertemplate\":\"state=%{x}\\u003cbr\\u003eestimated unemployment rate=%{y}\\u003cextra\\u003e\\u003c\\u002fextra\\u003e\",\"legendgroup\":\"Karnataka\",\"marker\":{\"color\":\"rgb(221,132,82)\"},\"name\":\"Karnataka\",\"notched\":false,\"offsetgroup\":\"Karnataka\",\"orientation\":\"v\",\"showlegend\":true,\"x\":[\"Karnataka\",\"Karnataka\",\"Karnataka\",\"Karnataka\",\"Karnataka\",\"Karnataka\",\"Karnataka\",\"Karnataka\",\"Karnataka\",\"Karnataka\",\"Karnataka\",\"Karnataka\",\"Karnataka\",\"Karnataka\",\"Karnataka\",\"Karnataka\",\"Karnataka\",\"Karnataka\",\"Karnataka\",\"Karnataka\",\"Karnataka\",\"Karnataka\",\"Karnataka\",\"Karnataka\",\"Karnataka\",\"Karnataka\",\"Karnataka\",\"Karnataka\"],\"x0\":\" \",\"xaxis\":\"x\",\"y\":[5.46,5.98,0.52,0.37,3.2,7.13,1.19,0.41,2.57,4.11,2.39,33.17,23.72,10.92,6.56,5.0,2.29,1.27,3.57,3.87,3.44,1.56,3.31,2.88,4.92,25.12,15.88,6.12],\"y0\":\" \",\"yaxis\":\"y\",\"type\":\"box\"},{\"alignmentgroup\":\"True\",\"hovertemplate\":\"state=%{x}\\u003cbr\\u003eestimated unemployment rate=%{y}\\u003cextra\\u003e\\u003c\\u002fextra\\u003e\",\"legendgroup\":\"Kerala\",\"marker\":{\"color\":\"rgb(85,168,104)\"},\"name\":\"Kerala\",\"notched\":false,\"offsetgroup\":\"Kerala\",\"orientation\":\"v\",\"showlegend\":true,\"x\":[\"Kerala\",\"Kerala\",\"Kerala\",\"Kerala\",\"Kerala\",\"Kerala\",\"Kerala\",\"Kerala\",\"Kerala\",\"Kerala\",\"Kerala\",\"Kerala\",\"Kerala\",\"Kerala\",\"Kerala\",\"Kerala\",\"Kerala\",\"Kerala\",\"Kerala\",\"Kerala\",\"Kerala\",\"Kerala\",\"Kerala\",\"Kerala\",\"Kerala\",\"Kerala\",\"Kerala\",\"Kerala\"],\"x0\":\" \",\"xaxis\":\"x\",\"y\":[6.63,9.0,4.95,10.32,5.35,9.14,5.0,10.77,4.11,8.91,8.85,10.71,23.38,27.66,6.11,6.67,7.58,7.69,5.52,5.35,6.71,7.31,6.65,6.08,9.14,21.43,30.28,12.17],\"y0\":\" \",\"yaxis\":\"y\",\"type\":\"box\"},{\"alignmentgroup\":\"True\",\"hovertemplate\":\"state=%{x}\\u003cbr\\u003eestimated unemployment rate=%{y}\\u003cextra\\u003e\\u003c\\u002fextra\\u003e\",\"legendgroup\":\"Madhya Pradesh\",\"marker\":{\"color\":\"rgb(196,78,82)\"},\"name\":\"Madhya Pradesh\",\"notched\":false,\"offsetgroup\":\"Madhya Pradesh\",\"orientation\":\"v\",\"showlegend\":true,\"x\":[\"Madhya Pradesh\",\"Madhya Pradesh\",\"Madhya Pradesh\",\"Madhya Pradesh\",\"Madhya Pradesh\",\"Madhya Pradesh\",\"Madhya Pradesh\",\"Madhya Pradesh\",\"Madhya Pradesh\",\"Madhya Pradesh\",\"Madhya Pradesh\",\"Madhya Pradesh\",\"Madhya Pradesh\",\"Madhya Pradesh\",\"Madhya Pradesh\",\"Madhya Pradesh\",\"Madhya Pradesh\",\"Madhya Pradesh\",\"Madhya Pradesh\",\"Madhya Pradesh\",\"Madhya Pradesh\",\"Madhya Pradesh\",\"Madhya Pradesh\",\"Madhya Pradesh\",\"Madhya Pradesh\",\"Madhya Pradesh\",\"Madhya Pradesh\",\"Madhya Pradesh\"],\"x0\":\" \",\"xaxis\":\"x\",\"y\":[3.63,4.25,3.92,4.94,3.08,2.98,2.72,2.94,3.66,4.42,1.19,12.5,22.46,6.46,3.91,6.38,7.38,6.82,7.0,4.4,6.06,6.2,5.17,4.96,4.8,11.94,40.49,12.72],\"y0\":\" \",\"yaxis\":\"y\",\"type\":\"box\"},{\"alignmentgroup\":\"True\",\"hovertemplate\":\"state=%{x}\\u003cbr\\u003eestimated unemployment rate=%{y}\\u003cextra\\u003e\\u003c\\u002fextra\\u003e\",\"legendgroup\":\"Maharashtra\",\"marker\":{\"color\":\"rgb(129,114,179)\"},\"name\":\"Maharashtra\",\"notched\":false,\"offsetgroup\":\"Maharashtra\",\"orientation\":\"v\",\"showlegend\":true,\"x\":[\"Maharashtra\",\"Maharashtra\",\"Maharashtra\",\"Maharashtra\",\"Maharashtra\",\"Maharashtra\",\"Maharashtra\",\"Maharashtra\",\"Maharashtra\",\"Maharashtra\",\"Maharashtra\",\"Maharashtra\",\"Maharashtra\",\"Maharashtra\",\"Maharashtra\",\"Maharashtra\",\"Maharashtra\",\"Maharashtra\",\"Maharashtra\",\"Maharashtra\",\"Maharashtra\",\"Maharashtra\",\"Maharashtra\",\"Maharashtra\",\"Maharashtra\",\"Maharashtra\",\"Maharashtra\",\"Maharashtra\"],\"x0\":\" \",\"xaxis\":\"x\",\"y\":[3.67,4.34,3.66,3.76,4.4,3.81,3.68,3.03,3.8,4.24,5.38,25.28,16.89,9.4,6.08,6.46,6.35,7.57,7.6,7.51,7.6,7.83,6.67,5.34,6.34,14.99,15.92,10.01],\"y0\":\" \",\"yaxis\":\"y\",\"type\":\"box\"},{\"alignmentgroup\":\"True\",\"hovertemplate\":\"state=%{x}\\u003cbr\\u003eestimated unemployment rate=%{y}\\u003cextra\\u003e\\u003c\\u002fextra\\u003e\",\"legendgroup\":\"Meghalaya\",\"marker\":{\"color\":\"rgb(147,120,96)\"},\"name\":\"Meghalaya\",\"notched\":false,\"offsetgroup\":\"Meghalaya\",\"orientation\":\"v\",\"showlegend\":true,\"x\":[\"Meghalaya\",\"Meghalaya\",\"Meghalaya\",\"Meghalaya\",\"Meghalaya\",\"Meghalaya\",\"Meghalaya\",\"Meghalaya\",\"Meghalaya\",\"Meghalaya\",\"Meghalaya\",\"Meghalaya\",\"Meghalaya\",\"Meghalaya\",\"Meghalaya\",\"Meghalaya\",\"Meghalaya\",\"Meghalaya\",\"Meghalaya\",\"Meghalaya\",\"Meghalaya\",\"Meghalaya\",\"Meghalaya\",\"Meghalaya\",\"Meghalaya\",\"Meghalaya\",\"Meghalaya\"],\"x0\":\" \",\"xaxis\":\"x\",\"y\":[3.16,4.23,1.03,0.52,0.24,3.7,1.5,1.8,0.97,2.76,1.28,8.38,3.73,1.35,8.4,8.66,4.43,5.8,5.3,7.2,3.02,5.21,4.76,7.37,2.8,17.39,14.58],\"y0\":\" \",\"yaxis\":\"y\",\"type\":\"box\"},{\"alignmentgroup\":\"True\",\"hovertemplate\":\"state=%{x}\\u003cbr\\u003eestimated unemployment rate=%{y}\\u003cextra\\u003e\\u003c\\u002fextra\\u003e\",\"legendgroup\":\"Odisha\",\"marker\":{\"color\":\"rgb(218,139,195)\"},\"name\":\"Odisha\",\"notched\":false,\"offsetgroup\":\"Odisha\",\"orientation\":\"v\",\"showlegend\":true,\"x\":[\"Odisha\",\"Odisha\",\"Odisha\",\"Odisha\",\"Odisha\",\"Odisha\",\"Odisha\",\"Odisha\",\"Odisha\",\"Odisha\",\"Odisha\",\"Odisha\",\"Odisha\",\"Odisha\",\"Odisha\",\"Odisha\",\"Odisha\",\"Odisha\",\"Odisha\",\"Odisha\",\"Odisha\",\"Odisha\",\"Odisha\",\"Odisha\",\"Odisha\",\"Odisha\",\"Odisha\",\"Odisha\"],\"x0\":\" \",\"xaxis\":\"x\",\"y\":[4.17,4.71,3.31,3.68,4.31,4.28,4.72,4.67,1.81,3.31,15.09,24.48,9.45,4.59,2.95,2.63,1.78,3.5,3.78,4.5,2.23,3.36,2.28,2.19,3.96,20.5,10.0,2.18],\"y0\":\" \",\"yaxis\":\"y\",\"type\":\"box\"},{\"alignmentgroup\":\"True\",\"hovertemplate\":\"state=%{x}\\u003cbr\\u003eestimated unemployment rate=%{y}\\u003cextra\\u003e\\u003c\\u002fextra\\u003e\",\"legendgroup\":\"Puducherry\",\"marker\":{\"color\":\"rgb(140,140,140)\"},\"name\":\"Puducherry\",\"notched\":false,\"offsetgroup\":\"Puducherry\",\"orientation\":\"v\",\"showlegend\":true,\"x\":[\"Puducherry\",\"Puducherry\",\"Puducherry\",\"Puducherry\",\"Puducherry\",\"Puducherry\",\"Puducherry\",\"Puducherry\",\"Puducherry\",\"Puducherry\",\"Puducherry\",\"Puducherry\",\"Puducherry\",\"Puducherry\",\"Puducherry\",\"Puducherry\",\"Puducherry\",\"Puducherry\",\"Puducherry\",\"Puducherry\",\"Puducherry\",\"Puducherry\",\"Puducherry\",\"Puducherry\",\"Puducherry\",\"Puducherry\"],\"x0\":\" \",\"xaxis\":\"x\",\"y\":[0.0,0.0,0.0,4.85,0.0,1.18,0.0,1.99,0.58,1.74,2.31,74.51,1.25,0.0,0.0,8.95,1.22,1.17,1.37,5.21,0.57,1.78,0.62,76.74,75.0,4.55],\"y0\":\" \",\"yaxis\":\"y\",\"type\":\"box\"},{\"alignmentgroup\":\"True\",\"hovertemplate\":\"state=%{x}\\u003cbr\\u003eestimated unemployment rate=%{y}\\u003cextra\\u003e\\u003c\\u002fextra\\u003e\",\"legendgroup\":\"Punjab\",\"marker\":{\"color\":\"rgb(204,185,116)\"},\"name\":\"Punjab\",\"notched\":false,\"offsetgroup\":\"Punjab\",\"orientation\":\"v\",\"showlegend\":true,\"x\":[\"Punjab\",\"Punjab\",\"Punjab\",\"Punjab\",\"Punjab\",\"Punjab\",\"Punjab\",\"Punjab\",\"Punjab\",\"Punjab\",\"Punjab\",\"Punjab\",\"Punjab\",\"Punjab\",\"Punjab\",\"Punjab\",\"Punjab\",\"Punjab\",\"Punjab\",\"Punjab\",\"Punjab\",\"Punjab\",\"Punjab\",\"Punjab\",\"Punjab\",\"Punjab\",\"Punjab\",\"Punjab\"],\"x0\":\" \",\"xaxis\":\"x\",\"y\":[9.17,12.21,9.64,6.69,8.59,12.56,7.07,6.13,9.69,10.41,10.51,3.69,40.59,20.0,13.49,13.17,11.61,11.99,15.69,13.75,10.39,11.97,13.68,11.99,9.97,1.13,20.54,10.55],\"y0\":\" \",\"yaxis\":\"y\",\"type\":\"box\"},{\"alignmentgroup\":\"True\",\"hovertemplate\":\"state=%{x}\\u003cbr\\u003eestimated unemployment rate=%{y}\\u003cextra\\u003e\\u003c\\u002fextra\\u003e\",\"legendgroup\":\"Rajasthan\",\"marker\":{\"color\":\"rgb(100,181,205)\"},\"name\":\"Rajasthan\",\"notched\":false,\"offsetgroup\":\"Rajasthan\",\"orientation\":\"v\",\"showlegend\":true,\"x\":[\"Rajasthan\",\"Rajasthan\",\"Rajasthan\",\"Rajasthan\",\"Rajasthan\",\"Rajasthan\",\"Rajasthan\",\"Rajasthan\",\"Rajasthan\",\"Rajasthan\",\"Rajasthan\",\"Rajasthan\",\"Rajasthan\",\"Rajasthan\",\"Rajasthan\",\"Rajasthan\",\"Rajasthan\",\"Rajasthan\",\"Rajasthan\",\"Rajasthan\",\"Rajasthan\",\"Rajasthan\",\"Rajasthan\",\"Rajasthan\",\"Rajasthan\",\"Rajasthan\",\"Rajasthan\",\"Rajasthan\"],\"x0\":\" \",\"xaxis\":\"x\",\"y\":[4.03,13.7,9.7,12.5,5.45,14.66,10.47,13.96,8.0,14.48,9.47,12.25,10.45,13.86,13.62,14.36,11.67,14.71,12.63,13.02,14.3,18.04,18.82,17.02,18.54,35.53,25.35,13.04],\"y0\":\" \",\"yaxis\":\"y\",\"type\":\"box\"},{\"alignmentgroup\":\"True\",\"hovertemplate\":\"state=%{x}\\u003cbr\\u003eestimated unemployment rate=%{y}\\u003cextra\\u003e\\u003c\\u002fextra\\u003e\",\"legendgroup\":\"Sikkim\",\"marker\":{\"color\":\"rgb(76,114,176)\"},\"name\":\"Sikkim\",\"notched\":false,\"offsetgroup\":\"Sikkim\",\"orientation\":\"v\",\"showlegend\":true,\"x\":[\"Sikkim\",\"Sikkim\",\"Sikkim\",\"Sikkim\",\"Sikkim\",\"Sikkim\",\"Sikkim\",\"Sikkim\",\"Sikkim\",\"Sikkim\",\"Sikkim\",\"Sikkim\",\"Sikkim\",\"Sikkim\",\"Sikkim\",\"Sikkim\",\"Sikkim\"],\"x0\":\" \",\"xaxis\":\"x\",\"y\":[5.48,13.11,1.0,0.0,5.81,8.2,7.76,2.56,4.82,4.81,9.68,4.04,7.37,20.45,5.77,19.75,2.63],\"y0\":\" \",\"yaxis\":\"y\",\"type\":\"box\"},{\"alignmentgroup\":\"True\",\"hovertemplate\":\"state=%{x}\\u003cbr\\u003eestimated unemployment rate=%{y}\\u003cextra\\u003e\\u003c\\u002fextra\\u003e\",\"legendgroup\":\"Tamil Nadu\",\"marker\":{\"color\":\"rgb(221,132,82)\"},\"name\":\"Tamil Nadu\",\"notched\":false,\"offsetgroup\":\"Tamil Nadu\",\"orientation\":\"v\",\"showlegend\":true,\"x\":[\"Tamil Nadu\",\"Tamil Nadu\",\"Tamil Nadu\",\"Tamil Nadu\",\"Tamil Nadu\",\"Tamil Nadu\",\"Tamil Nadu\",\"Tamil Nadu\",\"Tamil Nadu\",\"Tamil Nadu\",\"Tamil Nadu\",\"Tamil Nadu\",\"Tamil Nadu\",\"Tamil Nadu\",\"Tamil Nadu\",\"Tamil Nadu\",\"Tamil Nadu\",\"Tamil Nadu\",\"Tamil Nadu\",\"Tamil Nadu\",\"Tamil Nadu\",\"Tamil Nadu\",\"Tamil Nadu\",\"Tamil Nadu\",\"Tamil Nadu\",\"Tamil Nadu\",\"Tamil Nadu\",\"Tamil Nadu\"],\"x0\":\" \",\"xaxis\":\"x\",\"y\":[0.97,0.92,6.01,2.91,1.71,1.46,2.46,3.73,1.18,1.17,6.36,53.19,38.73,2.06,0.89,1.56,3.18,9.53,1.86,1.13,2.65,8.05,2.05,3.31,6.46,45.55,25.95,24.93],\"y0\":\" \",\"yaxis\":\"y\",\"type\":\"box\"},{\"alignmentgroup\":\"True\",\"hovertemplate\":\"state=%{x}\\u003cbr\\u003eestimated unemployment rate=%{y}\\u003cextra\\u003e\\u003c\\u002fextra\\u003e\",\"legendgroup\":\"Telangana\",\"marker\":{\"color\":\"rgb(85,168,104)\"},\"name\":\"Telangana\",\"notched\":false,\"offsetgroup\":\"Telangana\",\"orientation\":\"v\",\"showlegend\":true,\"x\":[\"Telangana\",\"Telangana\",\"Telangana\",\"Telangana\",\"Telangana\",\"Telangana\",\"Telangana\",\"Telangana\",\"Telangana\",\"Telangana\",\"Telangana\",\"Telangana\",\"Telangana\",\"Telangana\",\"Telangana\",\"Telangana\",\"Telangana\",\"Telangana\",\"Telangana\",\"Telangana\",\"Telangana\",\"Telangana\",\"Telangana\",\"Telangana\",\"Telangana\",\"Telangana\",\"Telangana\",\"Telangana\"],\"x0\":\" \",\"xaxis\":\"x\",\"y\":[2.23,5.92,2.45,1.4,5.49,7.29,6.47,1.35,5.02,9.02,5.63,4.51,34.01,19.3,1.52,1.43,3.73,4.19,6.19,6.74,5.23,4.22,6.49,6.74,6.1,10.5,36.57,6.92],\"y0\":\" \",\"yaxis\":\"y\",\"type\":\"box\"},{\"alignmentgroup\":\"True\",\"hovertemplate\":\"state=%{x}\\u003cbr\\u003eestimated unemployment rate=%{y}\\u003cextra\\u003e\\u003c\\u002fextra\\u003e\",\"legendgroup\":\"Tripura\",\"marker\":{\"color\":\"rgb(196,78,82)\"},\"name\":\"Tripura\",\"notched\":false,\"offsetgroup\":\"Tripura\",\"orientation\":\"v\",\"showlegend\":true,\"x\":[\"Tripura\",\"Tripura\",\"Tripura\",\"Tripura\",\"Tripura\",\"Tripura\",\"Tripura\",\"Tripura\",\"Tripura\",\"Tripura\",\"Tripura\",\"Tripura\",\"Tripura\",\"Tripura\",\"Tripura\",\"Tripura\",\"Tripura\",\"Tripura\",\"Tripura\",\"Tripura\",\"Tripura\",\"Tripura\",\"Tripura\",\"Tripura\",\"Tripura\",\"Tripura\",\"Tripura\",\"Tripura\"],\"x0\":\" \",\"xaxis\":\"x\",\"y\":[29.25,26.64,22.47,25.49,30.23,27.54,25.25,26.53,31.91,26.22,31.61,43.64,14.71,18.84,34.69,25.59,25.81,33.45,33.57,26.67,27.15,33.48,34.37,33.88,25.69,34.88,16.78,27.47],\"y0\":\" \",\"yaxis\":\"y\",\"type\":\"box\"},{\"alignmentgroup\":\"True\",\"hovertemplate\":\"state=%{x}\\u003cbr\\u003eestimated unemployment rate=%{y}\\u003cextra\\u003e\\u003c\\u002fextra\\u003e\",\"legendgroup\":\"Uttar Pradesh\",\"marker\":{\"color\":\"rgb(129,114,179)\"},\"name\":\"Uttar Pradesh\",\"notched\":false,\"offsetgroup\":\"Uttar Pradesh\",\"orientation\":\"v\",\"showlegend\":true,\"x\":[\"Uttar Pradesh\",\"Uttar Pradesh\",\"Uttar Pradesh\",\"Uttar Pradesh\",\"Uttar Pradesh\",\"Uttar Pradesh\",\"Uttar Pradesh\",\"Uttar Pradesh\",\"Uttar Pradesh\",\"Uttar Pradesh\",\"Uttar Pradesh\",\"Uttar Pradesh\",\"Uttar Pradesh\",\"Uttar Pradesh\",\"Uttar Pradesh\",\"Uttar Pradesh\",\"Uttar Pradesh\",\"Uttar Pradesh\",\"Uttar Pradesh\",\"Uttar Pradesh\",\"Uttar Pradesh\",\"Uttar Pradesh\",\"Uttar Pradesh\",\"Uttar Pradesh\",\"Uttar Pradesh\",\"Uttar Pradesh\",\"Uttar Pradesh\",\"Uttar Pradesh\"],\"x0\":\" \",\"xaxis\":\"x\",\"y\":[10.26,11.13,9.19,11.47,6.45,10.18,6.94,8.43,6.06,8.12,9.37,19.92,16.89,8.51,14.4,11.62,11.8,14.73,13.58,10.35,11.31,12.37,12.34,11.65,12.32,26.94,32.06,13.05],\"y0\":\" \",\"yaxis\":\"y\",\"type\":\"box\"},{\"alignmentgroup\":\"True\",\"hovertemplate\":\"state=%{x}\\u003cbr\\u003eestimated unemployment rate=%{y}\\u003cextra\\u003e\\u003c\\u002fextra\\u003e\",\"legendgroup\":\"Uttarakhand\",\"marker\":{\"color\":\"rgb(147,120,96)\"},\"name\":\"Uttarakhand\",\"notched\":false,\"offsetgroup\":\"Uttarakhand\",\"orientation\":\"v\",\"showlegend\":true,\"x\":[\"Uttarakhand\",\"Uttarakhand\",\"Uttarakhand\",\"Uttarakhand\",\"Uttarakhand\",\"Uttarakhand\",\"Uttarakhand\",\"Uttarakhand\",\"Uttarakhand\",\"Uttarakhand\",\"Uttarakhand\",\"Uttarakhand\",\"Uttarakhand\",\"Uttarakhand\",\"Uttarakhand\",\"Uttarakhand\",\"Uttarakhand\",\"Uttarakhand\",\"Uttarakhand\",\"Uttarakhand\",\"Uttarakhand\",\"Uttarakhand\",\"Uttarakhand\",\"Uttarakhand\",\"Uttarakhand\",\"Uttarakhand\",\"Uttarakhand\"],\"x0\":\" \",\"xaxis\":\"x\",\"y\":[1.63,4.65,5.74,6.11,3.47,4.83,5.56,4.52,4.17,4.85,3.66,3.57,10.71,9.17,4.69,6.94,7.43,9.62,4.72,6.34,7.39,8.92,5.28,8.15,13.18,17.36,5.08],\"y0\":\" \",\"yaxis\":\"y\",\"type\":\"box\"},{\"alignmentgroup\":\"True\",\"hovertemplate\":\"state=%{x}\\u003cbr\\u003eestimated unemployment rate=%{y}\\u003cextra\\u003e\\u003c\\u002fextra\\u003e\",\"legendgroup\":\"West Bengal\",\"marker\":{\"color\":\"rgb(218,139,195)\"},\"name\":\"West Bengal\",\"notched\":false,\"offsetgroup\":\"West Bengal\",\"orientation\":\"v\",\"showlegend\":true,\"x\":[\"West Bengal\",\"West Bengal\",\"West Bengal\",\"West Bengal\",\"West Bengal\",\"West Bengal\",\"West Bengal\",\"West Bengal\",\"West Bengal\",\"West Bengal\",\"West Bengal\",\"West Bengal\",\"West Bengal\",\"West Bengal\",\"West Bengal\",\"West Bengal\",\"West Bengal\",\"West Bengal\",\"West Bengal\",\"West Bengal\",\"West Bengal\",\"West Bengal\",\"West Bengal\",\"West Bengal\",\"West Bengal\",\"West Bengal\",\"West Bengal\",\"West Bengal\"],\"x0\":\" \",\"xaxis\":\"x\",\"y\":[6.02,5.85,5.62,5.58,5.26,6.78,5.83,5.79,6.79,3.78,7.02,18.32,18.43,4.94,7.25,7.38,7.91,7.27,7.79,7.83,6.61,7.24,7.27,7.55,6.67,15.63,15.22,9.86],\"y0\":\" \",\"yaxis\":\"y\",\"type\":\"box\"},{\"alignmentgroup\":\"True\",\"hovertemplate\":\"state=%{x}\\u003cbr\\u003eestimated unemployment rate=%{y}\\u003cextra\\u003e\\u003c\\u002fextra\\u003e\",\"legendgroup\":\"Chandigarh\",\"marker\":{\"color\":\"rgb(140,140,140)\"},\"name\":\"Chandigarh\",\"notched\":false,\"offsetgroup\":\"Chandigarh\",\"orientation\":\"v\",\"showlegend\":true,\"x\":[\"Chandigarh\",\"Chandigarh\",\"Chandigarh\",\"Chandigarh\",\"Chandigarh\",\"Chandigarh\",\"Chandigarh\",\"Chandigarh\",\"Chandigarh\",\"Chandigarh\",\"Chandigarh\",\"Chandigarh\"],\"x0\":\" \",\"xaxis\":\"x\",\"y\":[18.35,12.4,21.8,9.52,20.14,13.99,22.05,8.33,20.0,16.67,21.43,7.22],\"y0\":\" \",\"yaxis\":\"y\",\"type\":\"box\"}],                        {\"template\":{\"data\":{\"barpolar\":[{\"marker\":{\"line\":{\"color\":\"rgb(234,234,242)\",\"width\":0.5},\"pattern\":{\"fillmode\":\"overlay\",\"size\":10,\"solidity\":0.2}},\"type\":\"barpolar\"}],\"bar\":[{\"error_x\":{\"color\":\"rgb(36,36,36)\"},\"error_y\":{\"color\":\"rgb(36,36,36)\"},\"marker\":{\"line\":{\"color\":\"rgb(234,234,242)\",\"width\":0.5},\"pattern\":{\"fillmode\":\"overlay\",\"size\":10,\"solidity\":0.2}},\"type\":\"bar\"}],\"carpet\":[{\"aaxis\":{\"endlinecolor\":\"rgb(36,36,36)\",\"gridcolor\":\"white\",\"linecolor\":\"white\",\"minorgridcolor\":\"white\",\"startlinecolor\":\"rgb(36,36,36)\"},\"baxis\":{\"endlinecolor\":\"rgb(36,36,36)\",\"gridcolor\":\"white\",\"linecolor\":\"white\",\"minorgridcolor\":\"white\",\"startlinecolor\":\"rgb(36,36,36)\"},\"type\":\"carpet\"}],\"choropleth\":[{\"colorbar\":{\"outlinewidth\":0,\"tickcolor\":\"rgb(36,36,36)\",\"ticklen\":8,\"ticks\":\"outside\",\"tickwidth\":2},\"type\":\"choropleth\"}],\"contourcarpet\":[{\"colorbar\":{\"outlinewidth\":0,\"tickcolor\":\"rgb(36,36,36)\",\"ticklen\":8,\"ticks\":\"outside\",\"tickwidth\":2},\"type\":\"contourcarpet\"}],\"contour\":[{\"colorbar\":{\"outlinewidth\":0,\"tickcolor\":\"rgb(36,36,36)\",\"ticklen\":8,\"ticks\":\"outside\",\"tickwidth\":2},\"colorscale\":[[0.0,\"rgb(2,4,25)\"],[0.06274509803921569,\"rgb(24,15,41)\"],[0.12549019607843137,\"rgb(47,23,57)\"],[0.18823529411764706,\"rgb(71,28,72)\"],[0.25098039215686274,\"rgb(97,30,82)\"],[0.3137254901960784,\"rgb(123,30,89)\"],[0.3764705882352941,\"rgb(150,27,91)\"],[0.4392156862745098,\"rgb(177,22,88)\"],[0.5019607843137255,\"rgb(203,26,79)\"],[0.5647058823529412,\"rgb(223,47,67)\"],[0.6274509803921569,\"rgb(236,76,61)\"],[0.6901960784313725,\"rgb(242,107,73)\"],[0.7529411764705882,\"rgb(244,135,95)\"],[0.8156862745098039,\"rgb(245,162,122)\"],[0.8784313725490196,\"rgb(246,188,153)\"],[0.9411764705882353,\"rgb(247,212,187)\"],[1.0,\"rgb(250,234,220)\"]],\"type\":\"contour\"}],\"heatmapgl\":[{\"colorbar\":{\"outlinewidth\":0,\"tickcolor\":\"rgb(36,36,36)\",\"ticklen\":8,\"ticks\":\"outside\",\"tickwidth\":2},\"colorscale\":[[0.0,\"rgb(2,4,25)\"],[0.06274509803921569,\"rgb(24,15,41)\"],[0.12549019607843137,\"rgb(47,23,57)\"],[0.18823529411764706,\"rgb(71,28,72)\"],[0.25098039215686274,\"rgb(97,30,82)\"],[0.3137254901960784,\"rgb(123,30,89)\"],[0.3764705882352941,\"rgb(150,27,91)\"],[0.4392156862745098,\"rgb(177,22,88)\"],[0.5019607843137255,\"rgb(203,26,79)\"],[0.5647058823529412,\"rgb(223,47,67)\"],[0.6274509803921569,\"rgb(236,76,61)\"],[0.6901960784313725,\"rgb(242,107,73)\"],[0.7529411764705882,\"rgb(244,135,95)\"],[0.8156862745098039,\"rgb(245,162,122)\"],[0.8784313725490196,\"rgb(246,188,153)\"],[0.9411764705882353,\"rgb(247,212,187)\"],[1.0,\"rgb(250,234,220)\"]],\"type\":\"heatmapgl\"}],\"heatmap\":[{\"colorbar\":{\"outlinewidth\":0,\"tickcolor\":\"rgb(36,36,36)\",\"ticklen\":8,\"ticks\":\"outside\",\"tickwidth\":2},\"colorscale\":[[0.0,\"rgb(2,4,25)\"],[0.06274509803921569,\"rgb(24,15,41)\"],[0.12549019607843137,\"rgb(47,23,57)\"],[0.18823529411764706,\"rgb(71,28,72)\"],[0.25098039215686274,\"rgb(97,30,82)\"],[0.3137254901960784,\"rgb(123,30,89)\"],[0.3764705882352941,\"rgb(150,27,91)\"],[0.4392156862745098,\"rgb(177,22,88)\"],[0.5019607843137255,\"rgb(203,26,79)\"],[0.5647058823529412,\"rgb(223,47,67)\"],[0.6274509803921569,\"rgb(236,76,61)\"],[0.6901960784313725,\"rgb(242,107,73)\"],[0.7529411764705882,\"rgb(244,135,95)\"],[0.8156862745098039,\"rgb(245,162,122)\"],[0.8784313725490196,\"rgb(246,188,153)\"],[0.9411764705882353,\"rgb(247,212,187)\"],[1.0,\"rgb(250,234,220)\"]],\"type\":\"heatmap\"}],\"histogram2dcontour\":[{\"colorbar\":{\"outlinewidth\":0,\"tickcolor\":\"rgb(36,36,36)\",\"ticklen\":8,\"ticks\":\"outside\",\"tickwidth\":2},\"colorscale\":[[0.0,\"rgb(2,4,25)\"],[0.06274509803921569,\"rgb(24,15,41)\"],[0.12549019607843137,\"rgb(47,23,57)\"],[0.18823529411764706,\"rgb(71,28,72)\"],[0.25098039215686274,\"rgb(97,30,82)\"],[0.3137254901960784,\"rgb(123,30,89)\"],[0.3764705882352941,\"rgb(150,27,91)\"],[0.4392156862745098,\"rgb(177,22,88)\"],[0.5019607843137255,\"rgb(203,26,79)\"],[0.5647058823529412,\"rgb(223,47,67)\"],[0.6274509803921569,\"rgb(236,76,61)\"],[0.6901960784313725,\"rgb(242,107,73)\"],[0.7529411764705882,\"rgb(244,135,95)\"],[0.8156862745098039,\"rgb(245,162,122)\"],[0.8784313725490196,\"rgb(246,188,153)\"],[0.9411764705882353,\"rgb(247,212,187)\"],[1.0,\"rgb(250,234,220)\"]],\"type\":\"histogram2dcontour\"}],\"histogram2d\":[{\"colorbar\":{\"outlinewidth\":0,\"tickcolor\":\"rgb(36,36,36)\",\"ticklen\":8,\"ticks\":\"outside\",\"tickwidth\":2},\"colorscale\":[[0.0,\"rgb(2,4,25)\"],[0.06274509803921569,\"rgb(24,15,41)\"],[0.12549019607843137,\"rgb(47,23,57)\"],[0.18823529411764706,\"rgb(71,28,72)\"],[0.25098039215686274,\"rgb(97,30,82)\"],[0.3137254901960784,\"rgb(123,30,89)\"],[0.3764705882352941,\"rgb(150,27,91)\"],[0.4392156862745098,\"rgb(177,22,88)\"],[0.5019607843137255,\"rgb(203,26,79)\"],[0.5647058823529412,\"rgb(223,47,67)\"],[0.6274509803921569,\"rgb(236,76,61)\"],[0.6901960784313725,\"rgb(242,107,73)\"],[0.7529411764705882,\"rgb(244,135,95)\"],[0.8156862745098039,\"rgb(245,162,122)\"],[0.8784313725490196,\"rgb(246,188,153)\"],[0.9411764705882353,\"rgb(247,212,187)\"],[1.0,\"rgb(250,234,220)\"]],\"type\":\"histogram2d\"}],\"histogram\":[{\"marker\":{\"pattern\":{\"fillmode\":\"overlay\",\"size\":10,\"solidity\":0.2}},\"type\":\"histogram\"}],\"mesh3d\":[{\"colorbar\":{\"outlinewidth\":0,\"tickcolor\":\"rgb(36,36,36)\",\"ticklen\":8,\"ticks\":\"outside\",\"tickwidth\":2},\"type\":\"mesh3d\"}],\"parcoords\":[{\"line\":{\"colorbar\":{\"outlinewidth\":0,\"tickcolor\":\"rgb(36,36,36)\",\"ticklen\":8,\"ticks\":\"outside\",\"tickwidth\":2}},\"type\":\"parcoords\"}],\"pie\":[{\"automargin\":true,\"type\":\"pie\"}],\"scatter3d\":[{\"line\":{\"colorbar\":{\"outlinewidth\":0,\"tickcolor\":\"rgb(36,36,36)\",\"ticklen\":8,\"ticks\":\"outside\",\"tickwidth\":2}},\"marker\":{\"colorbar\":{\"outlinewidth\":0,\"tickcolor\":\"rgb(36,36,36)\",\"ticklen\":8,\"ticks\":\"outside\",\"tickwidth\":2}},\"type\":\"scatter3d\"}],\"scattercarpet\":[{\"marker\":{\"colorbar\":{\"outlinewidth\":0,\"tickcolor\":\"rgb(36,36,36)\",\"ticklen\":8,\"ticks\":\"outside\",\"tickwidth\":2}},\"type\":\"scattercarpet\"}],\"scattergeo\":[{\"marker\":{\"colorbar\":{\"outlinewidth\":0,\"tickcolor\":\"rgb(36,36,36)\",\"ticklen\":8,\"ticks\":\"outside\",\"tickwidth\":2}},\"type\":\"scattergeo\"}],\"scattergl\":[{\"marker\":{\"colorbar\":{\"outlinewidth\":0,\"tickcolor\":\"rgb(36,36,36)\",\"ticklen\":8,\"ticks\":\"outside\",\"tickwidth\":2}},\"type\":\"scattergl\"}],\"scattermapbox\":[{\"marker\":{\"colorbar\":{\"outlinewidth\":0,\"tickcolor\":\"rgb(36,36,36)\",\"ticklen\":8,\"ticks\":\"outside\",\"tickwidth\":2}},\"type\":\"scattermapbox\"}],\"scatterpolargl\":[{\"marker\":{\"colorbar\":{\"outlinewidth\":0,\"tickcolor\":\"rgb(36,36,36)\",\"ticklen\":8,\"ticks\":\"outside\",\"tickwidth\":2}},\"type\":\"scatterpolargl\"}],\"scatterpolar\":[{\"marker\":{\"colorbar\":{\"outlinewidth\":0,\"tickcolor\":\"rgb(36,36,36)\",\"ticklen\":8,\"ticks\":\"outside\",\"tickwidth\":2}},\"type\":\"scatterpolar\"}],\"scatter\":[{\"fillpattern\":{\"fillmode\":\"overlay\",\"size\":10,\"solidity\":0.2},\"type\":\"scatter\"}],\"scatterternary\":[{\"marker\":{\"colorbar\":{\"outlinewidth\":0,\"tickcolor\":\"rgb(36,36,36)\",\"ticklen\":8,\"ticks\":\"outside\",\"tickwidth\":2}},\"type\":\"scatterternary\"}],\"surface\":[{\"colorbar\":{\"outlinewidth\":0,\"tickcolor\":\"rgb(36,36,36)\",\"ticklen\":8,\"ticks\":\"outside\",\"tickwidth\":2},\"colorscale\":[[0.0,\"rgb(2,4,25)\"],[0.06274509803921569,\"rgb(24,15,41)\"],[0.12549019607843137,\"rgb(47,23,57)\"],[0.18823529411764706,\"rgb(71,28,72)\"],[0.25098039215686274,\"rgb(97,30,82)\"],[0.3137254901960784,\"rgb(123,30,89)\"],[0.3764705882352941,\"rgb(150,27,91)\"],[0.4392156862745098,\"rgb(177,22,88)\"],[0.5019607843137255,\"rgb(203,26,79)\"],[0.5647058823529412,\"rgb(223,47,67)\"],[0.6274509803921569,\"rgb(236,76,61)\"],[0.6901960784313725,\"rgb(242,107,73)\"],[0.7529411764705882,\"rgb(244,135,95)\"],[0.8156862745098039,\"rgb(245,162,122)\"],[0.8784313725490196,\"rgb(246,188,153)\"],[0.9411764705882353,\"rgb(247,212,187)\"],[1.0,\"rgb(250,234,220)\"]],\"type\":\"surface\"}],\"table\":[{\"cells\":{\"fill\":{\"color\":\"rgb(231,231,240)\"},\"line\":{\"color\":\"white\"}},\"header\":{\"fill\":{\"color\":\"rgb(183,183,191)\"},\"line\":{\"color\":\"white\"}},\"type\":\"table\"}]},\"layout\":{\"annotationdefaults\":{\"arrowcolor\":\"rgb(67,103,167)\"},\"autotypenumbers\":\"strict\",\"coloraxis\":{\"colorbar\":{\"outlinewidth\":0,\"tickcolor\":\"rgb(36,36,36)\",\"ticklen\":8,\"ticks\":\"outside\",\"tickwidth\":2}},\"colorscale\":{\"sequential\":[[0.0,\"rgb(2,4,25)\"],[0.06274509803921569,\"rgb(24,15,41)\"],[0.12549019607843137,\"rgb(47,23,57)\"],[0.18823529411764706,\"rgb(71,28,72)\"],[0.25098039215686274,\"rgb(97,30,82)\"],[0.3137254901960784,\"rgb(123,30,89)\"],[0.3764705882352941,\"rgb(150,27,91)\"],[0.4392156862745098,\"rgb(177,22,88)\"],[0.5019607843137255,\"rgb(203,26,79)\"],[0.5647058823529412,\"rgb(223,47,67)\"],[0.6274509803921569,\"rgb(236,76,61)\"],[0.6901960784313725,\"rgb(242,107,73)\"],[0.7529411764705882,\"rgb(244,135,95)\"],[0.8156862745098039,\"rgb(245,162,122)\"],[0.8784313725490196,\"rgb(246,188,153)\"],[0.9411764705882353,\"rgb(247,212,187)\"],[1.0,\"rgb(250,234,220)\"]],\"sequentialminus\":[[0.0,\"rgb(2,4,25)\"],[0.06274509803921569,\"rgb(24,15,41)\"],[0.12549019607843137,\"rgb(47,23,57)\"],[0.18823529411764706,\"rgb(71,28,72)\"],[0.25098039215686274,\"rgb(97,30,82)\"],[0.3137254901960784,\"rgb(123,30,89)\"],[0.3764705882352941,\"rgb(150,27,91)\"],[0.4392156862745098,\"rgb(177,22,88)\"],[0.5019607843137255,\"rgb(203,26,79)\"],[0.5647058823529412,\"rgb(223,47,67)\"],[0.6274509803921569,\"rgb(236,76,61)\"],[0.6901960784313725,\"rgb(242,107,73)\"],[0.7529411764705882,\"rgb(244,135,95)\"],[0.8156862745098039,\"rgb(245,162,122)\"],[0.8784313725490196,\"rgb(246,188,153)\"],[0.9411764705882353,\"rgb(247,212,187)\"],[1.0,\"rgb(250,234,220)\"]]},\"colorway\":[\"rgb(76,114,176)\",\"rgb(221,132,82)\",\"rgb(85,168,104)\",\"rgb(196,78,82)\",\"rgb(129,114,179)\",\"rgb(147,120,96)\",\"rgb(218,139,195)\",\"rgb(140,140,140)\",\"rgb(204,185,116)\",\"rgb(100,181,205)\"],\"font\":{\"color\":\"rgb(36,36,36)\"},\"geo\":{\"bgcolor\":\"white\",\"lakecolor\":\"white\",\"landcolor\":\"rgb(234,234,242)\",\"showlakes\":true,\"showland\":true,\"subunitcolor\":\"white\"},\"hoverlabel\":{\"align\":\"left\"},\"hovermode\":\"closest\",\"paper_bgcolor\":\"white\",\"plot_bgcolor\":\"rgb(234,234,242)\",\"polar\":{\"angularaxis\":{\"gridcolor\":\"white\",\"linecolor\":\"white\",\"showgrid\":true,\"ticks\":\"\"},\"bgcolor\":\"rgb(234,234,242)\",\"radialaxis\":{\"gridcolor\":\"white\",\"linecolor\":\"white\",\"showgrid\":true,\"ticks\":\"\"}},\"scene\":{\"xaxis\":{\"backgroundcolor\":\"rgb(234,234,242)\",\"gridcolor\":\"white\",\"gridwidth\":2,\"linecolor\":\"white\",\"showbackground\":true,\"showgrid\":true,\"ticks\":\"\",\"zerolinecolor\":\"white\"},\"yaxis\":{\"backgroundcolor\":\"rgb(234,234,242)\",\"gridcolor\":\"white\",\"gridwidth\":2,\"linecolor\":\"white\",\"showbackground\":true,\"showgrid\":true,\"ticks\":\"\",\"zerolinecolor\":\"white\"},\"zaxis\":{\"backgroundcolor\":\"rgb(234,234,242)\",\"gridcolor\":\"white\",\"gridwidth\":2,\"linecolor\":\"white\",\"showbackground\":true,\"showgrid\":true,\"ticks\":\"\",\"zerolinecolor\":\"white\"}},\"shapedefaults\":{\"fillcolor\":\"rgb(67,103,167)\",\"line\":{\"width\":0},\"opacity\":0.5},\"ternary\":{\"aaxis\":{\"gridcolor\":\"white\",\"linecolor\":\"white\",\"showgrid\":true,\"ticks\":\"\"},\"baxis\":{\"gridcolor\":\"white\",\"linecolor\":\"white\",\"showgrid\":true,\"ticks\":\"\"},\"bgcolor\":\"rgb(234,234,242)\",\"caxis\":{\"gridcolor\":\"white\",\"linecolor\":\"white\",\"showgrid\":true,\"ticks\":\"\"}},\"xaxis\":{\"automargin\":true,\"gridcolor\":\"white\",\"linecolor\":\"white\",\"showgrid\":true,\"ticks\":\"\",\"title\":{\"standoff\":15},\"zerolinecolor\":\"white\"},\"yaxis\":{\"automargin\":true,\"gridcolor\":\"white\",\"linecolor\":\"white\",\"showgrid\":true,\"ticks\":\"\",\"title\":{\"standoff\":15},\"zerolinecolor\":\"white\"}}},\"xaxis\":{\"anchor\":\"y\",\"domain\":[0.0,1.0],\"title\":{\"text\":\"state\"},\"categoryorder\":\"total descending\",\"categoryarray\":[\"Andhra Pradesh\",\"Assam\",\"Bihar\",\"Chhattisgarh\",\"Delhi\",\"Goa\",\"Gujarat\",\"Haryana\",\"Himachal Pradesh\",\"Jammu & Kashmir\",\"Jharkhand\",\"Karnataka\",\"Kerala\",\"Madhya Pradesh\",\"Maharashtra\",\"Meghalaya\",\"Odisha\",\"Puducherry\",\"Punjab\",\"Rajasthan\",\"Sikkim\",\"Tamil Nadu\",\"Telangana\",\"Tripura\",\"Uttar Pradesh\",\"Uttarakhand\",\"West Bengal\",\"Chandigarh\"]},\"yaxis\":{\"anchor\":\"x\",\"domain\":[0.0,1.0],\"title\":{\"text\":\"estimated unemployment rate\"}},\"legend\":{\"title\":{\"text\":\"state\"},\"tracegroupgap\":0},\"title\":{\"text\":\"Unemployment rate per States\"},\"boxmode\":\"overlay\"},                        {\"responsive\": true}                    ).then(function(){\n",
       "                            \n",
       "var gd = document.getElementById('55f19370-9c89-4b78-ab31-cb243c0a736c');\n",
       "var x = new MutationObserver(function (mutations, observer) {{\n",
       "        var display = window.getComputedStyle(gd).display;\n",
       "        if (!display || display === 'none') {{\n",
       "            console.log([gd, 'removed!']);\n",
       "            Plotly.purge(gd);\n",
       "            observer.disconnect();\n",
       "        }}\n",
       "}});\n",
       "\n",
       "// Listen for the removal of the full notebook cells\n",
       "var notebookContainer = gd.closest('#notebook-container');\n",
       "if (notebookContainer) {{\n",
       "    x.observe(notebookContainer, {childList: true});\n",
       "}}\n",
       "\n",
       "// Listen for the clearing of the current output cell\n",
       "var outputEl = gd.closest('.output');\n",
       "if (outputEl) {{\n",
       "    x.observe(outputEl, {childList: true});\n",
       "}}\n",
       "\n",
       "                        })                };                });            </script>        </div>"
      ]
     },
     "metadata": {},
     "output_type": "display_data"
    }
   ],
   "source": [
    "#Boxplot of Unemployment rate per States\n",
    "fig = px.box(df, x='state', y='estimated unemployment rate', color='state', title='Unemployment rate per States', template='seaborn')\n",
    "\n",
    "# Updating the x-axis category order to be in descending total\n",
    "fig.update_layout(xaxis={'categoryorder': 'total descending'})\n",
    "fig.show()"
   ]
  },
  {
   "cell_type": "code",
   "execution_count": 21,
   "id": "4d50a698",
   "metadata": {},
   "outputs": [
    {
     "data": {
      "application/vnd.plotly.v1+json": {
       "config": {
        "plotlyServerURL": "https://plot.ly"
       },
       "data": [
        {
         "dimensions": [
          {
           "axis": {
            "matches": true
           },
           "label": "estimated unemployment rate",
           "values": [
            3.65,
            3.05,
            3.75,
            3.32,
            5.17,
            3.52,
            4.12,
            4.38,
            4.84,
            5.91,
            4.06,
            16.29,
            14.46,
            0.85,
            4.29,
            5.08,
            4.26,
            5.79,
            4.46,
            4.65,
            4.66,
            4.29,
            3.26,
            3.77,
            9.38,
            0,
            9.27,
            10.2,
            13.44,
            11,
            8.87,
            12.47,
            12.4,
            10.16,
            9.13,
            9.61,
            15.39,
            45.09,
            47.26,
            20.49,
            9.82,
            6.76,
            4.54,
            4.64,
            8.33,
            6.96,
            2.77,
            6.11,
            9.89,
            7.89,
            7.31,
            0,
            7.64,
            10.14,
            12.56,
            9.33,
            11.07,
            17.18,
            12.5,
            15.84,
            11.11,
            16.97,
            13.48,
            13.81,
            15.18,
            20.69,
            22.76,
            21.14,
            2.91,
            5.45,
            10.98,
            1.98,
            3.61,
            7.21,
            23.71,
            3.54,
            5.38,
            0,
            15.91,
            20,
            2.88,
            4.77,
            4.58,
            3.7,
            6.29,
            4.91,
            4.68,
            3.46,
            5.35,
            6.64,
            7.59,
            12,
            14.58,
            1.41,
            14.54,
            23.08,
            16.22,
            30.94,
            16.36,
            24.17,
            16.59,
            29.56,
            16.21,
            27.19,
            23.92,
            41.61,
            34.22,
            35.57,
            13.68,
            11.43,
            20.59,
            18.56,
            15.98,
            15.81,
            22.86,
            19.46,
            16.67,
            15.42,
            17.71,
            2.13,
            25.64,
            1.12,
            12.78,
            12.09,
            13.67,
            11.32,
            19.27,
            14.73,
            22.19,
            21.23,
            16,
            2.22,
            18.97,
            7.11,
            8.46,
            9.98,
            12.06,
            7.12,
            6.57,
            8.07,
            15.15,
            6.16,
            9.06,
            5.01,
            41.72,
            55.1,
            21.53,
            5.46,
            5.98,
            0.52,
            0.37,
            3.2,
            7.13,
            1.19,
            0.41,
            2.57,
            4.11,
            2.39,
            33.17,
            23.72,
            10.92,
            6.63,
            9,
            4.95,
            10.32,
            5.35,
            9.14,
            5,
            10.77,
            4.11,
            8.91,
            8.85,
            10.71,
            23.38,
            27.66,
            3.63,
            4.25,
            3.92,
            4.94,
            3.08,
            2.98,
            2.72,
            2.94,
            3.66,
            4.42,
            1.19,
            12.5,
            22.46,
            6.46,
            3.67,
            4.34,
            3.66,
            3.76,
            4.4,
            3.81,
            3.68,
            3.03,
            3.8,
            4.24,
            5.38,
            25.28,
            16.89,
            9.4,
            3.16,
            4.23,
            1.03,
            0.52,
            0.24,
            3.7,
            1.5,
            1.8,
            0.97,
            2.76,
            1.28,
            8.38,
            3.73,
            1.35,
            4.17,
            4.71,
            3.31,
            3.68,
            4.31,
            4.28,
            4.72,
            4.67,
            1.81,
            3.31,
            15.09,
            24.48,
            9.45,
            4.59,
            0,
            0,
            0,
            4.85,
            0,
            1.18,
            0,
            1.99,
            0.58,
            1.74,
            2.31,
            74.51,
            9.17,
            12.21,
            9.64,
            6.69,
            8.59,
            12.56,
            7.07,
            6.13,
            9.69,
            10.41,
            10.51,
            3.69,
            40.59,
            20,
            4.03,
            13.7,
            9.7,
            12.5,
            5.45,
            14.66,
            10.47,
            13.96,
            8,
            14.48,
            9.47,
            12.25,
            10.45,
            13.86,
            5.48,
            13.11,
            1,
            0,
            5.81,
            0.97,
            0.92,
            6.01,
            2.91,
            1.71,
            1.46,
            2.46,
            3.73,
            1.18,
            1.17,
            6.36,
            53.19,
            38.73,
            2.06,
            2.23,
            5.92,
            2.45,
            1.4,
            5.49,
            7.29,
            6.47,
            1.35,
            5.02,
            9.02,
            5.63,
            4.51,
            34.01,
            19.3,
            29.25,
            26.64,
            22.47,
            25.49,
            30.23,
            27.54,
            25.25,
            26.53,
            31.91,
            26.22,
            31.61,
            43.64,
            14.71,
            18.84,
            10.26,
            11.13,
            9.19,
            11.47,
            6.45,
            10.18,
            6.94,
            8.43,
            6.06,
            8.12,
            9.37,
            19.92,
            16.89,
            8.51,
            1.63,
            4.65,
            5.74,
            6.11,
            3.47,
            4.83,
            5.56,
            4.52,
            4.17,
            4.85,
            3.66,
            3.57,
            10.71,
            6.02,
            5.85,
            5.62,
            5.58,
            5.26,
            6.78,
            5.83,
            5.79,
            6.79,
            3.78,
            7.02,
            18.32,
            18.43,
            4.94
           ]
          },
          {
           "axis": {
            "matches": true
           },
           "label": "estimated employed",
           "values": [
            11999139,
            11755881,
            12086707,
            12285693,
            12256762,
            12017412,
            11397681,
            12528395,
            12016676,
            11723617,
            11359660,
            8792827,
            9526902,
            15572975,
            11749334,
            8923222,
            9911534,
            9292039,
            11468349,
            8395906,
            9625362,
            11420996,
            8462814,
            9878742,
            9926176,
            7544937,
            24322330,
            24097712,
            23248875,
            22260203,
            23905700,
            24053140,
            22445989,
            22914530,
            23409006,
            23168192,
            22667882,
            14645275,
            14050319,
            20622566,
            6259019,
            6608626,
            6753622,
            6607694,
            6490776,
            7043840,
            6942931,
            6569385,
            6236201,
            6847173,
            6894808,
            6534321,
            5454091,
            5781095,
            169487,
            149076,
            166605,
            135407,
            166056,
            149511,
            178768,
            145671,
            157791,
            147500,
            152413,
            115487,
            129610,
            112108,
            179340,
            170471,
            167437,
            183603,
            163215,
            177440,
            159489,
            177155,
            158936,
            171672,
            181657,
            128538,
            13954728,
            13199281,
            14327083,
            13507342,
            13280783,
            13828512,
            14487815,
            13877825,
            14301844,
            13973042,
            13483615,
            8587594,
            11121124,
            13243922,
            5249186,
            4745178,
            4826560,
            4558306,
            5127956,
            4798833,
            4875763,
            4603484,
            5062293,
            4570108,
            4366148,
            4041050,
            3914193,
            4357835,
            2045760,
            1957081,
            1916824,
            1969248,
            2039804,
            1946957,
            2024409,
            1922821,
            2041035,
            1952464,
            1800426,
            984171,
            1732050,
            2230075,
            2495186,
            2423742,
            2549316,
            2778624,
            2477621,
            2415724,
            2373488,
            2163397,
            2361004,
            2716966,
            2049617,
            7035766,
            7319782,
            6958404,
            7015356,
            7500122,
            7761243,
            7279628,
            6873437,
            7868736,
            7932402,
            7157454,
            4280434,
            3315038,
            6375114,
            13911440,
            12888490,
            12169808,
            12686470,
            13741892,
            12803527,
            11537217,
            12756132,
            13938874,
            12753657,
            12853818,
            9330400,
            10626328,
            15396213,
            5184355,
            5605627,
            4855393,
            5233449,
            5400499,
            5328825,
            4557906,
            5065804,
            5307026,
            5203579,
            4141953,
            1754170,
            3799919,
            3952088,
            15349838,
            16294794,
            16274707,
            16559137,
            16159315,
            17060638,
            16306428,
            16854647,
            16183702,
            16178044,
            16480441,
            14238959,
            13099601,
            16748971,
            23896858,
            23056511,
            24843750,
            26835389,
            25219281,
            24330249,
            24881383,
            26357625,
            25881398,
            25293535,
            23130976,
            15014802,
            18423447,
            23601016,
            1119011,
            1024797,
            1158511,
            1065725,
            1162159,
            1080609,
            1205703,
            1102997,
            1229406,
            1112864,
            1192616,
            803118,
            992148,
            1150200,
            11155753,
            10965154,
            12009883,
            11727659,
            11167715,
            11621534,
            12192623,
            11345069,
            11182128,
            11842655,
            9814156,
            5562449,
            9683719,
            10187145,
            172474,
            184527,
            139227,
            183930,
            175718,
            180283,
            142787,
            180808,
            176252,
            183619,
            142176,
            49420,
            6088547,
            6025235,
            6308129,
            6183427,
            6260971,
            6021921,
            6395022,
            6164215,
            6189471,
            6009820,
            6373692,
            4721590,
            3727366,
            5364047,
            15226005,
            14610564,
            14859873,
            15052051,
            15419779,
            15178544,
            15278556,
            15485307,
            15484353,
            15040572,
            15059769,
            13051219,
            15586833,
            16076978,
            146688,
            162426,
            161647,
            133399,
            141313,
            15844698,
            16375303,
            16455928,
            16463931,
            14595441,
            15595647,
            16223430,
            15356938,
            14954646,
            15828488,
            15848590,
            5086200,
            5768342,
            10169115,
            11053353,
            10728822,
            11538688,
            10743959,
            12636415,
            11375354,
            11265828,
            11068056,
            12065915,
            11304474,
            12028377,
            8793799,
            7508747,
            8891181,
            1019549,
            1107013,
            1052597,
            975501,
            1034408,
            1113764,
            1084633,
            1046878,
            1057975,
            1169347,
            1060946,
            675083,
            911789,
            1106978,
            43287808,
            42276572,
            42697000,
            43298746,
            44198762,
            42833265,
            43261530,
            44640087,
            45777509,
            44257432,
            43086706,
            39970677,
            38640999,
            41908909,
            2108044,
            2021553,
            2000524,
            1911380,
            2157845,
            2027662,
            2007113,
            1947566,
            1986386,
            2057523,
            1972074,
            1915482,
            1675441,
            23452875,
            25543465,
            24857807,
            24924827,
            25610773,
            24353018,
            25630359,
            24906239,
            24612171,
            26093009,
            25097812,
            17639370,
            19115772,
            21225887
           ]
          },
          {
           "axis": {
            "matches": true
           },
           "label": "estimated labour participation rate",
           "values": [
            43.24,
            42.05,
            43.5,
            43.97,
            44.68,
            43.01,
            41,
            45.14,
            43.46,
            42.83,
            40.66,
            36.03,
            38.16,
            53.76,
            57.39,
            43.87,
            48.21,
            45.83,
            55.67,
            40.76,
            46.64,
            54.9,
            40.17,
            47.05,
            50,
            34.38,
            39.75,
            39.71,
            39.66,
            36.85,
            38.57,
            40.31,
            37.51,
            37.25,
            37.54,
            37.28,
            38.88,
            38.63,
            38.5,
            37.4,
            42.89,
            43.71,
            43.53,
            42.55,
            43.38,
            46.28,
            43.56,
            42.59,
            42.03,
            45.05,
            44.98,
            39.43,
            35.56,
            38.66,
            42.33,
            35.74,
            40.53,
            35.21,
            40.68,
            37.9,
            42.71,
            37.08,
            38.36,
            35.84,
            37.45,
            30.21,
            34.65,
            29.22,
            39.16,
            38.19,
            39.81,
            39.61,
            35.78,
            40.36,
            44.09,
            38.7,
            35.36,
            36.11,
            45.36,
            33.71,
            52.03,
            50.12,
            54.21,
            50.57,
            51.01,
            52.27,
            54.55,
            51.51,
            54.07,
            53.48,
            52.06,
            34.77,
            46.31,
            47.72,
            45.12,
            45.23,
            42.17,
            48.23,
            44.72,
            46.07,
            42.48,
            47.4,
            43.74,
            45.37,
            41.4,
            49.85,
            42.78,
            48.53,
            44.23,
            41.18,
            44.91,
            44.91,
            45.02,
            42.81,
            48.5,
            44.05,
            45.11,
            42.45,
            40.17,
            18.43,
            42.62,
            41.2,
            40.57,
            39.02,
            41.71,
            44.17,
            43.08,
            39.69,
            42.56,
            38.25,
            39.06,
            38.46,
            34.94,
            39.04,
            41.12,
            39.66,
            40.83,
            41.24,
            42.33,
            40.26,
            41.09,
            42.43,
            44.05,
            37.96,
            36.92,
            37.03,
            40.65,
            46.36,
            43.12,
            38.42,
            39.93,
            44.45,
            43.1,
            36.45,
            39.92,
            44.52,
            41.33,
            40.85,
            43.25,
            43.09,
            53.37,
            38.07,
            42.19,
            34.96,
            39.9,
            38.97,
            40.02,
            32.71,
            38.67,
            37.66,
            38.84,
            30.87,
            13.33,
            33.62,
            37.01,
            37.97,
            40.48,
            40.2,
            41.25,
            39.4,
            41.46,
            39.44,
            40.77,
            39.35,
            39.57,
            38.9,
            37.88,
            39.24,
            41.5,
            47.11,
            45.69,
            48.8,
            52.67,
            49.74,
            47.61,
            48.53,
            50.98,
            50.36,
            49.36,
            45.6,
            37.42,
            41.21,
            48.34,
            66.13,
            61.09,
            66.67,
            60.86,
            66.02,
            63.44,
            69.03,
            63.18,
            69.66,
            64.06,
            67.46,
            48.83,
            57.26,
            64.63,
            40.47,
            39.94,
            43.05,
            42.13,
            40.32,
            41.88,
            44.06,
            40.91,
            39.09,
            41.98,
            39.55,
            25.16,
            36.48,
            36.36,
            43.08,
            45.95,
            34.56,
            47.83,
            43.34,
            44.85,
            35,
            45.07,
            43.18,
            45.38,
            35.23,
            46.79,
            44.79,
            45.79,
            46.5,
            44.08,
            45.49,
            45.66,
            45.55,
            43.4,
            45.22,
            44.19,
            46.85,
            32.2,
            41.14,
            43.9,
            38.52,
            41.02,
            39.78,
            41.48,
            39.24,
            42.69,
            40.87,
            43,
            40.12,
            41.83,
            39.47,
            35.21,
            41.11,
            43.98,
            44.06,
            53.04,
            46.3,
            37.72,
            42.36,
            49.44,
            50.99,
            53.94,
            52.17,
            45.62,
            48.55,
            50.95,
            48.8,
            46.23,
            48.86,
            51.56,
            33.05,
            28.6,
            31.49,
            61.74,
            62.19,
            64.4,
            59.23,
            72.57,
            66.49,
            65.17,
            60.61,
            68.51,
            66.92,
            68.53,
            49.44,
            61,
            58.97,
            64.47,
            67.4,
            60.54,
            58.29,
            65.9,
            68.21,
            64.29,
            63.02,
            68.61,
            69.88,
            68.28,
            52.63,
            46.9,
            59.74,
            39.96,
            39.32,
            38.78,
            40.24,
            38.79,
            39.07,
            38.01,
            39.77,
            39.67,
            39.13,
            38.53,
            40.37,
            37.52,
            36.89,
            37.47,
            37.01,
            36.97,
            35.39,
            38.79,
            36.9,
            36.73,
            35.19,
            35.69,
            37.16,
            35.04,
            33.94,
            32,
            46.41,
            50.36,
            48.78,
            48.79,
            49.87,
            48.09,
            50,
            48.47,
            48.3,
            49.51,
            49.18,
            39.27,
            42.53,
            40.44
           ]
          }
         ],
         "hovertemplate": "area=Rural<br>%{xaxis.title.text}=%{x}<br>%{yaxis.title.text}=%{y}<extra></extra>",
         "legendgroup": "Rural",
         "marker": {
          "color": "#636efa",
          "symbol": "circle"
         },
         "name": "Rural",
         "showlegend": true,
         "type": "splom"
        },
        {
         "dimensions": [
          {
           "axis": {
            "matches": true
           },
           "label": "estimated unemployment rate",
           "values": [
            6.09,
            3.8,
            5.64,
            4.61,
            6.01,
            4.7,
            7.54,
            7.88,
            7.11,
            5.66,
            9.88,
            32.3,
            24.91,
            5.86,
            7.87,
            9.89,
            3.21,
            10.39,
            9.26,
            11.17,
            6.31,
            5.02,
            7.24,
            9.98,
            10.34,
            8.37,
            10.77,
            3.42,
            19.9,
            13.29,
            16.41,
            17.66,
            20.46,
            14.06,
            17.62,
            14.91,
            20.69,
            15.11,
            15.73,
            58.77,
            37.87,
            12.45,
            18.35,
            12.4,
            21.8,
            9.52,
            20.14,
            13.99,
            22.05,
            8.33,
            20,
            16.67,
            21.43,
            7.22,
            9.77,
            11.77,
            8.17,
            6.29,
            9.46,
            10.27,
            8.32,
            3.57,
            9.01,
            9.79,
            8.21,
            20.13,
            24.1,
            27.07,
            12.31,
            12.76,
            14.68,
            13.52,
            20.59,
            12.41,
            16.11,
            11.07,
            22.45,
            14.86,
            17.09,
            16.51,
            45.78,
            18.11,
            2.75,
            13.33,
            12.28,
            4.9,
            3.16,
            12.31,
            25.2,
            16.22,
            10.92,
            4.31,
            4.76,
            11.76,
            4.09,
            6.31,
            5.15,
            4.2,
            5.96,
            5.45,
            7.53,
            5.71,
            5.82,
            6.04,
            5.39,
            25.94,
            11.62,
            4.54,
            24.67,
            20.42,
            25.45,
            24.19,
            26.84,
            21.04,
            27.06,
            23.65,
            27.24,
            23.29,
            27.14,
            46.89,
            38.46,
            29.41,
            10.88,
            21.43,
            21.51,
            24.48,
            12,
            23.77,
            27.27,
            25.32,
            18.15,
            27.31,
            26.44,
            2.7,
            50,
            10.81,
            23.04,
            19.88,
            21.55,
            24.06,
            14.29,
            7.02,
            18.54,
            19.86,
            14.29,
            12.96,
            17.23,
            20.51,
            15.67,
            20.25,
            21.16,
            19.05,
            17.34,
            22.01,
            22.96,
            19.67,
            16.4,
            61.48,
            70.17,
            19.38,
            6.56,
            5,
            2.29,
            1.27,
            3.57,
            3.87,
            3.44,
            1.56,
            3.31,
            2.88,
            4.92,
            25.12,
            15.88,
            6.12,
            6.11,
            6.67,
            7.58,
            7.69,
            5.52,
            5.35,
            6.71,
            7.31,
            6.65,
            6.08,
            9.14,
            21.43,
            30.28,
            12.17,
            3.91,
            6.38,
            7.38,
            6.82,
            7,
            4.4,
            6.06,
            6.2,
            5.17,
            4.96,
            4.8,
            11.94,
            40.49,
            12.72,
            6.08,
            6.46,
            6.35,
            7.57,
            7.6,
            7.51,
            7.6,
            7.83,
            6.67,
            5.34,
            6.34,
            14.99,
            15.92,
            10.01,
            8.4,
            8.66,
            4.43,
            5.8,
            5.3,
            7.2,
            3.02,
            5.21,
            4.76,
            7.37,
            2.8,
            17.39,
            14.58,
            2.95,
            2.63,
            1.78,
            3.5,
            3.78,
            4.5,
            2.23,
            3.36,
            2.28,
            2.19,
            3.96,
            20.5,
            10,
            2.18,
            1.25,
            0,
            0,
            8.95,
            1.22,
            1.17,
            1.37,
            5.21,
            0.57,
            1.78,
            0.62,
            76.74,
            75,
            4.55,
            13.49,
            13.17,
            11.61,
            11.99,
            15.69,
            13.75,
            10.39,
            11.97,
            13.68,
            11.99,
            9.97,
            1.13,
            20.54,
            10.55,
            13.62,
            14.36,
            11.67,
            14.71,
            12.63,
            13.02,
            14.3,
            18.04,
            18.82,
            17.02,
            18.54,
            35.53,
            25.35,
            13.04,
            8.2,
            7.76,
            2.56,
            4.82,
            4.81,
            9.68,
            4.04,
            7.37,
            20.45,
            5.77,
            19.75,
            2.63,
            0.89,
            1.56,
            3.18,
            9.53,
            1.86,
            1.13,
            2.65,
            8.05,
            2.05,
            3.31,
            6.46,
            45.55,
            25.95,
            24.93,
            1.52,
            1.43,
            3.73,
            4.19,
            6.19,
            6.74,
            5.23,
            4.22,
            6.49,
            6.74,
            6.1,
            10.5,
            36.57,
            6.92,
            34.69,
            25.59,
            25.81,
            33.45,
            33.57,
            26.67,
            27.15,
            33.48,
            34.37,
            33.88,
            25.69,
            34.88,
            16.78,
            27.47,
            14.4,
            11.62,
            11.8,
            14.73,
            13.58,
            10.35,
            11.31,
            12.37,
            12.34,
            11.65,
            12.32,
            26.94,
            32.06,
            13.05,
            9.17,
            4.69,
            6.94,
            7.43,
            9.62,
            4.72,
            6.34,
            7.39,
            8.92,
            5.28,
            8.15,
            13.18,
            17.36,
            5.08,
            7.25,
            7.38,
            7.91,
            7.27,
            7.79,
            7.83,
            6.61,
            7.24,
            7.27,
            7.55,
            6.67,
            15.63,
            15.22,
            9.86
           ]
          },
          {
           "axis": {
            "matches": true
           },
           "label": "estimated employed",
           "values": [
            4788661,
            4824630,
            4657443,
            4743179,
            4733996,
            4774377,
            4668772,
            4913963,
            4618860,
            4822035,
            4521537,
            2544084,
            3428356,
            4954389,
            1671707,
            1647342,
            1739838,
            1595582,
            1576480,
            1595176,
            1708045,
            1722303,
            1630908,
            1625454,
            1664145,
            1454956,
            1441722,
            1551007,
            3029344,
            3248864,
            3059744,
            2994763,
            2992082,
            3173429,
            3081077,
            2977857,
            2988665,
            3113464,
            3049637,
            1400962,
            2207026,
            3124663,
            348042,
            337145,
            294379,
            328282,
            327239,
            330856,
            289593,
            311146,
            332062,
            316887,
            279839,
            306505,
            2223129,
            2192020,
            2285436,
            2392400,
            2311507,
            2297096,
            2341284,
            2415436,
            2315972,
            2347941,
            2407509,
            1066126,
            1276291,
            1602231,
            5756475,
            5550172,
            5393091,
            5552510,
            5642253,
            6030363,
            5439600,
            5718337,
            5647493,
            5708807,
            5401392,
            3003787,
            2343783,
            4306807,
            264855,
            304015,
            280367,
            243277,
            309643,
            290264,
            271612,
            288154,
            257814,
            306396,
            277093,
            318957,
            9686558,
            10144965,
            9828023,
            10228154,
            9609939,
            10474217,
            9896129,
            10172812,
            9824501,
            10784753,
            10083026,
            6701284,
            6072776,
            10574711,
            2693596,
            2845190,
            2405973,
            2523005,
            2675862,
            2821456,
            2404239,
            2548835,
            2630938,
            2752834,
            2275407,
            1606580,
            2013083,
            2304138,
            245668,
            237576,
            235894,
            236315,
            247210,
            232322,
            233029,
            241366,
            246596,
            227804,
            221432,
            146957,
            134868,
            224902,
            1130139,
            1139815,
            1183770,
            1029087,
            1226793,
            1209085,
            1079537,
            1060116,
            998103,
            937435,
            2404033,
            2326911,
            2434579,
            2335406,
            2357627,
            2460196,
            2424281,
            2290170,
            2329293,
            2493023,
            2480661,
            1054829,
            830347,
            2244460,
            8638239,
            8862498,
            8738029,
            8614340,
            8647794,
            8799249,
            8613835,
            8592376,
            8749154,
            8924061,
            9225835,
            7387995,
            8669258,
            8822411,
            4605913,
            4678374,
            4105211,
            4448650,
            4640642,
            4644510,
            4062767,
            4440283,
            4597507,
            4624444,
            4079775,
            2179106,
            2826118,
            4601293,
            6692720,
            6509340,
            6266446,
            6809834,
            6655967,
            6603715,
            6459457,
            6787403,
            6834930,
            6533435,
            6386723,
            4802873,
            3879934,
            6221562,
            16962574,
            17375053,
            17215677,
            16602767,
            17396398,
            17221991,
            17486683,
            16581144,
            16715470,
            17122782,
            17065830,
            12674451,
            12365754,
            16172690,
            228978,
            231252,
            284015,
            259433,
            253887,
            234375,
            293431,
            267417,
            261687,
            233965,
            289735,
            161939,
            222916,
            2519582,
            2356290,
            2542237,
            2456983,
            2570663,
            2456855,
            2594469,
            2369048,
            2561320,
            2438080,
            2457952,
            1303244,
            1975481,
            2221069,
            283905,
            304369,
            281117,
            312882,
            286573,
            312548,
            275003,
            313135,
            281698,
            310342,
            278851,
            68122,
            64538,
            234926,
            3289918,
            3307798,
            3592442,
            3499863,
            3227178,
            3070438,
            3602243,
            3575778,
            3252622,
            3219227,
            3601793,
            2298975,
            2682658,
            3047750,
            5108436,
            5241174,
            5372470,
            5195170,
            5176819,
            5384335,
            5306715,
            5109481,
            5157363,
            5288343,
            4964911,
            2932923,
            4225486,
            5275784,
            89587,
            89702,
            108334,
            90850,
            89450,
            87974,
            107751,
            88035,
            86186,
            81905,
            75456,
            76269,
            11798080,
            12318745,
            12054414,
            11933093,
            11902824,
            12223948,
            11729952,
            12260389,
            11926995,
            11742101,
            10982178,
            4632967,
            5733921,
            7741005,
            5560649,
            5683349,
            5432503,
            5544693,
            5668785,
            5318341,
            5338119,
            5317782,
            5543380,
            5521496,
            5313236,
            3378431,
            3108830,
            4577995,
            423127,
            408738,
            410583,
            368977,
            418043,
            414808,
            427700,
            399427,
            450155,
            415339,
            450271,
            296431,
            384999,
            391015,
            13391244,
            13624452,
            13862431,
            13580241,
            13522970,
            13938303,
            14128888,
            13857200,
            13656250,
            13803099,
            13889632,
            10944379,
            11111486,
            13208724,
            676797,
            906889,
            859900,
            823967,
            711150,
            925174,
            904903,
            844779,
            725253,
            963408,
            889245,
            748041,
            778590,
            989470,
            11306177,
            10611498,
            10779829,
            11456493,
            11158649,
            10563686,
            10768462,
            11335696,
            11208617,
            10871168,
            10806105,
            9299466,
            9240903,
            9088931
           ]
          },
          {
           "axis": {
            "matches": true
           },
           "label": "estimated labour participation rate",
           "values": [
            37.45,
            36.76,
            36.1,
            36.29,
            36.69,
            36.41,
            36.62,
            38.61,
            35.91,
            36.84,
            36.08,
            26.97,
            32.69,
            37.61,
            44.92,
            45.17,
            44.32,
            43.81,
            42.66,
            44.01,
            44.59,
            44.26,
            42.82,
            43.9,
            45.03,
            38.45,
            39.04,
            38.73,
            39.8,
            39.35,
            38.36,
            38.03,
            39.25,
            38.45,
            38.86,
            36.29,
            38.99,
            37.87,
            37.29,
            34.94,
            36.45,
            36.54,
            44.89,
            40.44,
            39.47,
            37.95,
            42.77,
            40.06,
            38.6,
            35.19,
            42.94,
            39.25,
            36.68,
            33.8,
            45.61,
            45.88,
            45.85,
            46.91,
            46.8,
            46.82,
            46.59,
            45.59,
            46.21,
            47.14,
            47.39,
            24.06,
            30.24,
            39.41,
            44.17,
            42.71,
            42.34,
            42.9,
            47.36,
            45.78,
            43.02,
            42.56,
            48.09,
            44.18,
            42.82,
            23.59,
            28.28,
            34.32,
            34.17,
            43.96,
            40,
            31.97,
            39.92,
            41.27,
            45.22,
            42.77,
            35.95,
            39.73,
            36.05,
            44.74,
            41.67,
            44.57,
            42.54,
            43.72,
            41.75,
            45.14,
            43.5,
            43.75,
            42.19,
            46.31,
            42.9,
            36.33,
            27.52,
            44.26,
            43.18,
            43.06,
            38.77,
            39.87,
            43.7,
            42.58,
            39.18,
            39.57,
            42.75,
            42.32,
            36.73,
            35.48,
            38.27,
            38.09,
            45.27,
            49.58,
            49.22,
            51.17,
            45.87,
            49.69,
            52.17,
            52.55,
            48.92,
            50.82,
            48.74,
            24.42,
            43.55,
            40.66,
            46.74,
            45.17,
            47.8,
            42.63,
            44.92,
            40.71,
            41.4,
            41.23,
            36.21,
            33.33,
            43.25,
            43.51,
            42.82,
            43.35,
            44.18,
            44.82,
            43.17,
            43.14,
            44.33,
            45.42,
            43.34,
            39.92,
            40.49,
            40.43,
            40.62,
            40.89,
            39.09,
            38.04,
            39,
            39.7,
            38.6,
            37.66,
            38.94,
            39.45,
            41.55,
            42.14,
            43.9,
            39.93,
            36.65,
            37.42,
            33.13,
            35.91,
            36.57,
            36.49,
            32.36,
            35.56,
            36.53,
            36.48,
            33.24,
            20.51,
            29.95,
            38.68,
            38.96,
            38.8,
            37.67,
            40.6,
            39.67,
            38.2,
            37.94,
            39.83,
            39.59,
            37.68,
            36.68,
            29.76,
            35.49,
            38.72,
            38.3,
            39.3,
            38.81,
            37.84,
            39.58,
            39.05,
            39.61,
            37.57,
            37.32,
            37.61,
            37.8,
            30.86,
            30.38,
            37.04,
            47.79,
            48.29,
            56.55,
            52.27,
            50.77,
            47.71,
            57.02,
            53.04,
            51.53,
            47.26,
            55.64,
            36.51,
            48.48,
            41.26,
            38.39,
            40.99,
            40.25,
            42.15,
            40.51,
            41.71,
            38.46,
            41.05,
            38.97,
            39.93,
            25.53,
            34.12,
            35.24,
            35.71,
            37.73,
            34.77,
            42.41,
            35.73,
            38.86,
            34.19,
            40.42,
            34.59,
            38.5,
            34.12,
            35.54,
            31.25,
            29.73,
            40.03,
            40.02,
            42.62,
            41.61,
            39.97,
            37.1,
            41.82,
            42.17,
            39.04,
            37.82,
            41.29,
            23.95,
            34.71,
            34.96,
            39.44,
            40.73,
            40.38,
            40.34,
            39.15,
            40.8,
            40.73,
            40.9,
            41.59,
            41.62,
            39.71,
            29.57,
            36.71,
            39.26,
            48.61,
            48.13,
            54.67,
            46.63,
            45.61,
            46.97,
            53.8,
            45.24,
            50.57,
            40.31,
            43.32,
            35.85,
            37.31,
            39.16,
            38.89,
            41.13,
            37.76,
            38.42,
            37.38,
            41.29,
            37.64,
            37.48,
            36.17,
            26.17,
            23.77,
            31.6,
            44.59,
            45.43,
            44.36,
            45.39,
            47.28,
            44.51,
            43.87,
            43.13,
            45.95,
            45.78,
            43.65,
            29.05,
            37.63,
            37.68,
            69.5,
            58.8,
            59.1,
            59.07,
            66.9,
            60,
            62.14,
            63.41,
            72.26,
            66.04,
            63.56,
            47.65,
            48.31,
            56.17,
            40.43,
            39.75,
            40.43,
            40.87,
            40.07,
            39.71,
            40.6,
            40.21,
            39.52,
            39.54,
            40,
            37.74,
            41.1,
            38.09,
            26.33,
            33.54,
            32.48,
            31.21,
            27.51,
            33.87,
            33.61,
            31.65,
            27.55,
            35.11,
            33.33,
            29.59,
            32.27,
            35.61,
            46.37,
            43.51,
            44.38,
            46.77,
            45.74,
            43.25,
            43.44,
            45.97,
            45.39,
            44.09,
            43.34,
            41.2,
            40.67,
            37.57
           ]
          }
         ],
         "hovertemplate": "area=Urban<br>%{xaxis.title.text}=%{x}<br>%{yaxis.title.text}=%{y}<extra></extra>",
         "legendgroup": "Urban",
         "marker": {
          "color": "#EF553B",
          "symbol": "circle"
         },
         "name": "Urban",
         "showlegend": true,
         "type": "splom"
        }
       ],
       "layout": {
        "dragmode": "select",
        "legend": {
         "title": {
          "text": "area"
         },
         "tracegroupgap": 0
        },
        "margin": {
         "t": 60
        },
        "template": {
         "data": {
          "bar": [
           {
            "error_x": {
             "color": "#2a3f5f"
            },
            "error_y": {
             "color": "#2a3f5f"
            },
            "marker": {
             "line": {
              "color": "#E5ECF6",
              "width": 0.5
             },
             "pattern": {
              "fillmode": "overlay",
              "size": 10,
              "solidity": 0.2
             }
            },
            "type": "bar"
           }
          ],
          "barpolar": [
           {
            "marker": {
             "line": {
              "color": "#E5ECF6",
              "width": 0.5
             },
             "pattern": {
              "fillmode": "overlay",
              "size": 10,
              "solidity": 0.2
             }
            },
            "type": "barpolar"
           }
          ],
          "carpet": [
           {
            "aaxis": {
             "endlinecolor": "#2a3f5f",
             "gridcolor": "white",
             "linecolor": "white",
             "minorgridcolor": "white",
             "startlinecolor": "#2a3f5f"
            },
            "baxis": {
             "endlinecolor": "#2a3f5f",
             "gridcolor": "white",
             "linecolor": "white",
             "minorgridcolor": "white",
             "startlinecolor": "#2a3f5f"
            },
            "type": "carpet"
           }
          ],
          "choropleth": [
           {
            "colorbar": {
             "outlinewidth": 0,
             "ticks": ""
            },
            "type": "choropleth"
           }
          ],
          "contour": [
           {
            "colorbar": {
             "outlinewidth": 0,
             "ticks": ""
            },
            "colorscale": [
             [
              0,
              "#0d0887"
             ],
             [
              0.1111111111111111,
              "#46039f"
             ],
             [
              0.2222222222222222,
              "#7201a8"
             ],
             [
              0.3333333333333333,
              "#9c179e"
             ],
             [
              0.4444444444444444,
              "#bd3786"
             ],
             [
              0.5555555555555556,
              "#d8576b"
             ],
             [
              0.6666666666666666,
              "#ed7953"
             ],
             [
              0.7777777777777778,
              "#fb9f3a"
             ],
             [
              0.8888888888888888,
              "#fdca26"
             ],
             [
              1,
              "#f0f921"
             ]
            ],
            "type": "contour"
           }
          ],
          "contourcarpet": [
           {
            "colorbar": {
             "outlinewidth": 0,
             "ticks": ""
            },
            "type": "contourcarpet"
           }
          ],
          "heatmap": [
           {
            "colorbar": {
             "outlinewidth": 0,
             "ticks": ""
            },
            "colorscale": [
             [
              0,
              "#0d0887"
             ],
             [
              0.1111111111111111,
              "#46039f"
             ],
             [
              0.2222222222222222,
              "#7201a8"
             ],
             [
              0.3333333333333333,
              "#9c179e"
             ],
             [
              0.4444444444444444,
              "#bd3786"
             ],
             [
              0.5555555555555556,
              "#d8576b"
             ],
             [
              0.6666666666666666,
              "#ed7953"
             ],
             [
              0.7777777777777778,
              "#fb9f3a"
             ],
             [
              0.8888888888888888,
              "#fdca26"
             ],
             [
              1,
              "#f0f921"
             ]
            ],
            "type": "heatmap"
           }
          ],
          "heatmapgl": [
           {
            "colorbar": {
             "outlinewidth": 0,
             "ticks": ""
            },
            "colorscale": [
             [
              0,
              "#0d0887"
             ],
             [
              0.1111111111111111,
              "#46039f"
             ],
             [
              0.2222222222222222,
              "#7201a8"
             ],
             [
              0.3333333333333333,
              "#9c179e"
             ],
             [
              0.4444444444444444,
              "#bd3786"
             ],
             [
              0.5555555555555556,
              "#d8576b"
             ],
             [
              0.6666666666666666,
              "#ed7953"
             ],
             [
              0.7777777777777778,
              "#fb9f3a"
             ],
             [
              0.8888888888888888,
              "#fdca26"
             ],
             [
              1,
              "#f0f921"
             ]
            ],
            "type": "heatmapgl"
           }
          ],
          "histogram": [
           {
            "marker": {
             "pattern": {
              "fillmode": "overlay",
              "size": 10,
              "solidity": 0.2
             }
            },
            "type": "histogram"
           }
          ],
          "histogram2d": [
           {
            "colorbar": {
             "outlinewidth": 0,
             "ticks": ""
            },
            "colorscale": [
             [
              0,
              "#0d0887"
             ],
             [
              0.1111111111111111,
              "#46039f"
             ],
             [
              0.2222222222222222,
              "#7201a8"
             ],
             [
              0.3333333333333333,
              "#9c179e"
             ],
             [
              0.4444444444444444,
              "#bd3786"
             ],
             [
              0.5555555555555556,
              "#d8576b"
             ],
             [
              0.6666666666666666,
              "#ed7953"
             ],
             [
              0.7777777777777778,
              "#fb9f3a"
             ],
             [
              0.8888888888888888,
              "#fdca26"
             ],
             [
              1,
              "#f0f921"
             ]
            ],
            "type": "histogram2d"
           }
          ],
          "histogram2dcontour": [
           {
            "colorbar": {
             "outlinewidth": 0,
             "ticks": ""
            },
            "colorscale": [
             [
              0,
              "#0d0887"
             ],
             [
              0.1111111111111111,
              "#46039f"
             ],
             [
              0.2222222222222222,
              "#7201a8"
             ],
             [
              0.3333333333333333,
              "#9c179e"
             ],
             [
              0.4444444444444444,
              "#bd3786"
             ],
             [
              0.5555555555555556,
              "#d8576b"
             ],
             [
              0.6666666666666666,
              "#ed7953"
             ],
             [
              0.7777777777777778,
              "#fb9f3a"
             ],
             [
              0.8888888888888888,
              "#fdca26"
             ],
             [
              1,
              "#f0f921"
             ]
            ],
            "type": "histogram2dcontour"
           }
          ],
          "mesh3d": [
           {
            "colorbar": {
             "outlinewidth": 0,
             "ticks": ""
            },
            "type": "mesh3d"
           }
          ],
          "parcoords": [
           {
            "line": {
             "colorbar": {
              "outlinewidth": 0,
              "ticks": ""
             }
            },
            "type": "parcoords"
           }
          ],
          "pie": [
           {
            "automargin": true,
            "type": "pie"
           }
          ],
          "scatter": [
           {
            "fillpattern": {
             "fillmode": "overlay",
             "size": 10,
             "solidity": 0.2
            },
            "type": "scatter"
           }
          ],
          "scatter3d": [
           {
            "line": {
             "colorbar": {
              "outlinewidth": 0,
              "ticks": ""
             }
            },
            "marker": {
             "colorbar": {
              "outlinewidth": 0,
              "ticks": ""
             }
            },
            "type": "scatter3d"
           }
          ],
          "scattercarpet": [
           {
            "marker": {
             "colorbar": {
              "outlinewidth": 0,
              "ticks": ""
             }
            },
            "type": "scattercarpet"
           }
          ],
          "scattergeo": [
           {
            "marker": {
             "colorbar": {
              "outlinewidth": 0,
              "ticks": ""
             }
            },
            "type": "scattergeo"
           }
          ],
          "scattergl": [
           {
            "marker": {
             "colorbar": {
              "outlinewidth": 0,
              "ticks": ""
             }
            },
            "type": "scattergl"
           }
          ],
          "scattermapbox": [
           {
            "marker": {
             "colorbar": {
              "outlinewidth": 0,
              "ticks": ""
             }
            },
            "type": "scattermapbox"
           }
          ],
          "scatterpolar": [
           {
            "marker": {
             "colorbar": {
              "outlinewidth": 0,
              "ticks": ""
             }
            },
            "type": "scatterpolar"
           }
          ],
          "scatterpolargl": [
           {
            "marker": {
             "colorbar": {
              "outlinewidth": 0,
              "ticks": ""
             }
            },
            "type": "scatterpolargl"
           }
          ],
          "scatterternary": [
           {
            "marker": {
             "colorbar": {
              "outlinewidth": 0,
              "ticks": ""
             }
            },
            "type": "scatterternary"
           }
          ],
          "surface": [
           {
            "colorbar": {
             "outlinewidth": 0,
             "ticks": ""
            },
            "colorscale": [
             [
              0,
              "#0d0887"
             ],
             [
              0.1111111111111111,
              "#46039f"
             ],
             [
              0.2222222222222222,
              "#7201a8"
             ],
             [
              0.3333333333333333,
              "#9c179e"
             ],
             [
              0.4444444444444444,
              "#bd3786"
             ],
             [
              0.5555555555555556,
              "#d8576b"
             ],
             [
              0.6666666666666666,
              "#ed7953"
             ],
             [
              0.7777777777777778,
              "#fb9f3a"
             ],
             [
              0.8888888888888888,
              "#fdca26"
             ],
             [
              1,
              "#f0f921"
             ]
            ],
            "type": "surface"
           }
          ],
          "table": [
           {
            "cells": {
             "fill": {
              "color": "#EBF0F8"
             },
             "line": {
              "color": "white"
             }
            },
            "header": {
             "fill": {
              "color": "#C8D4E3"
             },
             "line": {
              "color": "white"
             }
            },
            "type": "table"
           }
          ]
         },
         "layout": {
          "annotationdefaults": {
           "arrowcolor": "#2a3f5f",
           "arrowhead": 0,
           "arrowwidth": 1
          },
          "autotypenumbers": "strict",
          "coloraxis": {
           "colorbar": {
            "outlinewidth": 0,
            "ticks": ""
           }
          },
          "colorscale": {
           "diverging": [
            [
             0,
             "#8e0152"
            ],
            [
             0.1,
             "#c51b7d"
            ],
            [
             0.2,
             "#de77ae"
            ],
            [
             0.3,
             "#f1b6da"
            ],
            [
             0.4,
             "#fde0ef"
            ],
            [
             0.5,
             "#f7f7f7"
            ],
            [
             0.6,
             "#e6f5d0"
            ],
            [
             0.7,
             "#b8e186"
            ],
            [
             0.8,
             "#7fbc41"
            ],
            [
             0.9,
             "#4d9221"
            ],
            [
             1,
             "#276419"
            ]
           ],
           "sequential": [
            [
             0,
             "#0d0887"
            ],
            [
             0.1111111111111111,
             "#46039f"
            ],
            [
             0.2222222222222222,
             "#7201a8"
            ],
            [
             0.3333333333333333,
             "#9c179e"
            ],
            [
             0.4444444444444444,
             "#bd3786"
            ],
            [
             0.5555555555555556,
             "#d8576b"
            ],
            [
             0.6666666666666666,
             "#ed7953"
            ],
            [
             0.7777777777777778,
             "#fb9f3a"
            ],
            [
             0.8888888888888888,
             "#fdca26"
            ],
            [
             1,
             "#f0f921"
            ]
           ],
           "sequentialminus": [
            [
             0,
             "#0d0887"
            ],
            [
             0.1111111111111111,
             "#46039f"
            ],
            [
             0.2222222222222222,
             "#7201a8"
            ],
            [
             0.3333333333333333,
             "#9c179e"
            ],
            [
             0.4444444444444444,
             "#bd3786"
            ],
            [
             0.5555555555555556,
             "#d8576b"
            ],
            [
             0.6666666666666666,
             "#ed7953"
            ],
            [
             0.7777777777777778,
             "#fb9f3a"
            ],
            [
             0.8888888888888888,
             "#fdca26"
            ],
            [
             1,
             "#f0f921"
            ]
           ]
          },
          "colorway": [
           "#636efa",
           "#EF553B",
           "#00cc96",
           "#ab63fa",
           "#FFA15A",
           "#19d3f3",
           "#FF6692",
           "#B6E880",
           "#FF97FF",
           "#FECB52"
          ],
          "font": {
           "color": "#2a3f5f"
          },
          "geo": {
           "bgcolor": "white",
           "lakecolor": "white",
           "landcolor": "#E5ECF6",
           "showlakes": true,
           "showland": true,
           "subunitcolor": "white"
          },
          "hoverlabel": {
           "align": "left"
          },
          "hovermode": "closest",
          "mapbox": {
           "style": "light"
          },
          "paper_bgcolor": "white",
          "plot_bgcolor": "#E5ECF6",
          "polar": {
           "angularaxis": {
            "gridcolor": "white",
            "linecolor": "white",
            "ticks": ""
           },
           "bgcolor": "#E5ECF6",
           "radialaxis": {
            "gridcolor": "white",
            "linecolor": "white",
            "ticks": ""
           }
          },
          "scene": {
           "xaxis": {
            "backgroundcolor": "#E5ECF6",
            "gridcolor": "white",
            "gridwidth": 2,
            "linecolor": "white",
            "showbackground": true,
            "ticks": "",
            "zerolinecolor": "white"
           },
           "yaxis": {
            "backgroundcolor": "#E5ECF6",
            "gridcolor": "white",
            "gridwidth": 2,
            "linecolor": "white",
            "showbackground": true,
            "ticks": "",
            "zerolinecolor": "white"
           },
           "zaxis": {
            "backgroundcolor": "#E5ECF6",
            "gridcolor": "white",
            "gridwidth": 2,
            "linecolor": "white",
            "showbackground": true,
            "ticks": "",
            "zerolinecolor": "white"
           }
          },
          "shapedefaults": {
           "line": {
            "color": "#2a3f5f"
           }
          },
          "ternary": {
           "aaxis": {
            "gridcolor": "white",
            "linecolor": "white",
            "ticks": ""
           },
           "baxis": {
            "gridcolor": "white",
            "linecolor": "white",
            "ticks": ""
           },
           "bgcolor": "#E5ECF6",
           "caxis": {
            "gridcolor": "white",
            "linecolor": "white",
            "ticks": ""
           }
          },
          "title": {
           "x": 0.05
          },
          "xaxis": {
           "automargin": true,
           "gridcolor": "white",
           "linecolor": "white",
           "ticks": "",
           "title": {
            "standoff": 15
           },
           "zerolinecolor": "white",
           "zerolinewidth": 2
          },
          "yaxis": {
           "automargin": true,
           "gridcolor": "white",
           "linecolor": "white",
           "ticks": "",
           "title": {
            "standoff": 15
           },
           "zerolinecolor": "white",
           "zerolinewidth": 2
          }
         }
        }
       }
      },
      "text/html": [
       "<div>                            <div id=\"aae21ce7-230f-4be1-904a-9a8774e2218c\" class=\"plotly-graph-div\" style=\"height:525px; width:100%;\"></div>            <script type=\"text/javascript\">                require([\"plotly\"], function(Plotly) {                    window.PLOTLYENV=window.PLOTLYENV || {};                                    if (document.getElementById(\"aae21ce7-230f-4be1-904a-9a8774e2218c\")) {                    Plotly.newPlot(                        \"aae21ce7-230f-4be1-904a-9a8774e2218c\",                        [{\"dimensions\":[{\"axis\":{\"matches\":true},\"label\":\"estimated unemployment rate\",\"values\":[3.65,3.05,3.75,3.32,5.17,3.52,4.12,4.38,4.84,5.91,4.06,16.29,14.46,0.85,4.29,5.08,4.26,5.79,4.46,4.65,4.66,4.29,3.26,3.77,9.38,0.0,9.27,10.2,13.44,11.0,8.87,12.47,12.4,10.16,9.13,9.61,15.39,45.09,47.26,20.49,9.82,6.76,4.54,4.64,8.33,6.96,2.77,6.11,9.89,7.89,7.31,0.0,7.64,10.14,12.56,9.33,11.07,17.18,12.5,15.84,11.11,16.97,13.48,13.81,15.18,20.69,22.76,21.14,2.91,5.45,10.98,1.98,3.61,7.21,23.71,3.54,5.38,0.0,15.91,20.0,2.88,4.77,4.58,3.7,6.29,4.91,4.68,3.46,5.35,6.64,7.59,12.0,14.58,1.41,14.54,23.08,16.22,30.94,16.36,24.17,16.59,29.56,16.21,27.19,23.92,41.61,34.22,35.57,13.68,11.43,20.59,18.56,15.98,15.81,22.86,19.46,16.67,15.42,17.71,2.13,25.64,1.12,12.78,12.09,13.67,11.32,19.27,14.73,22.19,21.23,16.0,2.22,18.97,7.11,8.46,9.98,12.06,7.12,6.57,8.07,15.15,6.16,9.06,5.01,41.72,55.1,21.53,5.46,5.98,0.52,0.37,3.2,7.13,1.19,0.41,2.57,4.11,2.39,33.17,23.72,10.92,6.63,9.0,4.95,10.32,5.35,9.14,5.0,10.77,4.11,8.91,8.85,10.71,23.38,27.66,3.63,4.25,3.92,4.94,3.08,2.98,2.72,2.94,3.66,4.42,1.19,12.5,22.46,6.46,3.67,4.34,3.66,3.76,4.4,3.81,3.68,3.03,3.8,4.24,5.38,25.28,16.89,9.4,3.16,4.23,1.03,0.52,0.24,3.7,1.5,1.8,0.97,2.76,1.28,8.38,3.73,1.35,4.17,4.71,3.31,3.68,4.31,4.28,4.72,4.67,1.81,3.31,15.09,24.48,9.45,4.59,0.0,0.0,0.0,4.85,0.0,1.18,0.0,1.99,0.58,1.74,2.31,74.51,9.17,12.21,9.64,6.69,8.59,12.56,7.07,6.13,9.69,10.41,10.51,3.69,40.59,20.0,4.03,13.7,9.7,12.5,5.45,14.66,10.47,13.96,8.0,14.48,9.47,12.25,10.45,13.86,5.48,13.11,1.0,0.0,5.81,0.97,0.92,6.01,2.91,1.71,1.46,2.46,3.73,1.18,1.17,6.36,53.19,38.73,2.06,2.23,5.92,2.45,1.4,5.49,7.29,6.47,1.35,5.02,9.02,5.63,4.51,34.01,19.3,29.25,26.64,22.47,25.49,30.23,27.54,25.25,26.53,31.91,26.22,31.61,43.64,14.71,18.84,10.26,11.13,9.19,11.47,6.45,10.18,6.94,8.43,6.06,8.12,9.37,19.92,16.89,8.51,1.63,4.65,5.74,6.11,3.47,4.83,5.56,4.52,4.17,4.85,3.66,3.57,10.71,6.02,5.85,5.62,5.58,5.26,6.78,5.83,5.79,6.79,3.78,7.02,18.32,18.43,4.94]},{\"axis\":{\"matches\":true},\"label\":\"estimated employed\",\"values\":[11999139,11755881,12086707,12285693,12256762,12017412,11397681,12528395,12016676,11723617,11359660,8792827,9526902,15572975,11749334,8923222,9911534,9292039,11468349,8395906,9625362,11420996,8462814,9878742,9926176,7544937,24322330,24097712,23248875,22260203,23905700,24053140,22445989,22914530,23409006,23168192,22667882,14645275,14050319,20622566,6259019,6608626,6753622,6607694,6490776,7043840,6942931,6569385,6236201,6847173,6894808,6534321,5454091,5781095,169487,149076,166605,135407,166056,149511,178768,145671,157791,147500,152413,115487,129610,112108,179340,170471,167437,183603,163215,177440,159489,177155,158936,171672,181657,128538,13954728,13199281,14327083,13507342,13280783,13828512,14487815,13877825,14301844,13973042,13483615,8587594,11121124,13243922,5249186,4745178,4826560,4558306,5127956,4798833,4875763,4603484,5062293,4570108,4366148,4041050,3914193,4357835,2045760,1957081,1916824,1969248,2039804,1946957,2024409,1922821,2041035,1952464,1800426,984171,1732050,2230075,2495186,2423742,2549316,2778624,2477621,2415724,2373488,2163397,2361004,2716966,2049617,7035766,7319782,6958404,7015356,7500122,7761243,7279628,6873437,7868736,7932402,7157454,4280434,3315038,6375114,13911440,12888490,12169808,12686470,13741892,12803527,11537217,12756132,13938874,12753657,12853818,9330400,10626328,15396213,5184355,5605627,4855393,5233449,5400499,5328825,4557906,5065804,5307026,5203579,4141953,1754170,3799919,3952088,15349838,16294794,16274707,16559137,16159315,17060638,16306428,16854647,16183702,16178044,16480441,14238959,13099601,16748971,23896858,23056511,24843750,26835389,25219281,24330249,24881383,26357625,25881398,25293535,23130976,15014802,18423447,23601016,1119011,1024797,1158511,1065725,1162159,1080609,1205703,1102997,1229406,1112864,1192616,803118,992148,1150200,11155753,10965154,12009883,11727659,11167715,11621534,12192623,11345069,11182128,11842655,9814156,5562449,9683719,10187145,172474,184527,139227,183930,175718,180283,142787,180808,176252,183619,142176,49420,6088547,6025235,6308129,6183427,6260971,6021921,6395022,6164215,6189471,6009820,6373692,4721590,3727366,5364047,15226005,14610564,14859873,15052051,15419779,15178544,15278556,15485307,15484353,15040572,15059769,13051219,15586833,16076978,146688,162426,161647,133399,141313,15844698,16375303,16455928,16463931,14595441,15595647,16223430,15356938,14954646,15828488,15848590,5086200,5768342,10169115,11053353,10728822,11538688,10743959,12636415,11375354,11265828,11068056,12065915,11304474,12028377,8793799,7508747,8891181,1019549,1107013,1052597,975501,1034408,1113764,1084633,1046878,1057975,1169347,1060946,675083,911789,1106978,43287808,42276572,42697000,43298746,44198762,42833265,43261530,44640087,45777509,44257432,43086706,39970677,38640999,41908909,2108044,2021553,2000524,1911380,2157845,2027662,2007113,1947566,1986386,2057523,1972074,1915482,1675441,23452875,25543465,24857807,24924827,25610773,24353018,25630359,24906239,24612171,26093009,25097812,17639370,19115772,21225887]},{\"axis\":{\"matches\":true},\"label\":\"estimated labour participation rate\",\"values\":[43.24,42.05,43.5,43.97,44.68,43.01,41.0,45.14,43.46,42.83,40.66,36.03,38.16,53.76,57.39,43.87,48.21,45.83,55.67,40.76,46.64,54.9,40.17,47.05,50.0,34.38,39.75,39.71,39.66,36.85,38.57,40.31,37.51,37.25,37.54,37.28,38.88,38.63,38.5,37.4,42.89,43.71,43.53,42.55,43.38,46.28,43.56,42.59,42.03,45.05,44.98,39.43,35.56,38.66,42.33,35.74,40.53,35.21,40.68,37.9,42.71,37.08,38.36,35.84,37.45,30.21,34.65,29.22,39.16,38.19,39.81,39.61,35.78,40.36,44.09,38.7,35.36,36.11,45.36,33.71,52.03,50.12,54.21,50.57,51.01,52.27,54.55,51.51,54.07,53.48,52.06,34.77,46.31,47.72,45.12,45.23,42.17,48.23,44.72,46.07,42.48,47.4,43.74,45.37,41.4,49.85,42.78,48.53,44.23,41.18,44.91,44.91,45.02,42.81,48.5,44.05,45.11,42.45,40.17,18.43,42.62,41.2,40.57,39.02,41.71,44.17,43.08,39.69,42.56,38.25,39.06,38.46,34.94,39.04,41.12,39.66,40.83,41.24,42.33,40.26,41.09,42.43,44.05,37.96,36.92,37.03,40.65,46.36,43.12,38.42,39.93,44.45,43.1,36.45,39.92,44.52,41.33,40.85,43.25,43.09,53.37,38.07,42.19,34.96,39.9,38.97,40.02,32.71,38.67,37.66,38.84,30.87,13.33,33.62,37.01,37.97,40.48,40.2,41.25,39.4,41.46,39.44,40.77,39.35,39.57,38.9,37.88,39.24,41.5,47.11,45.69,48.8,52.67,49.74,47.61,48.53,50.98,50.36,49.36,45.6,37.42,41.21,48.34,66.13,61.09,66.67,60.86,66.02,63.44,69.03,63.18,69.66,64.06,67.46,48.83,57.26,64.63,40.47,39.94,43.05,42.13,40.32,41.88,44.06,40.91,39.09,41.98,39.55,25.16,36.48,36.36,43.08,45.95,34.56,47.83,43.34,44.85,35.0,45.07,43.18,45.38,35.23,46.79,44.79,45.79,46.5,44.08,45.49,45.66,45.55,43.4,45.22,44.19,46.85,32.2,41.14,43.9,38.52,41.02,39.78,41.48,39.24,42.69,40.87,43.0,40.12,41.83,39.47,35.21,41.11,43.98,44.06,53.04,46.3,37.72,42.36,49.44,50.99,53.94,52.17,45.62,48.55,50.95,48.8,46.23,48.86,51.56,33.05,28.6,31.49,61.74,62.19,64.4,59.23,72.57,66.49,65.17,60.61,68.51,66.92,68.53,49.44,61.0,58.97,64.47,67.4,60.54,58.29,65.9,68.21,64.29,63.02,68.61,69.88,68.28,52.63,46.9,59.74,39.96,39.32,38.78,40.24,38.79,39.07,38.01,39.77,39.67,39.13,38.53,40.37,37.52,36.89,37.47,37.01,36.97,35.39,38.79,36.9,36.73,35.19,35.69,37.16,35.04,33.94,32.0,46.41,50.36,48.78,48.79,49.87,48.09,50.0,48.47,48.3,49.51,49.18,39.27,42.53,40.44]}],\"hovertemplate\":\"area=Rural\\u003cbr\\u003e%{xaxis.title.text}=%{x}\\u003cbr\\u003e%{yaxis.title.text}=%{y}\\u003cextra\\u003e\\u003c\\u002fextra\\u003e\",\"legendgroup\":\"Rural\",\"marker\":{\"color\":\"#636efa\",\"symbol\":\"circle\"},\"name\":\"Rural\",\"showlegend\":true,\"type\":\"splom\"},{\"dimensions\":[{\"axis\":{\"matches\":true},\"label\":\"estimated unemployment rate\",\"values\":[6.09,3.8,5.64,4.61,6.01,4.7,7.54,7.88,7.11,5.66,9.88,32.3,24.91,5.86,7.87,9.89,3.21,10.39,9.26,11.17,6.31,5.02,7.24,9.98,10.34,8.37,10.77,3.42,19.9,13.29,16.41,17.66,20.46,14.06,17.62,14.91,20.69,15.11,15.73,58.77,37.87,12.45,18.35,12.4,21.8,9.52,20.14,13.99,22.05,8.33,20.0,16.67,21.43,7.22,9.77,11.77,8.17,6.29,9.46,10.27,8.32,3.57,9.01,9.79,8.21,20.13,24.1,27.07,12.31,12.76,14.68,13.52,20.59,12.41,16.11,11.07,22.45,14.86,17.09,16.51,45.78,18.11,2.75,13.33,12.28,4.9,3.16,12.31,25.2,16.22,10.92,4.31,4.76,11.76,4.09,6.31,5.15,4.2,5.96,5.45,7.53,5.71,5.82,6.04,5.39,25.94,11.62,4.54,24.67,20.42,25.45,24.19,26.84,21.04,27.06,23.65,27.24,23.29,27.14,46.89,38.46,29.41,10.88,21.43,21.51,24.48,12.0,23.77,27.27,25.32,18.15,27.31,26.44,2.7,50.0,10.81,23.04,19.88,21.55,24.06,14.29,7.02,18.54,19.86,14.29,12.96,17.23,20.51,15.67,20.25,21.16,19.05,17.34,22.01,22.96,19.67,16.4,61.48,70.17,19.38,6.56,5.0,2.29,1.27,3.57,3.87,3.44,1.56,3.31,2.88,4.92,25.12,15.88,6.12,6.11,6.67,7.58,7.69,5.52,5.35,6.71,7.31,6.65,6.08,9.14,21.43,30.28,12.17,3.91,6.38,7.38,6.82,7.0,4.4,6.06,6.2,5.17,4.96,4.8,11.94,40.49,12.72,6.08,6.46,6.35,7.57,7.6,7.51,7.6,7.83,6.67,5.34,6.34,14.99,15.92,10.01,8.4,8.66,4.43,5.8,5.3,7.2,3.02,5.21,4.76,7.37,2.8,17.39,14.58,2.95,2.63,1.78,3.5,3.78,4.5,2.23,3.36,2.28,2.19,3.96,20.5,10.0,2.18,1.25,0.0,0.0,8.95,1.22,1.17,1.37,5.21,0.57,1.78,0.62,76.74,75.0,4.55,13.49,13.17,11.61,11.99,15.69,13.75,10.39,11.97,13.68,11.99,9.97,1.13,20.54,10.55,13.62,14.36,11.67,14.71,12.63,13.02,14.3,18.04,18.82,17.02,18.54,35.53,25.35,13.04,8.2,7.76,2.56,4.82,4.81,9.68,4.04,7.37,20.45,5.77,19.75,2.63,0.89,1.56,3.18,9.53,1.86,1.13,2.65,8.05,2.05,3.31,6.46,45.55,25.95,24.93,1.52,1.43,3.73,4.19,6.19,6.74,5.23,4.22,6.49,6.74,6.1,10.5,36.57,6.92,34.69,25.59,25.81,33.45,33.57,26.67,27.15,33.48,34.37,33.88,25.69,34.88,16.78,27.47,14.4,11.62,11.8,14.73,13.58,10.35,11.31,12.37,12.34,11.65,12.32,26.94,32.06,13.05,9.17,4.69,6.94,7.43,9.62,4.72,6.34,7.39,8.92,5.28,8.15,13.18,17.36,5.08,7.25,7.38,7.91,7.27,7.79,7.83,6.61,7.24,7.27,7.55,6.67,15.63,15.22,9.86]},{\"axis\":{\"matches\":true},\"label\":\"estimated employed\",\"values\":[4788661,4824630,4657443,4743179,4733996,4774377,4668772,4913963,4618860,4822035,4521537,2544084,3428356,4954389,1671707,1647342,1739838,1595582,1576480,1595176,1708045,1722303,1630908,1625454,1664145,1454956,1441722,1551007,3029344,3248864,3059744,2994763,2992082,3173429,3081077,2977857,2988665,3113464,3049637,1400962,2207026,3124663,348042,337145,294379,328282,327239,330856,289593,311146,332062,316887,279839,306505,2223129,2192020,2285436,2392400,2311507,2297096,2341284,2415436,2315972,2347941,2407509,1066126,1276291,1602231,5756475,5550172,5393091,5552510,5642253,6030363,5439600,5718337,5647493,5708807,5401392,3003787,2343783,4306807,264855,304015,280367,243277,309643,290264,271612,288154,257814,306396,277093,318957,9686558,10144965,9828023,10228154,9609939,10474217,9896129,10172812,9824501,10784753,10083026,6701284,6072776,10574711,2693596,2845190,2405973,2523005,2675862,2821456,2404239,2548835,2630938,2752834,2275407,1606580,2013083,2304138,245668,237576,235894,236315,247210,232322,233029,241366,246596,227804,221432,146957,134868,224902,1130139,1139815,1183770,1029087,1226793,1209085,1079537,1060116,998103,937435,2404033,2326911,2434579,2335406,2357627,2460196,2424281,2290170,2329293,2493023,2480661,1054829,830347,2244460,8638239,8862498,8738029,8614340,8647794,8799249,8613835,8592376,8749154,8924061,9225835,7387995,8669258,8822411,4605913,4678374,4105211,4448650,4640642,4644510,4062767,4440283,4597507,4624444,4079775,2179106,2826118,4601293,6692720,6509340,6266446,6809834,6655967,6603715,6459457,6787403,6834930,6533435,6386723,4802873,3879934,6221562,16962574,17375053,17215677,16602767,17396398,17221991,17486683,16581144,16715470,17122782,17065830,12674451,12365754,16172690,228978,231252,284015,259433,253887,234375,293431,267417,261687,233965,289735,161939,222916,2519582,2356290,2542237,2456983,2570663,2456855,2594469,2369048,2561320,2438080,2457952,1303244,1975481,2221069,283905,304369,281117,312882,286573,312548,275003,313135,281698,310342,278851,68122,64538,234926,3289918,3307798,3592442,3499863,3227178,3070438,3602243,3575778,3252622,3219227,3601793,2298975,2682658,3047750,5108436,5241174,5372470,5195170,5176819,5384335,5306715,5109481,5157363,5288343,4964911,2932923,4225486,5275784,89587,89702,108334,90850,89450,87974,107751,88035,86186,81905,75456,76269,11798080,12318745,12054414,11933093,11902824,12223948,11729952,12260389,11926995,11742101,10982178,4632967,5733921,7741005,5560649,5683349,5432503,5544693,5668785,5318341,5338119,5317782,5543380,5521496,5313236,3378431,3108830,4577995,423127,408738,410583,368977,418043,414808,427700,399427,450155,415339,450271,296431,384999,391015,13391244,13624452,13862431,13580241,13522970,13938303,14128888,13857200,13656250,13803099,13889632,10944379,11111486,13208724,676797,906889,859900,823967,711150,925174,904903,844779,725253,963408,889245,748041,778590,989470,11306177,10611498,10779829,11456493,11158649,10563686,10768462,11335696,11208617,10871168,10806105,9299466,9240903,9088931]},{\"axis\":{\"matches\":true},\"label\":\"estimated labour participation rate\",\"values\":[37.45,36.76,36.1,36.29,36.69,36.41,36.62,38.61,35.91,36.84,36.08,26.97,32.69,37.61,44.92,45.17,44.32,43.81,42.66,44.01,44.59,44.26,42.82,43.9,45.03,38.45,39.04,38.73,39.8,39.35,38.36,38.03,39.25,38.45,38.86,36.29,38.99,37.87,37.29,34.94,36.45,36.54,44.89,40.44,39.47,37.95,42.77,40.06,38.6,35.19,42.94,39.25,36.68,33.8,45.61,45.88,45.85,46.91,46.8,46.82,46.59,45.59,46.21,47.14,47.39,24.06,30.24,39.41,44.17,42.71,42.34,42.9,47.36,45.78,43.02,42.56,48.09,44.18,42.82,23.59,28.28,34.32,34.17,43.96,40.0,31.97,39.92,41.27,45.22,42.77,35.95,39.73,36.05,44.74,41.67,44.57,42.54,43.72,41.75,45.14,43.5,43.75,42.19,46.31,42.9,36.33,27.52,44.26,43.18,43.06,38.77,39.87,43.7,42.58,39.18,39.57,42.75,42.32,36.73,35.48,38.27,38.09,45.27,49.58,49.22,51.17,45.87,49.69,52.17,52.55,48.92,50.82,48.74,24.42,43.55,40.66,46.74,45.17,47.8,42.63,44.92,40.71,41.4,41.23,36.21,33.33,43.25,43.51,42.82,43.35,44.18,44.82,43.17,43.14,44.33,45.42,43.34,39.92,40.49,40.43,40.62,40.89,39.09,38.04,39.0,39.7,38.6,37.66,38.94,39.45,41.55,42.14,43.9,39.93,36.65,37.42,33.13,35.91,36.57,36.49,32.36,35.56,36.53,36.48,33.24,20.51,29.95,38.68,38.96,38.8,37.67,40.6,39.67,38.2,37.94,39.83,39.59,37.68,36.68,29.76,35.49,38.72,38.3,39.3,38.81,37.84,39.58,39.05,39.61,37.57,37.32,37.61,37.8,30.86,30.38,37.04,47.79,48.29,56.55,52.27,50.77,47.71,57.02,53.04,51.53,47.26,55.64,36.51,48.48,41.26,38.39,40.99,40.25,42.15,40.51,41.71,38.46,41.05,38.97,39.93,25.53,34.12,35.24,35.71,37.73,34.77,42.41,35.73,38.86,34.19,40.42,34.59,38.5,34.12,35.54,31.25,29.73,40.03,40.02,42.62,41.61,39.97,37.1,41.82,42.17,39.04,37.82,41.29,23.95,34.71,34.96,39.44,40.73,40.38,40.34,39.15,40.8,40.73,40.9,41.59,41.62,39.71,29.57,36.71,39.26,48.61,48.13,54.67,46.63,45.61,46.97,53.8,45.24,50.57,40.31,43.32,35.85,37.31,39.16,38.89,41.13,37.76,38.42,37.38,41.29,37.64,37.48,36.17,26.17,23.77,31.6,44.59,45.43,44.36,45.39,47.28,44.51,43.87,43.13,45.95,45.78,43.65,29.05,37.63,37.68,69.5,58.8,59.1,59.07,66.9,60.0,62.14,63.41,72.26,66.04,63.56,47.65,48.31,56.17,40.43,39.75,40.43,40.87,40.07,39.71,40.6,40.21,39.52,39.54,40.0,37.74,41.1,38.09,26.33,33.54,32.48,31.21,27.51,33.87,33.61,31.65,27.55,35.11,33.33,29.59,32.27,35.61,46.37,43.51,44.38,46.77,45.74,43.25,43.44,45.97,45.39,44.09,43.34,41.2,40.67,37.57]}],\"hovertemplate\":\"area=Urban\\u003cbr\\u003e%{xaxis.title.text}=%{x}\\u003cbr\\u003e%{yaxis.title.text}=%{y}\\u003cextra\\u003e\\u003c\\u002fextra\\u003e\",\"legendgroup\":\"Urban\",\"marker\":{\"color\":\"#EF553B\",\"symbol\":\"circle\"},\"name\":\"Urban\",\"showlegend\":true,\"type\":\"splom\"}],                        {\"template\":{\"data\":{\"histogram2dcontour\":[{\"type\":\"histogram2dcontour\",\"colorbar\":{\"outlinewidth\":0,\"ticks\":\"\"},\"colorscale\":[[0.0,\"#0d0887\"],[0.1111111111111111,\"#46039f\"],[0.2222222222222222,\"#7201a8\"],[0.3333333333333333,\"#9c179e\"],[0.4444444444444444,\"#bd3786\"],[0.5555555555555556,\"#d8576b\"],[0.6666666666666666,\"#ed7953\"],[0.7777777777777778,\"#fb9f3a\"],[0.8888888888888888,\"#fdca26\"],[1.0,\"#f0f921\"]]}],\"choropleth\":[{\"type\":\"choropleth\",\"colorbar\":{\"outlinewidth\":0,\"ticks\":\"\"}}],\"histogram2d\":[{\"type\":\"histogram2d\",\"colorbar\":{\"outlinewidth\":0,\"ticks\":\"\"},\"colorscale\":[[0.0,\"#0d0887\"],[0.1111111111111111,\"#46039f\"],[0.2222222222222222,\"#7201a8\"],[0.3333333333333333,\"#9c179e\"],[0.4444444444444444,\"#bd3786\"],[0.5555555555555556,\"#d8576b\"],[0.6666666666666666,\"#ed7953\"],[0.7777777777777778,\"#fb9f3a\"],[0.8888888888888888,\"#fdca26\"],[1.0,\"#f0f921\"]]}],\"heatmap\":[{\"type\":\"heatmap\",\"colorbar\":{\"outlinewidth\":0,\"ticks\":\"\"},\"colorscale\":[[0.0,\"#0d0887\"],[0.1111111111111111,\"#46039f\"],[0.2222222222222222,\"#7201a8\"],[0.3333333333333333,\"#9c179e\"],[0.4444444444444444,\"#bd3786\"],[0.5555555555555556,\"#d8576b\"],[0.6666666666666666,\"#ed7953\"],[0.7777777777777778,\"#fb9f3a\"],[0.8888888888888888,\"#fdca26\"],[1.0,\"#f0f921\"]]}],\"heatmapgl\":[{\"type\":\"heatmapgl\",\"colorbar\":{\"outlinewidth\":0,\"ticks\":\"\"},\"colorscale\":[[0.0,\"#0d0887\"],[0.1111111111111111,\"#46039f\"],[0.2222222222222222,\"#7201a8\"],[0.3333333333333333,\"#9c179e\"],[0.4444444444444444,\"#bd3786\"],[0.5555555555555556,\"#d8576b\"],[0.6666666666666666,\"#ed7953\"],[0.7777777777777778,\"#fb9f3a\"],[0.8888888888888888,\"#fdca26\"],[1.0,\"#f0f921\"]]}],\"contourcarpet\":[{\"type\":\"contourcarpet\",\"colorbar\":{\"outlinewidth\":0,\"ticks\":\"\"}}],\"contour\":[{\"type\":\"contour\",\"colorbar\":{\"outlinewidth\":0,\"ticks\":\"\"},\"colorscale\":[[0.0,\"#0d0887\"],[0.1111111111111111,\"#46039f\"],[0.2222222222222222,\"#7201a8\"],[0.3333333333333333,\"#9c179e\"],[0.4444444444444444,\"#bd3786\"],[0.5555555555555556,\"#d8576b\"],[0.6666666666666666,\"#ed7953\"],[0.7777777777777778,\"#fb9f3a\"],[0.8888888888888888,\"#fdca26\"],[1.0,\"#f0f921\"]]}],\"surface\":[{\"type\":\"surface\",\"colorbar\":{\"outlinewidth\":0,\"ticks\":\"\"},\"colorscale\":[[0.0,\"#0d0887\"],[0.1111111111111111,\"#46039f\"],[0.2222222222222222,\"#7201a8\"],[0.3333333333333333,\"#9c179e\"],[0.4444444444444444,\"#bd3786\"],[0.5555555555555556,\"#d8576b\"],[0.6666666666666666,\"#ed7953\"],[0.7777777777777778,\"#fb9f3a\"],[0.8888888888888888,\"#fdca26\"],[1.0,\"#f0f921\"]]}],\"mesh3d\":[{\"type\":\"mesh3d\",\"colorbar\":{\"outlinewidth\":0,\"ticks\":\"\"}}],\"scatter\":[{\"fillpattern\":{\"fillmode\":\"overlay\",\"size\":10,\"solidity\":0.2},\"type\":\"scatter\"}],\"parcoords\":[{\"type\":\"parcoords\",\"line\":{\"colorbar\":{\"outlinewidth\":0,\"ticks\":\"\"}}}],\"scatterpolargl\":[{\"type\":\"scatterpolargl\",\"marker\":{\"colorbar\":{\"outlinewidth\":0,\"ticks\":\"\"}}}],\"bar\":[{\"error_x\":{\"color\":\"#2a3f5f\"},\"error_y\":{\"color\":\"#2a3f5f\"},\"marker\":{\"line\":{\"color\":\"#E5ECF6\",\"width\":0.5},\"pattern\":{\"fillmode\":\"overlay\",\"size\":10,\"solidity\":0.2}},\"type\":\"bar\"}],\"scattergeo\":[{\"type\":\"scattergeo\",\"marker\":{\"colorbar\":{\"outlinewidth\":0,\"ticks\":\"\"}}}],\"scatterpolar\":[{\"type\":\"scatterpolar\",\"marker\":{\"colorbar\":{\"outlinewidth\":0,\"ticks\":\"\"}}}],\"histogram\":[{\"marker\":{\"pattern\":{\"fillmode\":\"overlay\",\"size\":10,\"solidity\":0.2}},\"type\":\"histogram\"}],\"scattergl\":[{\"type\":\"scattergl\",\"marker\":{\"colorbar\":{\"outlinewidth\":0,\"ticks\":\"\"}}}],\"scatter3d\":[{\"type\":\"scatter3d\",\"line\":{\"colorbar\":{\"outlinewidth\":0,\"ticks\":\"\"}},\"marker\":{\"colorbar\":{\"outlinewidth\":0,\"ticks\":\"\"}}}],\"scattermapbox\":[{\"type\":\"scattermapbox\",\"marker\":{\"colorbar\":{\"outlinewidth\":0,\"ticks\":\"\"}}}],\"scatterternary\":[{\"type\":\"scatterternary\",\"marker\":{\"colorbar\":{\"outlinewidth\":0,\"ticks\":\"\"}}}],\"scattercarpet\":[{\"type\":\"scattercarpet\",\"marker\":{\"colorbar\":{\"outlinewidth\":0,\"ticks\":\"\"}}}],\"carpet\":[{\"aaxis\":{\"endlinecolor\":\"#2a3f5f\",\"gridcolor\":\"white\",\"linecolor\":\"white\",\"minorgridcolor\":\"white\",\"startlinecolor\":\"#2a3f5f\"},\"baxis\":{\"endlinecolor\":\"#2a3f5f\",\"gridcolor\":\"white\",\"linecolor\":\"white\",\"minorgridcolor\":\"white\",\"startlinecolor\":\"#2a3f5f\"},\"type\":\"carpet\"}],\"table\":[{\"cells\":{\"fill\":{\"color\":\"#EBF0F8\"},\"line\":{\"color\":\"white\"}},\"header\":{\"fill\":{\"color\":\"#C8D4E3\"},\"line\":{\"color\":\"white\"}},\"type\":\"table\"}],\"barpolar\":[{\"marker\":{\"line\":{\"color\":\"#E5ECF6\",\"width\":0.5},\"pattern\":{\"fillmode\":\"overlay\",\"size\":10,\"solidity\":0.2}},\"type\":\"barpolar\"}],\"pie\":[{\"automargin\":true,\"type\":\"pie\"}]},\"layout\":{\"autotypenumbers\":\"strict\",\"colorway\":[\"#636efa\",\"#EF553B\",\"#00cc96\",\"#ab63fa\",\"#FFA15A\",\"#19d3f3\",\"#FF6692\",\"#B6E880\",\"#FF97FF\",\"#FECB52\"],\"font\":{\"color\":\"#2a3f5f\"},\"hovermode\":\"closest\",\"hoverlabel\":{\"align\":\"left\"},\"paper_bgcolor\":\"white\",\"plot_bgcolor\":\"#E5ECF6\",\"polar\":{\"bgcolor\":\"#E5ECF6\",\"angularaxis\":{\"gridcolor\":\"white\",\"linecolor\":\"white\",\"ticks\":\"\"},\"radialaxis\":{\"gridcolor\":\"white\",\"linecolor\":\"white\",\"ticks\":\"\"}},\"ternary\":{\"bgcolor\":\"#E5ECF6\",\"aaxis\":{\"gridcolor\":\"white\",\"linecolor\":\"white\",\"ticks\":\"\"},\"baxis\":{\"gridcolor\":\"white\",\"linecolor\":\"white\",\"ticks\":\"\"},\"caxis\":{\"gridcolor\":\"white\",\"linecolor\":\"white\",\"ticks\":\"\"}},\"coloraxis\":{\"colorbar\":{\"outlinewidth\":0,\"ticks\":\"\"}},\"colorscale\":{\"sequential\":[[0.0,\"#0d0887\"],[0.1111111111111111,\"#46039f\"],[0.2222222222222222,\"#7201a8\"],[0.3333333333333333,\"#9c179e\"],[0.4444444444444444,\"#bd3786\"],[0.5555555555555556,\"#d8576b\"],[0.6666666666666666,\"#ed7953\"],[0.7777777777777778,\"#fb9f3a\"],[0.8888888888888888,\"#fdca26\"],[1.0,\"#f0f921\"]],\"sequentialminus\":[[0.0,\"#0d0887\"],[0.1111111111111111,\"#46039f\"],[0.2222222222222222,\"#7201a8\"],[0.3333333333333333,\"#9c179e\"],[0.4444444444444444,\"#bd3786\"],[0.5555555555555556,\"#d8576b\"],[0.6666666666666666,\"#ed7953\"],[0.7777777777777778,\"#fb9f3a\"],[0.8888888888888888,\"#fdca26\"],[1.0,\"#f0f921\"]],\"diverging\":[[0,\"#8e0152\"],[0.1,\"#c51b7d\"],[0.2,\"#de77ae\"],[0.3,\"#f1b6da\"],[0.4,\"#fde0ef\"],[0.5,\"#f7f7f7\"],[0.6,\"#e6f5d0\"],[0.7,\"#b8e186\"],[0.8,\"#7fbc41\"],[0.9,\"#4d9221\"],[1,\"#276419\"]]},\"xaxis\":{\"gridcolor\":\"white\",\"linecolor\":\"white\",\"ticks\":\"\",\"title\":{\"standoff\":15},\"zerolinecolor\":\"white\",\"automargin\":true,\"zerolinewidth\":2},\"yaxis\":{\"gridcolor\":\"white\",\"linecolor\":\"white\",\"ticks\":\"\",\"title\":{\"standoff\":15},\"zerolinecolor\":\"white\",\"automargin\":true,\"zerolinewidth\":2},\"scene\":{\"xaxis\":{\"backgroundcolor\":\"#E5ECF6\",\"gridcolor\":\"white\",\"linecolor\":\"white\",\"showbackground\":true,\"ticks\":\"\",\"zerolinecolor\":\"white\",\"gridwidth\":2},\"yaxis\":{\"backgroundcolor\":\"#E5ECF6\",\"gridcolor\":\"white\",\"linecolor\":\"white\",\"showbackground\":true,\"ticks\":\"\",\"zerolinecolor\":\"white\",\"gridwidth\":2},\"zaxis\":{\"backgroundcolor\":\"#E5ECF6\",\"gridcolor\":\"white\",\"linecolor\":\"white\",\"showbackground\":true,\"ticks\":\"\",\"zerolinecolor\":\"white\",\"gridwidth\":2}},\"shapedefaults\":{\"line\":{\"color\":\"#2a3f5f\"}},\"annotationdefaults\":{\"arrowcolor\":\"#2a3f5f\",\"arrowhead\":0,\"arrowwidth\":1},\"geo\":{\"bgcolor\":\"white\",\"landcolor\":\"#E5ECF6\",\"subunitcolor\":\"white\",\"showland\":true,\"showlakes\":true,\"lakecolor\":\"white\"},\"title\":{\"x\":0.05},\"mapbox\":{\"style\":\"light\"}}},\"legend\":{\"title\":{\"text\":\"area\"},\"tracegroupgap\":0},\"margin\":{\"t\":60},\"dragmode\":\"select\"},                        {\"responsive\": true}                    ).then(function(){\n",
       "                            \n",
       "var gd = document.getElementById('aae21ce7-230f-4be1-904a-9a8774e2218c');\n",
       "var x = new MutationObserver(function (mutations, observer) {{\n",
       "        var display = window.getComputedStyle(gd).display;\n",
       "        if (!display || display === 'none') {{\n",
       "            console.log([gd, 'removed!']);\n",
       "            Plotly.purge(gd);\n",
       "            observer.disconnect();\n",
       "        }}\n",
       "}});\n",
       "\n",
       "// Listen for the removal of the full notebook cells\n",
       "var notebookContainer = gd.closest('#notebook-container');\n",
       "if (notebookContainer) {{\n",
       "    x.observe(notebookContainer, {childList: true});\n",
       "}}\n",
       "\n",
       "// Listen for the clearing of the current output cell\n",
       "var outputEl = gd.closest('.output');\n",
       "if (outputEl) {{\n",
       "    x.observe(outputEl, {childList: true});\n",
       "}}\n",
       "\n",
       "                        })                };                });            </script>        </div>"
      ]
     },
     "metadata": {},
     "output_type": "display_data"
    }
   ],
   "source": [
    "#Scatter matrix showing relationships between unemployment rate, employment, and labor participation rate, color-coded by region.\n",
    "fig = px.scatter_matrix(df, template='plotly',\n",
    "                        dimensions=['estimated unemployment rate', 'estimated employed', 'estimated labour participation rate'],\n",
    "                        color='area')\n",
    "fig.show()"
   ]
  },
  {
   "cell_type": "code",
   "execution_count": 22,
   "id": "4a5424d2",
   "metadata": {},
   "outputs": [
    {
     "data": {
      "application/vnd.plotly.v1+json": {
       "config": {
        "plotlyServerURL": "https://plot.ly"
       },
       "data": [
        {
         "alignmentgroup": "True",
         "hovertemplate": "state=%{x}<br>estimated unemployment rate=%{y}<extra></extra>",
         "legendgroup": "Meghalaya",
         "marker": {
          "color": "#636efa",
          "pattern": {
           "shape": ""
          }
         },
         "name": "Meghalaya",
         "offsetgroup": "Meghalaya",
         "orientation": "v",
         "showlegend": true,
         "textposition": "auto",
         "type": "bar",
         "x": [
          "Meghalaya"
         ],
         "xaxis": "x",
         "y": [
          4.7988888888888885
         ],
         "yaxis": "y"
        },
        {
         "alignmentgroup": "True",
         "hovertemplate": "state=%{x}<br>estimated unemployment rate=%{y}<extra></extra>",
         "legendgroup": "Odisha",
         "marker": {
          "color": "#EF553B",
          "pattern": {
           "shape": ""
          }
         },
         "name": "Odisha",
         "offsetgroup": "Odisha",
         "orientation": "v",
         "showlegend": true,
         "textposition": "auto",
         "type": "bar",
         "x": [
          "Odisha"
         ],
         "xaxis": "x",
         "y": [
          5.657857142857142
         ],
         "yaxis": "y"
        },
        {
         "alignmentgroup": "True",
         "hovertemplate": "state=%{x}<br>estimated unemployment rate=%{y}<extra></extra>",
         "legendgroup": "Assam",
         "marker": {
          "color": "#00cc96",
          "pattern": {
           "shape": ""
          }
         },
         "name": "Assam",
         "offsetgroup": "Assam",
         "orientation": "v",
         "showlegend": true,
         "textposition": "auto",
         "type": "bar",
         "x": [
          "Assam"
         ],
         "xaxis": "x",
         "y": [
          6.428076923076923
         ],
         "yaxis": "y"
        },
        {
         "alignmentgroup": "True",
         "hovertemplate": "state=%{x}<br>estimated unemployment rate=%{y}<extra></extra>",
         "legendgroup": "Uttarakhand",
         "marker": {
          "color": "#ab63fa",
          "pattern": {
           "shape": ""
          }
         },
         "name": "Uttarakhand",
         "offsetgroup": "Uttarakhand",
         "orientation": "v",
         "showlegend": true,
         "textposition": "auto",
         "type": "bar",
         "x": [
          "Uttarakhand"
         ],
         "xaxis": "x",
         "y": [
          6.582962962962963
         ],
         "yaxis": "y"
        },
        {
         "alignmentgroup": "True",
         "hovertemplate": "state=%{x}<br>estimated unemployment rate=%{y}<extra></extra>",
         "legendgroup": "Gujarat",
         "marker": {
          "color": "#FFA15A",
          "pattern": {
           "shape": ""
          }
         },
         "name": "Gujarat",
         "offsetgroup": "Gujarat",
         "orientation": "v",
         "showlegend": true,
         "textposition": "auto",
         "type": "bar",
         "x": [
          "Gujarat"
         ],
         "xaxis": "x",
         "y": [
          6.663928571428571
         ],
         "yaxis": "y"
        },
        {
         "alignmentgroup": "True",
         "hovertemplate": "state=%{x}<br>estimated unemployment rate=%{y}<extra></extra>",
         "legendgroup": "Karnataka",
         "marker": {
          "color": "#19d3f3",
          "pattern": {
           "shape": ""
          }
         },
         "name": "Karnataka",
         "offsetgroup": "Karnataka",
         "orientation": "v",
         "showlegend": true,
         "textposition": "auto",
         "type": "bar",
         "x": [
          "Karnataka"
         ],
         "xaxis": "x",
         "y": [
          6.676071428571428
         ],
         "yaxis": "y"
        },
        {
         "alignmentgroup": "True",
         "hovertemplate": "state=%{x}<br>estimated unemployment rate=%{y}<extra></extra>",
         "legendgroup": "Sikkim",
         "marker": {
          "color": "#FF6692",
          "pattern": {
           "shape": ""
          }
         },
         "name": "Sikkim",
         "offsetgroup": "Sikkim",
         "orientation": "v",
         "showlegend": true,
         "textposition": "auto",
         "type": "bar",
         "x": [
          "Sikkim"
         ],
         "xaxis": "x",
         "y": [
          7.249411764705882
         ],
         "yaxis": "y"
        },
        {
         "alignmentgroup": "True",
         "hovertemplate": "state=%{x}<br>estimated unemployment rate=%{y}<extra></extra>",
         "legendgroup": "Madhya Pradesh",
         "marker": {
          "color": "#B6E880",
          "pattern": {
           "shape": ""
          }
         },
         "name": "Madhya Pradesh",
         "offsetgroup": "Madhya Pradesh",
         "orientation": "v",
         "showlegend": true,
         "textposition": "auto",
         "type": "bar",
         "x": [
          "Madhya Pradesh"
         ],
         "xaxis": "x",
         "y": [
          7.406428571428571
         ],
         "yaxis": "y"
        },
        {
         "alignmentgroup": "True",
         "hovertemplate": "state=%{x}<br>estimated unemployment rate=%{y}<extra></extra>",
         "legendgroup": "Andhra Pradesh",
         "marker": {
          "color": "#FF97FF",
          "pattern": {
           "shape": ""
          }
         },
         "name": "Andhra Pradesh",
         "offsetgroup": "Andhra Pradesh",
         "orientation": "v",
         "showlegend": true,
         "textposition": "auto",
         "type": "bar",
         "x": [
          "Andhra Pradesh"
         ],
         "xaxis": "x",
         "y": [
          7.477142857142857
         ],
         "yaxis": "y"
        },
        {
         "alignmentgroup": "True",
         "hovertemplate": "state=%{x}<br>estimated unemployment rate=%{y}<extra></extra>",
         "legendgroup": "Maharashtra",
         "marker": {
          "color": "#FECB52",
          "pattern": {
           "shape": ""
          }
         },
         "name": "Maharashtra",
         "offsetgroup": "Maharashtra",
         "orientation": "v",
         "showlegend": true,
         "textposition": "auto",
         "type": "bar",
         "x": [
          "Maharashtra"
         ],
         "xaxis": "x",
         "y": [
          7.5575
         ],
         "yaxis": "y"
        },
        {
         "alignmentgroup": "True",
         "hovertemplate": "state=%{x}<br>estimated unemployment rate=%{y}<extra></extra>",
         "legendgroup": "Telangana",
         "marker": {
          "color": "#636efa",
          "pattern": {
           "shape": ""
          }
         },
         "name": "Telangana",
         "offsetgroup": "Telangana",
         "orientation": "v",
         "showlegend": true,
         "textposition": "auto",
         "type": "bar",
         "x": [
          "Telangana"
         ],
         "xaxis": "x",
         "y": [
          7.737857142857143
         ],
         "yaxis": "y"
        },
        {
         "alignmentgroup": "True",
         "hovertemplate": "state=%{x}<br>estimated unemployment rate=%{y}<extra></extra>",
         "legendgroup": "West Bengal",
         "marker": {
          "color": "#EF553B",
          "pattern": {
           "shape": ""
          }
         },
         "name": "West Bengal",
         "offsetgroup": "West Bengal",
         "orientation": "v",
         "showlegend": true,
         "textposition": "auto",
         "type": "bar",
         "x": [
          "West Bengal"
         ],
         "xaxis": "x",
         "y": [
          8.124642857142858
         ],
         "yaxis": "y"
        },
        {
         "alignmentgroup": "True",
         "hovertemplate": "state=%{x}<br>estimated unemployment rate=%{y}<extra></extra>",
         "legendgroup": "Chhattisgarh",
         "marker": {
          "color": "#00cc96",
          "pattern": {
           "shape": ""
          }
         },
         "name": "Chhattisgarh",
         "offsetgroup": "Chhattisgarh",
         "orientation": "v",
         "showlegend": true,
         "textposition": "auto",
         "type": "bar",
         "x": [
          "Chhattisgarh"
         ],
         "xaxis": "x",
         "y": [
          9.240357142857144
         ],
         "yaxis": "y"
        },
        {
         "alignmentgroup": "True",
         "hovertemplate": "state=%{x}<br>estimated unemployment rate=%{y}<extra></extra>",
         "legendgroup": "Goa",
         "marker": {
          "color": "#ab63fa",
          "pattern": {
           "shape": ""
          }
         },
         "name": "Goa",
         "offsetgroup": "Goa",
         "orientation": "v",
         "showlegend": true,
         "textposition": "auto",
         "type": "bar",
         "x": [
          "Goa"
         ],
         "xaxis": "x",
         "y": [
          9.274166666666666
         ],
         "yaxis": "y"
        },
        {
         "alignmentgroup": "True",
         "hovertemplate": "state=%{x}<br>estimated unemployment rate=%{y}<extra></extra>",
         "legendgroup": "Tamil Nadu",
         "marker": {
          "color": "#FFA15A",
          "pattern": {
           "shape": ""
          }
         },
         "name": "Tamil Nadu",
         "offsetgroup": "Tamil Nadu",
         "orientation": "v",
         "showlegend": true,
         "textposition": "auto",
         "type": "bar",
         "x": [
          "Tamil Nadu"
         ],
         "xaxis": "x",
         "y": [
          9.284285714285714
         ],
         "yaxis": "y"
        },
        {
         "alignmentgroup": "True",
         "hovertemplate": "state=%{x}<br>estimated unemployment rate=%{y}<extra></extra>",
         "legendgroup": "Kerala",
         "marker": {
          "color": "#19d3f3",
          "pattern": {
           "shape": ""
          }
         },
         "name": "Kerala",
         "offsetgroup": "Kerala",
         "orientation": "v",
         "showlegend": true,
         "textposition": "auto",
         "type": "bar",
         "x": [
          "Kerala"
         ],
         "xaxis": "x",
         "y": [
          10.12392857142857
         ],
         "yaxis": "y"
        },
        {
         "alignmentgroup": "True",
         "hovertemplate": "state=%{x}<br>estimated unemployment rate=%{y}<extra></extra>",
         "legendgroup": "Puducherry",
         "marker": {
          "color": "#FF6692",
          "pattern": {
           "shape": ""
          }
         },
         "name": "Puducherry",
         "offsetgroup": "Puducherry",
         "orientation": "v",
         "showlegend": true,
         "textposition": "auto",
         "type": "bar",
         "x": [
          "Puducherry"
         ],
         "xaxis": "x",
         "y": [
          10.215000000000002
         ],
         "yaxis": "y"
        },
        {
         "alignmentgroup": "True",
         "hovertemplate": "state=%{x}<br>estimated unemployment rate=%{y}<extra></extra>",
         "legendgroup": "Punjab",
         "marker": {
          "color": "#B6E880",
          "pattern": {
           "shape": ""
          }
         },
         "name": "Punjab",
         "offsetgroup": "Punjab",
         "orientation": "v",
         "showlegend": true,
         "textposition": "auto",
         "type": "bar",
         "x": [
          "Punjab"
         ],
         "xaxis": "x",
         "y": [
          12.031071428571428
         ],
         "yaxis": "y"
        },
        {
         "alignmentgroup": "True",
         "hovertemplate": "state=%{x}<br>estimated unemployment rate=%{y}<extra></extra>",
         "legendgroup": "Uttar Pradesh",
         "marker": {
          "color": "#FF97FF",
          "pattern": {
           "shape": ""
          }
         },
         "name": "Uttar Pradesh",
         "offsetgroup": "Uttar Pradesh",
         "orientation": "v",
         "showlegend": true,
         "textposition": "auto",
         "type": "bar",
         "x": [
          "Uttar Pradesh"
         ],
         "xaxis": "x",
         "y": [
          12.551428571428572
         ],
         "yaxis": "y"
        },
        {
         "alignmentgroup": "True",
         "hovertemplate": "state=%{x}<br>estimated unemployment rate=%{y}<extra></extra>",
         "legendgroup": "Rajasthan",
         "marker": {
          "color": "#FECB52",
          "pattern": {
           "shape": ""
          }
         },
         "name": "Rajasthan",
         "offsetgroup": "Rajasthan",
         "orientation": "v",
         "showlegend": true,
         "textposition": "auto",
         "type": "bar",
         "x": [
          "Rajasthan"
         ],
         "xaxis": "x",
         "y": [
          14.058214285714286
         ],
         "yaxis": "y"
        },
        {
         "alignmentgroup": "True",
         "hovertemplate": "state=%{x}<br>estimated unemployment rate=%{y}<extra></extra>",
         "legendgroup": "Chandigarh",
         "marker": {
          "color": "#636efa",
          "pattern": {
           "shape": ""
          }
         },
         "name": "Chandigarh",
         "offsetgroup": "Chandigarh",
         "orientation": "v",
         "showlegend": true,
         "textposition": "auto",
         "type": "bar",
         "x": [
          "Chandigarh"
         ],
         "xaxis": "x",
         "y": [
          15.991666666666667
         ],
         "yaxis": "y"
        },
        {
         "alignmentgroup": "True",
         "hovertemplate": "state=%{x}<br>estimated unemployment rate=%{y}<extra></extra>",
         "legendgroup": "Jammu & Kashmir",
         "marker": {
          "color": "#EF553B",
          "pattern": {
           "shape": ""
          }
         },
         "name": "Jammu & Kashmir",
         "offsetgroup": "Jammu & Kashmir",
         "orientation": "v",
         "showlegend": true,
         "textposition": "auto",
         "type": "bar",
         "x": [
          "Jammu & Kashmir"
         ],
         "xaxis": "x",
         "y": [
          16.18857142857143
         ],
         "yaxis": "y"
        },
        {
         "alignmentgroup": "True",
         "hovertemplate": "state=%{x}<br>estimated unemployment rate=%{y}<extra></extra>",
         "legendgroup": "Delhi",
         "marker": {
          "color": "#00cc96",
          "pattern": {
           "shape": ""
          }
         },
         "name": "Delhi",
         "offsetgroup": "Delhi",
         "orientation": "v",
         "showlegend": true,
         "textposition": "auto",
         "type": "bar",
         "x": [
          "Delhi"
         ],
         "xaxis": "x",
         "y": [
          16.49535714285714
         ],
         "yaxis": "y"
        },
        {
         "alignmentgroup": "True",
         "hovertemplate": "state=%{x}<br>estimated unemployment rate=%{y}<extra></extra>",
         "legendgroup": "Himachal Pradesh",
         "marker": {
          "color": "#ab63fa",
          "pattern": {
           "shape": ""
          }
         },
         "name": "Himachal Pradesh",
         "offsetgroup": "Himachal Pradesh",
         "orientation": "v",
         "showlegend": true,
         "textposition": "auto",
         "type": "bar",
         "x": [
          "Himachal Pradesh"
         ],
         "xaxis": "x",
         "y": [
          18.540357142857143
         ],
         "yaxis": "y"
        },
        {
         "alignmentgroup": "True",
         "hovertemplate": "state=%{x}<br>estimated unemployment rate=%{y}<extra></extra>",
         "legendgroup": "Bihar",
         "marker": {
          "color": "#FFA15A",
          "pattern": {
           "shape": ""
          }
         },
         "name": "Bihar",
         "offsetgroup": "Bihar",
         "orientation": "v",
         "showlegend": true,
         "textposition": "auto",
         "type": "bar",
         "x": [
          "Bihar"
         ],
         "xaxis": "x",
         "y": [
          18.91821428571429
         ],
         "yaxis": "y"
        },
        {
         "alignmentgroup": "True",
         "hovertemplate": "state=%{x}<br>estimated unemployment rate=%{y}<extra></extra>",
         "legendgroup": "Jharkhand",
         "marker": {
          "color": "#19d3f3",
          "pattern": {
           "shape": ""
          }
         },
         "name": "Jharkhand",
         "offsetgroup": "Jharkhand",
         "orientation": "v",
         "showlegend": true,
         "textposition": "auto",
         "type": "bar",
         "x": [
          "Jharkhand"
         ],
         "xaxis": "x",
         "y": [
          20.585
         ],
         "yaxis": "y"
        },
        {
         "alignmentgroup": "True",
         "hovertemplate": "state=%{x}<br>estimated unemployment rate=%{y}<extra></extra>",
         "legendgroup": "Haryana",
         "marker": {
          "color": "#FF6692",
          "pattern": {
           "shape": ""
          }
         },
         "name": "Haryana",
         "offsetgroup": "Haryana",
         "orientation": "v",
         "showlegend": true,
         "textposition": "auto",
         "type": "bar",
         "x": [
          "Haryana"
         ],
         "xaxis": "x",
         "y": [
          26.283214285714283
         ],
         "yaxis": "y"
        },
        {
         "alignmentgroup": "True",
         "hovertemplate": "state=%{x}<br>estimated unemployment rate=%{y}<extra></extra>",
         "legendgroup": "Tripura",
         "marker": {
          "color": "#B6E880",
          "pattern": {
           "shape": ""
          }
         },
         "name": "Tripura",
         "offsetgroup": "Tripura",
         "orientation": "v",
         "showlegend": true,
         "textposition": "auto",
         "type": "bar",
         "x": [
          "Tripura"
         ],
         "xaxis": "x",
         "y": [
          28.350357142857142
         ],
         "yaxis": "y"
        }
       ],
       "layout": {
        "barmode": "relative",
        "legend": {
         "title": {
          "text": "state"
         },
         "tracegroupgap": 0
        },
        "template": {
         "data": {
          "bar": [
           {
            "error_x": {
             "color": "#2a3f5f"
            },
            "error_y": {
             "color": "#2a3f5f"
            },
            "marker": {
             "line": {
              "color": "#E5ECF6",
              "width": 0.5
             },
             "pattern": {
              "fillmode": "overlay",
              "size": 10,
              "solidity": 0.2
             }
            },
            "type": "bar"
           }
          ],
          "barpolar": [
           {
            "marker": {
             "line": {
              "color": "#E5ECF6",
              "width": 0.5
             },
             "pattern": {
              "fillmode": "overlay",
              "size": 10,
              "solidity": 0.2
             }
            },
            "type": "barpolar"
           }
          ],
          "carpet": [
           {
            "aaxis": {
             "endlinecolor": "#2a3f5f",
             "gridcolor": "white",
             "linecolor": "white",
             "minorgridcolor": "white",
             "startlinecolor": "#2a3f5f"
            },
            "baxis": {
             "endlinecolor": "#2a3f5f",
             "gridcolor": "white",
             "linecolor": "white",
             "minorgridcolor": "white",
             "startlinecolor": "#2a3f5f"
            },
            "type": "carpet"
           }
          ],
          "choropleth": [
           {
            "colorbar": {
             "outlinewidth": 0,
             "ticks": ""
            },
            "type": "choropleth"
           }
          ],
          "contour": [
           {
            "colorbar": {
             "outlinewidth": 0,
             "ticks": ""
            },
            "colorscale": [
             [
              0,
              "#0d0887"
             ],
             [
              0.1111111111111111,
              "#46039f"
             ],
             [
              0.2222222222222222,
              "#7201a8"
             ],
             [
              0.3333333333333333,
              "#9c179e"
             ],
             [
              0.4444444444444444,
              "#bd3786"
             ],
             [
              0.5555555555555556,
              "#d8576b"
             ],
             [
              0.6666666666666666,
              "#ed7953"
             ],
             [
              0.7777777777777778,
              "#fb9f3a"
             ],
             [
              0.8888888888888888,
              "#fdca26"
             ],
             [
              1,
              "#f0f921"
             ]
            ],
            "type": "contour"
           }
          ],
          "contourcarpet": [
           {
            "colorbar": {
             "outlinewidth": 0,
             "ticks": ""
            },
            "type": "contourcarpet"
           }
          ],
          "heatmap": [
           {
            "colorbar": {
             "outlinewidth": 0,
             "ticks": ""
            },
            "colorscale": [
             [
              0,
              "#0d0887"
             ],
             [
              0.1111111111111111,
              "#46039f"
             ],
             [
              0.2222222222222222,
              "#7201a8"
             ],
             [
              0.3333333333333333,
              "#9c179e"
             ],
             [
              0.4444444444444444,
              "#bd3786"
             ],
             [
              0.5555555555555556,
              "#d8576b"
             ],
             [
              0.6666666666666666,
              "#ed7953"
             ],
             [
              0.7777777777777778,
              "#fb9f3a"
             ],
             [
              0.8888888888888888,
              "#fdca26"
             ],
             [
              1,
              "#f0f921"
             ]
            ],
            "type": "heatmap"
           }
          ],
          "heatmapgl": [
           {
            "colorbar": {
             "outlinewidth": 0,
             "ticks": ""
            },
            "colorscale": [
             [
              0,
              "#0d0887"
             ],
             [
              0.1111111111111111,
              "#46039f"
             ],
             [
              0.2222222222222222,
              "#7201a8"
             ],
             [
              0.3333333333333333,
              "#9c179e"
             ],
             [
              0.4444444444444444,
              "#bd3786"
             ],
             [
              0.5555555555555556,
              "#d8576b"
             ],
             [
              0.6666666666666666,
              "#ed7953"
             ],
             [
              0.7777777777777778,
              "#fb9f3a"
             ],
             [
              0.8888888888888888,
              "#fdca26"
             ],
             [
              1,
              "#f0f921"
             ]
            ],
            "type": "heatmapgl"
           }
          ],
          "histogram": [
           {
            "marker": {
             "pattern": {
              "fillmode": "overlay",
              "size": 10,
              "solidity": 0.2
             }
            },
            "type": "histogram"
           }
          ],
          "histogram2d": [
           {
            "colorbar": {
             "outlinewidth": 0,
             "ticks": ""
            },
            "colorscale": [
             [
              0,
              "#0d0887"
             ],
             [
              0.1111111111111111,
              "#46039f"
             ],
             [
              0.2222222222222222,
              "#7201a8"
             ],
             [
              0.3333333333333333,
              "#9c179e"
             ],
             [
              0.4444444444444444,
              "#bd3786"
             ],
             [
              0.5555555555555556,
              "#d8576b"
             ],
             [
              0.6666666666666666,
              "#ed7953"
             ],
             [
              0.7777777777777778,
              "#fb9f3a"
             ],
             [
              0.8888888888888888,
              "#fdca26"
             ],
             [
              1,
              "#f0f921"
             ]
            ],
            "type": "histogram2d"
           }
          ],
          "histogram2dcontour": [
           {
            "colorbar": {
             "outlinewidth": 0,
             "ticks": ""
            },
            "colorscale": [
             [
              0,
              "#0d0887"
             ],
             [
              0.1111111111111111,
              "#46039f"
             ],
             [
              0.2222222222222222,
              "#7201a8"
             ],
             [
              0.3333333333333333,
              "#9c179e"
             ],
             [
              0.4444444444444444,
              "#bd3786"
             ],
             [
              0.5555555555555556,
              "#d8576b"
             ],
             [
              0.6666666666666666,
              "#ed7953"
             ],
             [
              0.7777777777777778,
              "#fb9f3a"
             ],
             [
              0.8888888888888888,
              "#fdca26"
             ],
             [
              1,
              "#f0f921"
             ]
            ],
            "type": "histogram2dcontour"
           }
          ],
          "mesh3d": [
           {
            "colorbar": {
             "outlinewidth": 0,
             "ticks": ""
            },
            "type": "mesh3d"
           }
          ],
          "parcoords": [
           {
            "line": {
             "colorbar": {
              "outlinewidth": 0,
              "ticks": ""
             }
            },
            "type": "parcoords"
           }
          ],
          "pie": [
           {
            "automargin": true,
            "type": "pie"
           }
          ],
          "scatter": [
           {
            "fillpattern": {
             "fillmode": "overlay",
             "size": 10,
             "solidity": 0.2
            },
            "type": "scatter"
           }
          ],
          "scatter3d": [
           {
            "line": {
             "colorbar": {
              "outlinewidth": 0,
              "ticks": ""
             }
            },
            "marker": {
             "colorbar": {
              "outlinewidth": 0,
              "ticks": ""
             }
            },
            "type": "scatter3d"
           }
          ],
          "scattercarpet": [
           {
            "marker": {
             "colorbar": {
              "outlinewidth": 0,
              "ticks": ""
             }
            },
            "type": "scattercarpet"
           }
          ],
          "scattergeo": [
           {
            "marker": {
             "colorbar": {
              "outlinewidth": 0,
              "ticks": ""
             }
            },
            "type": "scattergeo"
           }
          ],
          "scattergl": [
           {
            "marker": {
             "colorbar": {
              "outlinewidth": 0,
              "ticks": ""
             }
            },
            "type": "scattergl"
           }
          ],
          "scattermapbox": [
           {
            "marker": {
             "colorbar": {
              "outlinewidth": 0,
              "ticks": ""
             }
            },
            "type": "scattermapbox"
           }
          ],
          "scatterpolar": [
           {
            "marker": {
             "colorbar": {
              "outlinewidth": 0,
              "ticks": ""
             }
            },
            "type": "scatterpolar"
           }
          ],
          "scatterpolargl": [
           {
            "marker": {
             "colorbar": {
              "outlinewidth": 0,
              "ticks": ""
             }
            },
            "type": "scatterpolargl"
           }
          ],
          "scatterternary": [
           {
            "marker": {
             "colorbar": {
              "outlinewidth": 0,
              "ticks": ""
             }
            },
            "type": "scatterternary"
           }
          ],
          "surface": [
           {
            "colorbar": {
             "outlinewidth": 0,
             "ticks": ""
            },
            "colorscale": [
             [
              0,
              "#0d0887"
             ],
             [
              0.1111111111111111,
              "#46039f"
             ],
             [
              0.2222222222222222,
              "#7201a8"
             ],
             [
              0.3333333333333333,
              "#9c179e"
             ],
             [
              0.4444444444444444,
              "#bd3786"
             ],
             [
              0.5555555555555556,
              "#d8576b"
             ],
             [
              0.6666666666666666,
              "#ed7953"
             ],
             [
              0.7777777777777778,
              "#fb9f3a"
             ],
             [
              0.8888888888888888,
              "#fdca26"
             ],
             [
              1,
              "#f0f921"
             ]
            ],
            "type": "surface"
           }
          ],
          "table": [
           {
            "cells": {
             "fill": {
              "color": "#EBF0F8"
             },
             "line": {
              "color": "white"
             }
            },
            "header": {
             "fill": {
              "color": "#C8D4E3"
             },
             "line": {
              "color": "white"
             }
            },
            "type": "table"
           }
          ]
         },
         "layout": {
          "annotationdefaults": {
           "arrowcolor": "#2a3f5f",
           "arrowhead": 0,
           "arrowwidth": 1
          },
          "autotypenumbers": "strict",
          "coloraxis": {
           "colorbar": {
            "outlinewidth": 0,
            "ticks": ""
           }
          },
          "colorscale": {
           "diverging": [
            [
             0,
             "#8e0152"
            ],
            [
             0.1,
             "#c51b7d"
            ],
            [
             0.2,
             "#de77ae"
            ],
            [
             0.3,
             "#f1b6da"
            ],
            [
             0.4,
             "#fde0ef"
            ],
            [
             0.5,
             "#f7f7f7"
            ],
            [
             0.6,
             "#e6f5d0"
            ],
            [
             0.7,
             "#b8e186"
            ],
            [
             0.8,
             "#7fbc41"
            ],
            [
             0.9,
             "#4d9221"
            ],
            [
             1,
             "#276419"
            ]
           ],
           "sequential": [
            [
             0,
             "#0d0887"
            ],
            [
             0.1111111111111111,
             "#46039f"
            ],
            [
             0.2222222222222222,
             "#7201a8"
            ],
            [
             0.3333333333333333,
             "#9c179e"
            ],
            [
             0.4444444444444444,
             "#bd3786"
            ],
            [
             0.5555555555555556,
             "#d8576b"
            ],
            [
             0.6666666666666666,
             "#ed7953"
            ],
            [
             0.7777777777777778,
             "#fb9f3a"
            ],
            [
             0.8888888888888888,
             "#fdca26"
            ],
            [
             1,
             "#f0f921"
            ]
           ],
           "sequentialminus": [
            [
             0,
             "#0d0887"
            ],
            [
             0.1111111111111111,
             "#46039f"
            ],
            [
             0.2222222222222222,
             "#7201a8"
            ],
            [
             0.3333333333333333,
             "#9c179e"
            ],
            [
             0.4444444444444444,
             "#bd3786"
            ],
            [
             0.5555555555555556,
             "#d8576b"
            ],
            [
             0.6666666666666666,
             "#ed7953"
            ],
            [
             0.7777777777777778,
             "#fb9f3a"
            ],
            [
             0.8888888888888888,
             "#fdca26"
            ],
            [
             1,
             "#f0f921"
            ]
           ]
          },
          "colorway": [
           "#636efa",
           "#EF553B",
           "#00cc96",
           "#ab63fa",
           "#FFA15A",
           "#19d3f3",
           "#FF6692",
           "#B6E880",
           "#FF97FF",
           "#FECB52"
          ],
          "font": {
           "color": "#2a3f5f"
          },
          "geo": {
           "bgcolor": "white",
           "lakecolor": "white",
           "landcolor": "#E5ECF6",
           "showlakes": true,
           "showland": true,
           "subunitcolor": "white"
          },
          "hoverlabel": {
           "align": "left"
          },
          "hovermode": "closest",
          "mapbox": {
           "style": "light"
          },
          "paper_bgcolor": "white",
          "plot_bgcolor": "#E5ECF6",
          "polar": {
           "angularaxis": {
            "gridcolor": "white",
            "linecolor": "white",
            "ticks": ""
           },
           "bgcolor": "#E5ECF6",
           "radialaxis": {
            "gridcolor": "white",
            "linecolor": "white",
            "ticks": ""
           }
          },
          "scene": {
           "xaxis": {
            "backgroundcolor": "#E5ECF6",
            "gridcolor": "white",
            "gridwidth": 2,
            "linecolor": "white",
            "showbackground": true,
            "ticks": "",
            "zerolinecolor": "white"
           },
           "yaxis": {
            "backgroundcolor": "#E5ECF6",
            "gridcolor": "white",
            "gridwidth": 2,
            "linecolor": "white",
            "showbackground": true,
            "ticks": "",
            "zerolinecolor": "white"
           },
           "zaxis": {
            "backgroundcolor": "#E5ECF6",
            "gridcolor": "white",
            "gridwidth": 2,
            "linecolor": "white",
            "showbackground": true,
            "ticks": "",
            "zerolinecolor": "white"
           }
          },
          "shapedefaults": {
           "line": {
            "color": "#2a3f5f"
           }
          },
          "ternary": {
           "aaxis": {
            "gridcolor": "white",
            "linecolor": "white",
            "ticks": ""
           },
           "baxis": {
            "gridcolor": "white",
            "linecolor": "white",
            "ticks": ""
           },
           "bgcolor": "#E5ECF6",
           "caxis": {
            "gridcolor": "white",
            "linecolor": "white",
            "ticks": ""
           }
          },
          "title": {
           "x": 0.05
          },
          "xaxis": {
           "automargin": true,
           "gridcolor": "white",
           "linecolor": "white",
           "ticks": "",
           "title": {
            "standoff": 15
           },
           "zerolinecolor": "white",
           "zerolinewidth": 2
          },
          "yaxis": {
           "automargin": true,
           "gridcolor": "white",
           "linecolor": "white",
           "ticks": "",
           "title": {
            "standoff": 15
           },
           "zerolinecolor": "white",
           "zerolinewidth": 2
          }
         }
        },
        "title": {
         "text": "Average Unemployment Rate in each state"
        },
        "xaxis": {
         "anchor": "y",
         "categoryarray": [
          "Meghalaya",
          "Odisha",
          "Assam",
          "Uttarakhand",
          "Gujarat",
          "Karnataka",
          "Sikkim",
          "Madhya Pradesh",
          "Andhra Pradesh",
          "Maharashtra",
          "Telangana",
          "West Bengal",
          "Chhattisgarh",
          "Goa",
          "Tamil Nadu",
          "Kerala",
          "Puducherry",
          "Punjab",
          "Uttar Pradesh",
          "Rajasthan",
          "Chandigarh",
          "Jammu & Kashmir",
          "Delhi",
          "Himachal Pradesh",
          "Bihar",
          "Jharkhand",
          "Haryana",
          "Tripura"
         ],
         "categoryorder": "array",
         "domain": [
          0,
          1
         ],
         "title": {
          "text": "state"
         }
        },
        "yaxis": {
         "anchor": "x",
         "domain": [
          0,
          1
         ],
         "title": {
          "text": "estimated unemployment rate"
         }
        }
       }
      },
      "text/html": [
       "<div>                            <div id=\"6f7e6cd0-e9a9-4c6e-a5bc-dc7ffc68e079\" class=\"plotly-graph-div\" style=\"height:525px; width:100%;\"></div>            <script type=\"text/javascript\">                require([\"plotly\"], function(Plotly) {                    window.PLOTLYENV=window.PLOTLYENV || {};                                    if (document.getElementById(\"6f7e6cd0-e9a9-4c6e-a5bc-dc7ffc68e079\")) {                    Plotly.newPlot(                        \"6f7e6cd0-e9a9-4c6e-a5bc-dc7ffc68e079\",                        [{\"alignmentgroup\":\"True\",\"hovertemplate\":\"state=%{x}\\u003cbr\\u003eestimated unemployment rate=%{y}\\u003cextra\\u003e\\u003c\\u002fextra\\u003e\",\"legendgroup\":\"Meghalaya\",\"marker\":{\"color\":\"#636efa\",\"pattern\":{\"shape\":\"\"}},\"name\":\"Meghalaya\",\"offsetgroup\":\"Meghalaya\",\"orientation\":\"v\",\"showlegend\":true,\"textposition\":\"auto\",\"x\":[\"Meghalaya\"],\"xaxis\":\"x\",\"y\":[4.7988888888888885],\"yaxis\":\"y\",\"type\":\"bar\"},{\"alignmentgroup\":\"True\",\"hovertemplate\":\"state=%{x}\\u003cbr\\u003eestimated unemployment rate=%{y}\\u003cextra\\u003e\\u003c\\u002fextra\\u003e\",\"legendgroup\":\"Odisha\",\"marker\":{\"color\":\"#EF553B\",\"pattern\":{\"shape\":\"\"}},\"name\":\"Odisha\",\"offsetgroup\":\"Odisha\",\"orientation\":\"v\",\"showlegend\":true,\"textposition\":\"auto\",\"x\":[\"Odisha\"],\"xaxis\":\"x\",\"y\":[5.657857142857142],\"yaxis\":\"y\",\"type\":\"bar\"},{\"alignmentgroup\":\"True\",\"hovertemplate\":\"state=%{x}\\u003cbr\\u003eestimated unemployment rate=%{y}\\u003cextra\\u003e\\u003c\\u002fextra\\u003e\",\"legendgroup\":\"Assam\",\"marker\":{\"color\":\"#00cc96\",\"pattern\":{\"shape\":\"\"}},\"name\":\"Assam\",\"offsetgroup\":\"Assam\",\"orientation\":\"v\",\"showlegend\":true,\"textposition\":\"auto\",\"x\":[\"Assam\"],\"xaxis\":\"x\",\"y\":[6.428076923076923],\"yaxis\":\"y\",\"type\":\"bar\"},{\"alignmentgroup\":\"True\",\"hovertemplate\":\"state=%{x}\\u003cbr\\u003eestimated unemployment rate=%{y}\\u003cextra\\u003e\\u003c\\u002fextra\\u003e\",\"legendgroup\":\"Uttarakhand\",\"marker\":{\"color\":\"#ab63fa\",\"pattern\":{\"shape\":\"\"}},\"name\":\"Uttarakhand\",\"offsetgroup\":\"Uttarakhand\",\"orientation\":\"v\",\"showlegend\":true,\"textposition\":\"auto\",\"x\":[\"Uttarakhand\"],\"xaxis\":\"x\",\"y\":[6.582962962962963],\"yaxis\":\"y\",\"type\":\"bar\"},{\"alignmentgroup\":\"True\",\"hovertemplate\":\"state=%{x}\\u003cbr\\u003eestimated unemployment rate=%{y}\\u003cextra\\u003e\\u003c\\u002fextra\\u003e\",\"legendgroup\":\"Gujarat\",\"marker\":{\"color\":\"#FFA15A\",\"pattern\":{\"shape\":\"\"}},\"name\":\"Gujarat\",\"offsetgroup\":\"Gujarat\",\"orientation\":\"v\",\"showlegend\":true,\"textposition\":\"auto\",\"x\":[\"Gujarat\"],\"xaxis\":\"x\",\"y\":[6.663928571428571],\"yaxis\":\"y\",\"type\":\"bar\"},{\"alignmentgroup\":\"True\",\"hovertemplate\":\"state=%{x}\\u003cbr\\u003eestimated unemployment rate=%{y}\\u003cextra\\u003e\\u003c\\u002fextra\\u003e\",\"legendgroup\":\"Karnataka\",\"marker\":{\"color\":\"#19d3f3\",\"pattern\":{\"shape\":\"\"}},\"name\":\"Karnataka\",\"offsetgroup\":\"Karnataka\",\"orientation\":\"v\",\"showlegend\":true,\"textposition\":\"auto\",\"x\":[\"Karnataka\"],\"xaxis\":\"x\",\"y\":[6.676071428571428],\"yaxis\":\"y\",\"type\":\"bar\"},{\"alignmentgroup\":\"True\",\"hovertemplate\":\"state=%{x}\\u003cbr\\u003eestimated unemployment rate=%{y}\\u003cextra\\u003e\\u003c\\u002fextra\\u003e\",\"legendgroup\":\"Sikkim\",\"marker\":{\"color\":\"#FF6692\",\"pattern\":{\"shape\":\"\"}},\"name\":\"Sikkim\",\"offsetgroup\":\"Sikkim\",\"orientation\":\"v\",\"showlegend\":true,\"textposition\":\"auto\",\"x\":[\"Sikkim\"],\"xaxis\":\"x\",\"y\":[7.249411764705882],\"yaxis\":\"y\",\"type\":\"bar\"},{\"alignmentgroup\":\"True\",\"hovertemplate\":\"state=%{x}\\u003cbr\\u003eestimated unemployment rate=%{y}\\u003cextra\\u003e\\u003c\\u002fextra\\u003e\",\"legendgroup\":\"Madhya Pradesh\",\"marker\":{\"color\":\"#B6E880\",\"pattern\":{\"shape\":\"\"}},\"name\":\"Madhya Pradesh\",\"offsetgroup\":\"Madhya Pradesh\",\"orientation\":\"v\",\"showlegend\":true,\"textposition\":\"auto\",\"x\":[\"Madhya Pradesh\"],\"xaxis\":\"x\",\"y\":[7.406428571428571],\"yaxis\":\"y\",\"type\":\"bar\"},{\"alignmentgroup\":\"True\",\"hovertemplate\":\"state=%{x}\\u003cbr\\u003eestimated unemployment rate=%{y}\\u003cextra\\u003e\\u003c\\u002fextra\\u003e\",\"legendgroup\":\"Andhra Pradesh\",\"marker\":{\"color\":\"#FF97FF\",\"pattern\":{\"shape\":\"\"}},\"name\":\"Andhra Pradesh\",\"offsetgroup\":\"Andhra Pradesh\",\"orientation\":\"v\",\"showlegend\":true,\"textposition\":\"auto\",\"x\":[\"Andhra Pradesh\"],\"xaxis\":\"x\",\"y\":[7.477142857142857],\"yaxis\":\"y\",\"type\":\"bar\"},{\"alignmentgroup\":\"True\",\"hovertemplate\":\"state=%{x}\\u003cbr\\u003eestimated unemployment rate=%{y}\\u003cextra\\u003e\\u003c\\u002fextra\\u003e\",\"legendgroup\":\"Maharashtra\",\"marker\":{\"color\":\"#FECB52\",\"pattern\":{\"shape\":\"\"}},\"name\":\"Maharashtra\",\"offsetgroup\":\"Maharashtra\",\"orientation\":\"v\",\"showlegend\":true,\"textposition\":\"auto\",\"x\":[\"Maharashtra\"],\"xaxis\":\"x\",\"y\":[7.5575],\"yaxis\":\"y\",\"type\":\"bar\"},{\"alignmentgroup\":\"True\",\"hovertemplate\":\"state=%{x}\\u003cbr\\u003eestimated unemployment rate=%{y}\\u003cextra\\u003e\\u003c\\u002fextra\\u003e\",\"legendgroup\":\"Telangana\",\"marker\":{\"color\":\"#636efa\",\"pattern\":{\"shape\":\"\"}},\"name\":\"Telangana\",\"offsetgroup\":\"Telangana\",\"orientation\":\"v\",\"showlegend\":true,\"textposition\":\"auto\",\"x\":[\"Telangana\"],\"xaxis\":\"x\",\"y\":[7.737857142857143],\"yaxis\":\"y\",\"type\":\"bar\"},{\"alignmentgroup\":\"True\",\"hovertemplate\":\"state=%{x}\\u003cbr\\u003eestimated unemployment rate=%{y}\\u003cextra\\u003e\\u003c\\u002fextra\\u003e\",\"legendgroup\":\"West Bengal\",\"marker\":{\"color\":\"#EF553B\",\"pattern\":{\"shape\":\"\"}},\"name\":\"West Bengal\",\"offsetgroup\":\"West Bengal\",\"orientation\":\"v\",\"showlegend\":true,\"textposition\":\"auto\",\"x\":[\"West Bengal\"],\"xaxis\":\"x\",\"y\":[8.124642857142858],\"yaxis\":\"y\",\"type\":\"bar\"},{\"alignmentgroup\":\"True\",\"hovertemplate\":\"state=%{x}\\u003cbr\\u003eestimated unemployment rate=%{y}\\u003cextra\\u003e\\u003c\\u002fextra\\u003e\",\"legendgroup\":\"Chhattisgarh\",\"marker\":{\"color\":\"#00cc96\",\"pattern\":{\"shape\":\"\"}},\"name\":\"Chhattisgarh\",\"offsetgroup\":\"Chhattisgarh\",\"orientation\":\"v\",\"showlegend\":true,\"textposition\":\"auto\",\"x\":[\"Chhattisgarh\"],\"xaxis\":\"x\",\"y\":[9.240357142857144],\"yaxis\":\"y\",\"type\":\"bar\"},{\"alignmentgroup\":\"True\",\"hovertemplate\":\"state=%{x}\\u003cbr\\u003eestimated unemployment rate=%{y}\\u003cextra\\u003e\\u003c\\u002fextra\\u003e\",\"legendgroup\":\"Goa\",\"marker\":{\"color\":\"#ab63fa\",\"pattern\":{\"shape\":\"\"}},\"name\":\"Goa\",\"offsetgroup\":\"Goa\",\"orientation\":\"v\",\"showlegend\":true,\"textposition\":\"auto\",\"x\":[\"Goa\"],\"xaxis\":\"x\",\"y\":[9.274166666666666],\"yaxis\":\"y\",\"type\":\"bar\"},{\"alignmentgroup\":\"True\",\"hovertemplate\":\"state=%{x}\\u003cbr\\u003eestimated unemployment rate=%{y}\\u003cextra\\u003e\\u003c\\u002fextra\\u003e\",\"legendgroup\":\"Tamil Nadu\",\"marker\":{\"color\":\"#FFA15A\",\"pattern\":{\"shape\":\"\"}},\"name\":\"Tamil Nadu\",\"offsetgroup\":\"Tamil Nadu\",\"orientation\":\"v\",\"showlegend\":true,\"textposition\":\"auto\",\"x\":[\"Tamil Nadu\"],\"xaxis\":\"x\",\"y\":[9.284285714285714],\"yaxis\":\"y\",\"type\":\"bar\"},{\"alignmentgroup\":\"True\",\"hovertemplate\":\"state=%{x}\\u003cbr\\u003eestimated unemployment rate=%{y}\\u003cextra\\u003e\\u003c\\u002fextra\\u003e\",\"legendgroup\":\"Kerala\",\"marker\":{\"color\":\"#19d3f3\",\"pattern\":{\"shape\":\"\"}},\"name\":\"Kerala\",\"offsetgroup\":\"Kerala\",\"orientation\":\"v\",\"showlegend\":true,\"textposition\":\"auto\",\"x\":[\"Kerala\"],\"xaxis\":\"x\",\"y\":[10.12392857142857],\"yaxis\":\"y\",\"type\":\"bar\"},{\"alignmentgroup\":\"True\",\"hovertemplate\":\"state=%{x}\\u003cbr\\u003eestimated unemployment rate=%{y}\\u003cextra\\u003e\\u003c\\u002fextra\\u003e\",\"legendgroup\":\"Puducherry\",\"marker\":{\"color\":\"#FF6692\",\"pattern\":{\"shape\":\"\"}},\"name\":\"Puducherry\",\"offsetgroup\":\"Puducherry\",\"orientation\":\"v\",\"showlegend\":true,\"textposition\":\"auto\",\"x\":[\"Puducherry\"],\"xaxis\":\"x\",\"y\":[10.215000000000002],\"yaxis\":\"y\",\"type\":\"bar\"},{\"alignmentgroup\":\"True\",\"hovertemplate\":\"state=%{x}\\u003cbr\\u003eestimated unemployment rate=%{y}\\u003cextra\\u003e\\u003c\\u002fextra\\u003e\",\"legendgroup\":\"Punjab\",\"marker\":{\"color\":\"#B6E880\",\"pattern\":{\"shape\":\"\"}},\"name\":\"Punjab\",\"offsetgroup\":\"Punjab\",\"orientation\":\"v\",\"showlegend\":true,\"textposition\":\"auto\",\"x\":[\"Punjab\"],\"xaxis\":\"x\",\"y\":[12.031071428571428],\"yaxis\":\"y\",\"type\":\"bar\"},{\"alignmentgroup\":\"True\",\"hovertemplate\":\"state=%{x}\\u003cbr\\u003eestimated unemployment rate=%{y}\\u003cextra\\u003e\\u003c\\u002fextra\\u003e\",\"legendgroup\":\"Uttar Pradesh\",\"marker\":{\"color\":\"#FF97FF\",\"pattern\":{\"shape\":\"\"}},\"name\":\"Uttar Pradesh\",\"offsetgroup\":\"Uttar Pradesh\",\"orientation\":\"v\",\"showlegend\":true,\"textposition\":\"auto\",\"x\":[\"Uttar Pradesh\"],\"xaxis\":\"x\",\"y\":[12.551428571428572],\"yaxis\":\"y\",\"type\":\"bar\"},{\"alignmentgroup\":\"True\",\"hovertemplate\":\"state=%{x}\\u003cbr\\u003eestimated unemployment rate=%{y}\\u003cextra\\u003e\\u003c\\u002fextra\\u003e\",\"legendgroup\":\"Rajasthan\",\"marker\":{\"color\":\"#FECB52\",\"pattern\":{\"shape\":\"\"}},\"name\":\"Rajasthan\",\"offsetgroup\":\"Rajasthan\",\"orientation\":\"v\",\"showlegend\":true,\"textposition\":\"auto\",\"x\":[\"Rajasthan\"],\"xaxis\":\"x\",\"y\":[14.058214285714286],\"yaxis\":\"y\",\"type\":\"bar\"},{\"alignmentgroup\":\"True\",\"hovertemplate\":\"state=%{x}\\u003cbr\\u003eestimated unemployment rate=%{y}\\u003cextra\\u003e\\u003c\\u002fextra\\u003e\",\"legendgroup\":\"Chandigarh\",\"marker\":{\"color\":\"#636efa\",\"pattern\":{\"shape\":\"\"}},\"name\":\"Chandigarh\",\"offsetgroup\":\"Chandigarh\",\"orientation\":\"v\",\"showlegend\":true,\"textposition\":\"auto\",\"x\":[\"Chandigarh\"],\"xaxis\":\"x\",\"y\":[15.991666666666667],\"yaxis\":\"y\",\"type\":\"bar\"},{\"alignmentgroup\":\"True\",\"hovertemplate\":\"state=%{x}\\u003cbr\\u003eestimated unemployment rate=%{y}\\u003cextra\\u003e\\u003c\\u002fextra\\u003e\",\"legendgroup\":\"Jammu & Kashmir\",\"marker\":{\"color\":\"#EF553B\",\"pattern\":{\"shape\":\"\"}},\"name\":\"Jammu & Kashmir\",\"offsetgroup\":\"Jammu & Kashmir\",\"orientation\":\"v\",\"showlegend\":true,\"textposition\":\"auto\",\"x\":[\"Jammu & Kashmir\"],\"xaxis\":\"x\",\"y\":[16.18857142857143],\"yaxis\":\"y\",\"type\":\"bar\"},{\"alignmentgroup\":\"True\",\"hovertemplate\":\"state=%{x}\\u003cbr\\u003eestimated unemployment rate=%{y}\\u003cextra\\u003e\\u003c\\u002fextra\\u003e\",\"legendgroup\":\"Delhi\",\"marker\":{\"color\":\"#00cc96\",\"pattern\":{\"shape\":\"\"}},\"name\":\"Delhi\",\"offsetgroup\":\"Delhi\",\"orientation\":\"v\",\"showlegend\":true,\"textposition\":\"auto\",\"x\":[\"Delhi\"],\"xaxis\":\"x\",\"y\":[16.49535714285714],\"yaxis\":\"y\",\"type\":\"bar\"},{\"alignmentgroup\":\"True\",\"hovertemplate\":\"state=%{x}\\u003cbr\\u003eestimated unemployment rate=%{y}\\u003cextra\\u003e\\u003c\\u002fextra\\u003e\",\"legendgroup\":\"Himachal Pradesh\",\"marker\":{\"color\":\"#ab63fa\",\"pattern\":{\"shape\":\"\"}},\"name\":\"Himachal Pradesh\",\"offsetgroup\":\"Himachal Pradesh\",\"orientation\":\"v\",\"showlegend\":true,\"textposition\":\"auto\",\"x\":[\"Himachal Pradesh\"],\"xaxis\":\"x\",\"y\":[18.540357142857143],\"yaxis\":\"y\",\"type\":\"bar\"},{\"alignmentgroup\":\"True\",\"hovertemplate\":\"state=%{x}\\u003cbr\\u003eestimated unemployment rate=%{y}\\u003cextra\\u003e\\u003c\\u002fextra\\u003e\",\"legendgroup\":\"Bihar\",\"marker\":{\"color\":\"#FFA15A\",\"pattern\":{\"shape\":\"\"}},\"name\":\"Bihar\",\"offsetgroup\":\"Bihar\",\"orientation\":\"v\",\"showlegend\":true,\"textposition\":\"auto\",\"x\":[\"Bihar\"],\"xaxis\":\"x\",\"y\":[18.91821428571429],\"yaxis\":\"y\",\"type\":\"bar\"},{\"alignmentgroup\":\"True\",\"hovertemplate\":\"state=%{x}\\u003cbr\\u003eestimated unemployment rate=%{y}\\u003cextra\\u003e\\u003c\\u002fextra\\u003e\",\"legendgroup\":\"Jharkhand\",\"marker\":{\"color\":\"#19d3f3\",\"pattern\":{\"shape\":\"\"}},\"name\":\"Jharkhand\",\"offsetgroup\":\"Jharkhand\",\"orientation\":\"v\",\"showlegend\":true,\"textposition\":\"auto\",\"x\":[\"Jharkhand\"],\"xaxis\":\"x\",\"y\":[20.585],\"yaxis\":\"y\",\"type\":\"bar\"},{\"alignmentgroup\":\"True\",\"hovertemplate\":\"state=%{x}\\u003cbr\\u003eestimated unemployment rate=%{y}\\u003cextra\\u003e\\u003c\\u002fextra\\u003e\",\"legendgroup\":\"Haryana\",\"marker\":{\"color\":\"#FF6692\",\"pattern\":{\"shape\":\"\"}},\"name\":\"Haryana\",\"offsetgroup\":\"Haryana\",\"orientation\":\"v\",\"showlegend\":true,\"textposition\":\"auto\",\"x\":[\"Haryana\"],\"xaxis\":\"x\",\"y\":[26.283214285714283],\"yaxis\":\"y\",\"type\":\"bar\"},{\"alignmentgroup\":\"True\",\"hovertemplate\":\"state=%{x}\\u003cbr\\u003eestimated unemployment rate=%{y}\\u003cextra\\u003e\\u003c\\u002fextra\\u003e\",\"legendgroup\":\"Tripura\",\"marker\":{\"color\":\"#B6E880\",\"pattern\":{\"shape\":\"\"}},\"name\":\"Tripura\",\"offsetgroup\":\"Tripura\",\"orientation\":\"v\",\"showlegend\":true,\"textposition\":\"auto\",\"x\":[\"Tripura\"],\"xaxis\":\"x\",\"y\":[28.350357142857142],\"yaxis\":\"y\",\"type\":\"bar\"}],                        {\"template\":{\"data\":{\"histogram2dcontour\":[{\"type\":\"histogram2dcontour\",\"colorbar\":{\"outlinewidth\":0,\"ticks\":\"\"},\"colorscale\":[[0.0,\"#0d0887\"],[0.1111111111111111,\"#46039f\"],[0.2222222222222222,\"#7201a8\"],[0.3333333333333333,\"#9c179e\"],[0.4444444444444444,\"#bd3786\"],[0.5555555555555556,\"#d8576b\"],[0.6666666666666666,\"#ed7953\"],[0.7777777777777778,\"#fb9f3a\"],[0.8888888888888888,\"#fdca26\"],[1.0,\"#f0f921\"]]}],\"choropleth\":[{\"type\":\"choropleth\",\"colorbar\":{\"outlinewidth\":0,\"ticks\":\"\"}}],\"histogram2d\":[{\"type\":\"histogram2d\",\"colorbar\":{\"outlinewidth\":0,\"ticks\":\"\"},\"colorscale\":[[0.0,\"#0d0887\"],[0.1111111111111111,\"#46039f\"],[0.2222222222222222,\"#7201a8\"],[0.3333333333333333,\"#9c179e\"],[0.4444444444444444,\"#bd3786\"],[0.5555555555555556,\"#d8576b\"],[0.6666666666666666,\"#ed7953\"],[0.7777777777777778,\"#fb9f3a\"],[0.8888888888888888,\"#fdca26\"],[1.0,\"#f0f921\"]]}],\"heatmap\":[{\"type\":\"heatmap\",\"colorbar\":{\"outlinewidth\":0,\"ticks\":\"\"},\"colorscale\":[[0.0,\"#0d0887\"],[0.1111111111111111,\"#46039f\"],[0.2222222222222222,\"#7201a8\"],[0.3333333333333333,\"#9c179e\"],[0.4444444444444444,\"#bd3786\"],[0.5555555555555556,\"#d8576b\"],[0.6666666666666666,\"#ed7953\"],[0.7777777777777778,\"#fb9f3a\"],[0.8888888888888888,\"#fdca26\"],[1.0,\"#f0f921\"]]}],\"heatmapgl\":[{\"type\":\"heatmapgl\",\"colorbar\":{\"outlinewidth\":0,\"ticks\":\"\"},\"colorscale\":[[0.0,\"#0d0887\"],[0.1111111111111111,\"#46039f\"],[0.2222222222222222,\"#7201a8\"],[0.3333333333333333,\"#9c179e\"],[0.4444444444444444,\"#bd3786\"],[0.5555555555555556,\"#d8576b\"],[0.6666666666666666,\"#ed7953\"],[0.7777777777777778,\"#fb9f3a\"],[0.8888888888888888,\"#fdca26\"],[1.0,\"#f0f921\"]]}],\"contourcarpet\":[{\"type\":\"contourcarpet\",\"colorbar\":{\"outlinewidth\":0,\"ticks\":\"\"}}],\"contour\":[{\"type\":\"contour\",\"colorbar\":{\"outlinewidth\":0,\"ticks\":\"\"},\"colorscale\":[[0.0,\"#0d0887\"],[0.1111111111111111,\"#46039f\"],[0.2222222222222222,\"#7201a8\"],[0.3333333333333333,\"#9c179e\"],[0.4444444444444444,\"#bd3786\"],[0.5555555555555556,\"#d8576b\"],[0.6666666666666666,\"#ed7953\"],[0.7777777777777778,\"#fb9f3a\"],[0.8888888888888888,\"#fdca26\"],[1.0,\"#f0f921\"]]}],\"surface\":[{\"type\":\"surface\",\"colorbar\":{\"outlinewidth\":0,\"ticks\":\"\"},\"colorscale\":[[0.0,\"#0d0887\"],[0.1111111111111111,\"#46039f\"],[0.2222222222222222,\"#7201a8\"],[0.3333333333333333,\"#9c179e\"],[0.4444444444444444,\"#bd3786\"],[0.5555555555555556,\"#d8576b\"],[0.6666666666666666,\"#ed7953\"],[0.7777777777777778,\"#fb9f3a\"],[0.8888888888888888,\"#fdca26\"],[1.0,\"#f0f921\"]]}],\"mesh3d\":[{\"type\":\"mesh3d\",\"colorbar\":{\"outlinewidth\":0,\"ticks\":\"\"}}],\"scatter\":[{\"fillpattern\":{\"fillmode\":\"overlay\",\"size\":10,\"solidity\":0.2},\"type\":\"scatter\"}],\"parcoords\":[{\"type\":\"parcoords\",\"line\":{\"colorbar\":{\"outlinewidth\":0,\"ticks\":\"\"}}}],\"scatterpolargl\":[{\"type\":\"scatterpolargl\",\"marker\":{\"colorbar\":{\"outlinewidth\":0,\"ticks\":\"\"}}}],\"bar\":[{\"error_x\":{\"color\":\"#2a3f5f\"},\"error_y\":{\"color\":\"#2a3f5f\"},\"marker\":{\"line\":{\"color\":\"#E5ECF6\",\"width\":0.5},\"pattern\":{\"fillmode\":\"overlay\",\"size\":10,\"solidity\":0.2}},\"type\":\"bar\"}],\"scattergeo\":[{\"type\":\"scattergeo\",\"marker\":{\"colorbar\":{\"outlinewidth\":0,\"ticks\":\"\"}}}],\"scatterpolar\":[{\"type\":\"scatterpolar\",\"marker\":{\"colorbar\":{\"outlinewidth\":0,\"ticks\":\"\"}}}],\"histogram\":[{\"marker\":{\"pattern\":{\"fillmode\":\"overlay\",\"size\":10,\"solidity\":0.2}},\"type\":\"histogram\"}],\"scattergl\":[{\"type\":\"scattergl\",\"marker\":{\"colorbar\":{\"outlinewidth\":0,\"ticks\":\"\"}}}],\"scatter3d\":[{\"type\":\"scatter3d\",\"line\":{\"colorbar\":{\"outlinewidth\":0,\"ticks\":\"\"}},\"marker\":{\"colorbar\":{\"outlinewidth\":0,\"ticks\":\"\"}}}],\"scattermapbox\":[{\"type\":\"scattermapbox\",\"marker\":{\"colorbar\":{\"outlinewidth\":0,\"ticks\":\"\"}}}],\"scatterternary\":[{\"type\":\"scatterternary\",\"marker\":{\"colorbar\":{\"outlinewidth\":0,\"ticks\":\"\"}}}],\"scattercarpet\":[{\"type\":\"scattercarpet\",\"marker\":{\"colorbar\":{\"outlinewidth\":0,\"ticks\":\"\"}}}],\"carpet\":[{\"aaxis\":{\"endlinecolor\":\"#2a3f5f\",\"gridcolor\":\"white\",\"linecolor\":\"white\",\"minorgridcolor\":\"white\",\"startlinecolor\":\"#2a3f5f\"},\"baxis\":{\"endlinecolor\":\"#2a3f5f\",\"gridcolor\":\"white\",\"linecolor\":\"white\",\"minorgridcolor\":\"white\",\"startlinecolor\":\"#2a3f5f\"},\"type\":\"carpet\"}],\"table\":[{\"cells\":{\"fill\":{\"color\":\"#EBF0F8\"},\"line\":{\"color\":\"white\"}},\"header\":{\"fill\":{\"color\":\"#C8D4E3\"},\"line\":{\"color\":\"white\"}},\"type\":\"table\"}],\"barpolar\":[{\"marker\":{\"line\":{\"color\":\"#E5ECF6\",\"width\":0.5},\"pattern\":{\"fillmode\":\"overlay\",\"size\":10,\"solidity\":0.2}},\"type\":\"barpolar\"}],\"pie\":[{\"automargin\":true,\"type\":\"pie\"}]},\"layout\":{\"autotypenumbers\":\"strict\",\"colorway\":[\"#636efa\",\"#EF553B\",\"#00cc96\",\"#ab63fa\",\"#FFA15A\",\"#19d3f3\",\"#FF6692\",\"#B6E880\",\"#FF97FF\",\"#FECB52\"],\"font\":{\"color\":\"#2a3f5f\"},\"hovermode\":\"closest\",\"hoverlabel\":{\"align\":\"left\"},\"paper_bgcolor\":\"white\",\"plot_bgcolor\":\"#E5ECF6\",\"polar\":{\"bgcolor\":\"#E5ECF6\",\"angularaxis\":{\"gridcolor\":\"white\",\"linecolor\":\"white\",\"ticks\":\"\"},\"radialaxis\":{\"gridcolor\":\"white\",\"linecolor\":\"white\",\"ticks\":\"\"}},\"ternary\":{\"bgcolor\":\"#E5ECF6\",\"aaxis\":{\"gridcolor\":\"white\",\"linecolor\":\"white\",\"ticks\":\"\"},\"baxis\":{\"gridcolor\":\"white\",\"linecolor\":\"white\",\"ticks\":\"\"},\"caxis\":{\"gridcolor\":\"white\",\"linecolor\":\"white\",\"ticks\":\"\"}},\"coloraxis\":{\"colorbar\":{\"outlinewidth\":0,\"ticks\":\"\"}},\"colorscale\":{\"sequential\":[[0.0,\"#0d0887\"],[0.1111111111111111,\"#46039f\"],[0.2222222222222222,\"#7201a8\"],[0.3333333333333333,\"#9c179e\"],[0.4444444444444444,\"#bd3786\"],[0.5555555555555556,\"#d8576b\"],[0.6666666666666666,\"#ed7953\"],[0.7777777777777778,\"#fb9f3a\"],[0.8888888888888888,\"#fdca26\"],[1.0,\"#f0f921\"]],\"sequentialminus\":[[0.0,\"#0d0887\"],[0.1111111111111111,\"#46039f\"],[0.2222222222222222,\"#7201a8\"],[0.3333333333333333,\"#9c179e\"],[0.4444444444444444,\"#bd3786\"],[0.5555555555555556,\"#d8576b\"],[0.6666666666666666,\"#ed7953\"],[0.7777777777777778,\"#fb9f3a\"],[0.8888888888888888,\"#fdca26\"],[1.0,\"#f0f921\"]],\"diverging\":[[0,\"#8e0152\"],[0.1,\"#c51b7d\"],[0.2,\"#de77ae\"],[0.3,\"#f1b6da\"],[0.4,\"#fde0ef\"],[0.5,\"#f7f7f7\"],[0.6,\"#e6f5d0\"],[0.7,\"#b8e186\"],[0.8,\"#7fbc41\"],[0.9,\"#4d9221\"],[1,\"#276419\"]]},\"xaxis\":{\"gridcolor\":\"white\",\"linecolor\":\"white\",\"ticks\":\"\",\"title\":{\"standoff\":15},\"zerolinecolor\":\"white\",\"automargin\":true,\"zerolinewidth\":2},\"yaxis\":{\"gridcolor\":\"white\",\"linecolor\":\"white\",\"ticks\":\"\",\"title\":{\"standoff\":15},\"zerolinecolor\":\"white\",\"automargin\":true,\"zerolinewidth\":2},\"scene\":{\"xaxis\":{\"backgroundcolor\":\"#E5ECF6\",\"gridcolor\":\"white\",\"linecolor\":\"white\",\"showbackground\":true,\"ticks\":\"\",\"zerolinecolor\":\"white\",\"gridwidth\":2},\"yaxis\":{\"backgroundcolor\":\"#E5ECF6\",\"gridcolor\":\"white\",\"linecolor\":\"white\",\"showbackground\":true,\"ticks\":\"\",\"zerolinecolor\":\"white\",\"gridwidth\":2},\"zaxis\":{\"backgroundcolor\":\"#E5ECF6\",\"gridcolor\":\"white\",\"linecolor\":\"white\",\"showbackground\":true,\"ticks\":\"\",\"zerolinecolor\":\"white\",\"gridwidth\":2}},\"shapedefaults\":{\"line\":{\"color\":\"#2a3f5f\"}},\"annotationdefaults\":{\"arrowcolor\":\"#2a3f5f\",\"arrowhead\":0,\"arrowwidth\":1},\"geo\":{\"bgcolor\":\"white\",\"landcolor\":\"#E5ECF6\",\"subunitcolor\":\"white\",\"showland\":true,\"showlakes\":true,\"lakecolor\":\"white\"},\"title\":{\"x\":0.05},\"mapbox\":{\"style\":\"light\"}}},\"xaxis\":{\"anchor\":\"y\",\"domain\":[0.0,1.0],\"title\":{\"text\":\"state\"},\"categoryorder\":\"array\",\"categoryarray\":[\"Meghalaya\",\"Odisha\",\"Assam\",\"Uttarakhand\",\"Gujarat\",\"Karnataka\",\"Sikkim\",\"Madhya Pradesh\",\"Andhra Pradesh\",\"Maharashtra\",\"Telangana\",\"West Bengal\",\"Chhattisgarh\",\"Goa\",\"Tamil Nadu\",\"Kerala\",\"Puducherry\",\"Punjab\",\"Uttar Pradesh\",\"Rajasthan\",\"Chandigarh\",\"Jammu & Kashmir\",\"Delhi\",\"Himachal Pradesh\",\"Bihar\",\"Jharkhand\",\"Haryana\",\"Tripura\"]},\"yaxis\":{\"anchor\":\"x\",\"domain\":[0.0,1.0],\"title\":{\"text\":\"estimated unemployment rate\"}},\"legend\":{\"title\":{\"text\":\"state\"},\"tracegroupgap\":0},\"title\":{\"text\":\"Average Unemployment Rate in each state\"},\"barmode\":\"relative\"},                        {\"responsive\": true}                    ).then(function(){\n",
       "                            \n",
       "var gd = document.getElementById('6f7e6cd0-e9a9-4c6e-a5bc-dc7ffc68e079');\n",
       "var x = new MutationObserver(function (mutations, observer) {{\n",
       "        var display = window.getComputedStyle(gd).display;\n",
       "        if (!display || display === 'none') {{\n",
       "            console.log([gd, 'removed!']);\n",
       "            Plotly.purge(gd);\n",
       "            observer.disconnect();\n",
       "        }}\n",
       "}});\n",
       "\n",
       "// Listen for the removal of the full notebook cells\n",
       "var notebookContainer = gd.closest('#notebook-container');\n",
       "if (notebookContainer) {{\n",
       "    x.observe(notebookContainer, {childList: true});\n",
       "}}\n",
       "\n",
       "// Listen for the clearing of the current output cell\n",
       "var outputEl = gd.closest('.output');\n",
       "if (outputEl) {{\n",
       "    x.observe(outputEl, {childList: true});\n",
       "}}\n",
       "\n",
       "                        })                };                });            </script>        </div>"
      ]
     },
     "metadata": {},
     "output_type": "display_data"
    }
   ],
   "source": [
    "#Bar chart displaying the average unemployment rate in each state, color-coded by state.\n",
    "plot_ump = df[['estimated unemployment rate', 'state']]\n",
    "data_unemp = plot_ump.groupby('state').mean().reset_index()\n",
    "data_unemp = data_unemp.sort_values('estimated unemployment rate')\n",
    "fig = px.bar(data_unemp, x='state', y='estimated unemployment rate', color='state',\n",
    "             title='Average Unemployment Rate in each state', template='plotly')\n",
    "fig.show()"
   ]
  },
  {
   "cell_type": "code",
   "execution_count": 23,
   "id": "28cec379",
   "metadata": {},
   "outputs": [
    {
     "data": {
      "application/vnd.plotly.v1+json": {
       "config": {
        "plotlyServerURL": "https://plot.ly"
       },
       "data": [
        {
         "branchvalues": "total",
         "domain": {
          "x": [
           0,
           1
          ],
          "y": [
           0,
           1
          ]
         },
         "hovertemplate": "labels=%{label}<br>estimated unemployment rate=%{value}<br>parent=%{parent}<br>id=%{id}<extra></extra>",
         "ids": [
          "Rural/Andhra Pradesh",
          "Urban/Andhra Pradesh",
          "Rural/Assam",
          "Urban/Assam",
          "Rural/Bihar",
          "Urban/Bihar",
          "Urban/Chandigarh",
          "Rural/Chhattisgarh",
          "Urban/Chhattisgarh",
          "Rural/Delhi",
          "Urban/Delhi",
          "Rural/Goa",
          "Urban/Goa",
          "Rural/Gujarat",
          "Urban/Gujarat",
          "Rural/Haryana",
          "Urban/Haryana",
          "Rural/Himachal Pradesh",
          "Urban/Himachal Pradesh",
          "Rural/Jammu & Kashmir",
          "Urban/Jammu & Kashmir",
          "Rural/Jharkhand",
          "Urban/Jharkhand",
          "Rural/Karnataka",
          "Urban/Karnataka",
          "Rural/Kerala",
          "Urban/Kerala",
          "Rural/Madhya Pradesh",
          "Urban/Madhya Pradesh",
          "Rural/Maharashtra",
          "Urban/Maharashtra",
          "Rural/Meghalaya",
          "Urban/Meghalaya",
          "Rural/Odisha",
          "Urban/Odisha",
          "Rural/Puducherry",
          "Urban/Puducherry",
          "Rural/Punjab",
          "Urban/Punjab",
          "Rural/Rajasthan",
          "Urban/Rajasthan",
          "Rural/Sikkim",
          "Urban/Sikkim",
          "Rural/Tamil Nadu",
          "Urban/Tamil Nadu",
          "Rural/Telangana",
          "Urban/Telangana",
          "Rural/Tripura",
          "Urban/Tripura",
          "Rural/Uttar Pradesh",
          "Urban/Uttar Pradesh",
          "Rural/Uttarakhand",
          "Urban/Uttarakhand",
          "Rural/West Bengal",
          "Urban/West Bengal",
          "Rural",
          "Urban"
         ],
         "labels": [
          "Andhra Pradesh",
          "Andhra Pradesh",
          "Assam",
          "Assam",
          "Bihar",
          "Bihar",
          "Chandigarh",
          "Chhattisgarh",
          "Chhattisgarh",
          "Delhi",
          "Delhi",
          "Goa",
          "Goa",
          "Gujarat",
          "Gujarat",
          "Haryana",
          "Haryana",
          "Himachal Pradesh",
          "Himachal Pradesh",
          "Jammu & Kashmir",
          "Jammu & Kashmir",
          "Jharkhand",
          "Jharkhand",
          "Karnataka",
          "Karnataka",
          "Kerala",
          "Kerala",
          "Madhya Pradesh",
          "Madhya Pradesh",
          "Maharashtra",
          "Maharashtra",
          "Meghalaya",
          "Meghalaya",
          "Odisha",
          "Odisha",
          "Puducherry",
          "Puducherry",
          "Punjab",
          "Punjab",
          "Rajasthan",
          "Rajasthan",
          "Sikkim",
          "Sikkim",
          "Tamil Nadu",
          "Tamil Nadu",
          "Telangana",
          "Telangana",
          "Tripura",
          "Tripura",
          "Uttar Pradesh",
          "Uttar Pradesh",
          "Uttarakhand",
          "Uttarakhand",
          "West Bengal",
          "West Bengal",
          "Rural",
          "Urban"
         ],
         "name": "",
         "parents": [
          "Rural",
          "Urban",
          "Rural",
          "Urban",
          "Rural",
          "Urban",
          "Urban",
          "Rural",
          "Urban",
          "Rural",
          "Urban",
          "Rural",
          "Urban",
          "Rural",
          "Urban",
          "Rural",
          "Urban",
          "Rural",
          "Urban",
          "Rural",
          "Urban",
          "Rural",
          "Urban",
          "Rural",
          "Urban",
          "Rural",
          "Urban",
          "Rural",
          "Urban",
          "Rural",
          "Urban",
          "Rural",
          "Urban",
          "Rural",
          "Urban",
          "Rural",
          "Urban",
          "Rural",
          "Urban",
          "Rural",
          "Urban",
          "Rural",
          "Urban",
          "Rural",
          "Urban",
          "Rural",
          "Urban",
          "Rural",
          "Urban",
          "Rural",
          "Urban",
          "Rural",
          "Urban",
          "Rural",
          "Urban",
          "",
          ""
         ],
         "type": "sunburst",
         "values": [
          77.37,
          131.99,
          53.89,
          113.24000000000001,
          234.78,
          294.93,
          191.9,
          92.8,
          165.93,
          213.62,
          248.25,
          100.68,
          121.9,
          82.84,
          103.75,
          350.18,
          385.75,
          217.06,
          302.07,
          164.47,
          175.49,
          213.1,
          363.28000000000003,
          101.14,
          85.79,
          144.78,
          138.69,
          79.15,
          128.23000000000002,
          95.34,
          116.27,
          34.650000000000006,
          94.92,
          92.58,
          65.84,
          87.16,
          178.43,
          166.95,
          169.92000000000002,
          152.98,
          240.65,
          25.4,
          97.84,
          122.86,
          137.1,
          110.09,
          106.57000000000001,
          380.33,
          413.48,
          142.92000000000002,
          208.52,
          63.47,
          114.27,
          106.01,
          121.48,
          3706.6,
          5016.48
         ]
        }
       ],
       "layout": {
        "height": 700,
        "legend": {
         "tracegroupgap": 0
        },
        "template": {
         "data": {
          "bar": [
           {
            "error_x": {
             "color": "#2a3f5f"
            },
            "error_y": {
             "color": "#2a3f5f"
            },
            "marker": {
             "line": {
              "color": "#E5ECF6",
              "width": 0.5
             },
             "pattern": {
              "fillmode": "overlay",
              "size": 10,
              "solidity": 0.2
             }
            },
            "type": "bar"
           }
          ],
          "barpolar": [
           {
            "marker": {
             "line": {
              "color": "#E5ECF6",
              "width": 0.5
             },
             "pattern": {
              "fillmode": "overlay",
              "size": 10,
              "solidity": 0.2
             }
            },
            "type": "barpolar"
           }
          ],
          "carpet": [
           {
            "aaxis": {
             "endlinecolor": "#2a3f5f",
             "gridcolor": "white",
             "linecolor": "white",
             "minorgridcolor": "white",
             "startlinecolor": "#2a3f5f"
            },
            "baxis": {
             "endlinecolor": "#2a3f5f",
             "gridcolor": "white",
             "linecolor": "white",
             "minorgridcolor": "white",
             "startlinecolor": "#2a3f5f"
            },
            "type": "carpet"
           }
          ],
          "choropleth": [
           {
            "colorbar": {
             "outlinewidth": 0,
             "ticks": ""
            },
            "type": "choropleth"
           }
          ],
          "contour": [
           {
            "colorbar": {
             "outlinewidth": 0,
             "ticks": ""
            },
            "colorscale": [
             [
              0,
              "#0d0887"
             ],
             [
              0.1111111111111111,
              "#46039f"
             ],
             [
              0.2222222222222222,
              "#7201a8"
             ],
             [
              0.3333333333333333,
              "#9c179e"
             ],
             [
              0.4444444444444444,
              "#bd3786"
             ],
             [
              0.5555555555555556,
              "#d8576b"
             ],
             [
              0.6666666666666666,
              "#ed7953"
             ],
             [
              0.7777777777777778,
              "#fb9f3a"
             ],
             [
              0.8888888888888888,
              "#fdca26"
             ],
             [
              1,
              "#f0f921"
             ]
            ],
            "type": "contour"
           }
          ],
          "contourcarpet": [
           {
            "colorbar": {
             "outlinewidth": 0,
             "ticks": ""
            },
            "type": "contourcarpet"
           }
          ],
          "heatmap": [
           {
            "colorbar": {
             "outlinewidth": 0,
             "ticks": ""
            },
            "colorscale": [
             [
              0,
              "#0d0887"
             ],
             [
              0.1111111111111111,
              "#46039f"
             ],
             [
              0.2222222222222222,
              "#7201a8"
             ],
             [
              0.3333333333333333,
              "#9c179e"
             ],
             [
              0.4444444444444444,
              "#bd3786"
             ],
             [
              0.5555555555555556,
              "#d8576b"
             ],
             [
              0.6666666666666666,
              "#ed7953"
             ],
             [
              0.7777777777777778,
              "#fb9f3a"
             ],
             [
              0.8888888888888888,
              "#fdca26"
             ],
             [
              1,
              "#f0f921"
             ]
            ],
            "type": "heatmap"
           }
          ],
          "heatmapgl": [
           {
            "colorbar": {
             "outlinewidth": 0,
             "ticks": ""
            },
            "colorscale": [
             [
              0,
              "#0d0887"
             ],
             [
              0.1111111111111111,
              "#46039f"
             ],
             [
              0.2222222222222222,
              "#7201a8"
             ],
             [
              0.3333333333333333,
              "#9c179e"
             ],
             [
              0.4444444444444444,
              "#bd3786"
             ],
             [
              0.5555555555555556,
              "#d8576b"
             ],
             [
              0.6666666666666666,
              "#ed7953"
             ],
             [
              0.7777777777777778,
              "#fb9f3a"
             ],
             [
              0.8888888888888888,
              "#fdca26"
             ],
             [
              1,
              "#f0f921"
             ]
            ],
            "type": "heatmapgl"
           }
          ],
          "histogram": [
           {
            "marker": {
             "pattern": {
              "fillmode": "overlay",
              "size": 10,
              "solidity": 0.2
             }
            },
            "type": "histogram"
           }
          ],
          "histogram2d": [
           {
            "colorbar": {
             "outlinewidth": 0,
             "ticks": ""
            },
            "colorscale": [
             [
              0,
              "#0d0887"
             ],
             [
              0.1111111111111111,
              "#46039f"
             ],
             [
              0.2222222222222222,
              "#7201a8"
             ],
             [
              0.3333333333333333,
              "#9c179e"
             ],
             [
              0.4444444444444444,
              "#bd3786"
             ],
             [
              0.5555555555555556,
              "#d8576b"
             ],
             [
              0.6666666666666666,
              "#ed7953"
             ],
             [
              0.7777777777777778,
              "#fb9f3a"
             ],
             [
              0.8888888888888888,
              "#fdca26"
             ],
             [
              1,
              "#f0f921"
             ]
            ],
            "type": "histogram2d"
           }
          ],
          "histogram2dcontour": [
           {
            "colorbar": {
             "outlinewidth": 0,
             "ticks": ""
            },
            "colorscale": [
             [
              0,
              "#0d0887"
             ],
             [
              0.1111111111111111,
              "#46039f"
             ],
             [
              0.2222222222222222,
              "#7201a8"
             ],
             [
              0.3333333333333333,
              "#9c179e"
             ],
             [
              0.4444444444444444,
              "#bd3786"
             ],
             [
              0.5555555555555556,
              "#d8576b"
             ],
             [
              0.6666666666666666,
              "#ed7953"
             ],
             [
              0.7777777777777778,
              "#fb9f3a"
             ],
             [
              0.8888888888888888,
              "#fdca26"
             ],
             [
              1,
              "#f0f921"
             ]
            ],
            "type": "histogram2dcontour"
           }
          ],
          "mesh3d": [
           {
            "colorbar": {
             "outlinewidth": 0,
             "ticks": ""
            },
            "type": "mesh3d"
           }
          ],
          "parcoords": [
           {
            "line": {
             "colorbar": {
              "outlinewidth": 0,
              "ticks": ""
             }
            },
            "type": "parcoords"
           }
          ],
          "pie": [
           {
            "automargin": true,
            "type": "pie"
           }
          ],
          "scatter": [
           {
            "fillpattern": {
             "fillmode": "overlay",
             "size": 10,
             "solidity": 0.2
            },
            "type": "scatter"
           }
          ],
          "scatter3d": [
           {
            "line": {
             "colorbar": {
              "outlinewidth": 0,
              "ticks": ""
             }
            },
            "marker": {
             "colorbar": {
              "outlinewidth": 0,
              "ticks": ""
             }
            },
            "type": "scatter3d"
           }
          ],
          "scattercarpet": [
           {
            "marker": {
             "colorbar": {
              "outlinewidth": 0,
              "ticks": ""
             }
            },
            "type": "scattercarpet"
           }
          ],
          "scattergeo": [
           {
            "marker": {
             "colorbar": {
              "outlinewidth": 0,
              "ticks": ""
             }
            },
            "type": "scattergeo"
           }
          ],
          "scattergl": [
           {
            "marker": {
             "colorbar": {
              "outlinewidth": 0,
              "ticks": ""
             }
            },
            "type": "scattergl"
           }
          ],
          "scattermapbox": [
           {
            "marker": {
             "colorbar": {
              "outlinewidth": 0,
              "ticks": ""
             }
            },
            "type": "scattermapbox"
           }
          ],
          "scatterpolar": [
           {
            "marker": {
             "colorbar": {
              "outlinewidth": 0,
              "ticks": ""
             }
            },
            "type": "scatterpolar"
           }
          ],
          "scatterpolargl": [
           {
            "marker": {
             "colorbar": {
              "outlinewidth": 0,
              "ticks": ""
             }
            },
            "type": "scatterpolargl"
           }
          ],
          "scatterternary": [
           {
            "marker": {
             "colorbar": {
              "outlinewidth": 0,
              "ticks": ""
             }
            },
            "type": "scatterternary"
           }
          ],
          "surface": [
           {
            "colorbar": {
             "outlinewidth": 0,
             "ticks": ""
            },
            "colorscale": [
             [
              0,
              "#0d0887"
             ],
             [
              0.1111111111111111,
              "#46039f"
             ],
             [
              0.2222222222222222,
              "#7201a8"
             ],
             [
              0.3333333333333333,
              "#9c179e"
             ],
             [
              0.4444444444444444,
              "#bd3786"
             ],
             [
              0.5555555555555556,
              "#d8576b"
             ],
             [
              0.6666666666666666,
              "#ed7953"
             ],
             [
              0.7777777777777778,
              "#fb9f3a"
             ],
             [
              0.8888888888888888,
              "#fdca26"
             ],
             [
              1,
              "#f0f921"
             ]
            ],
            "type": "surface"
           }
          ],
          "table": [
           {
            "cells": {
             "fill": {
              "color": "#EBF0F8"
             },
             "line": {
              "color": "white"
             }
            },
            "header": {
             "fill": {
              "color": "#C8D4E3"
             },
             "line": {
              "color": "white"
             }
            },
            "type": "table"
           }
          ]
         },
         "layout": {
          "annotationdefaults": {
           "arrowcolor": "#2a3f5f",
           "arrowhead": 0,
           "arrowwidth": 1
          },
          "autotypenumbers": "strict",
          "coloraxis": {
           "colorbar": {
            "outlinewidth": 0,
            "ticks": ""
           }
          },
          "colorscale": {
           "diverging": [
            [
             0,
             "#8e0152"
            ],
            [
             0.1,
             "#c51b7d"
            ],
            [
             0.2,
             "#de77ae"
            ],
            [
             0.3,
             "#f1b6da"
            ],
            [
             0.4,
             "#fde0ef"
            ],
            [
             0.5,
             "#f7f7f7"
            ],
            [
             0.6,
             "#e6f5d0"
            ],
            [
             0.7,
             "#b8e186"
            ],
            [
             0.8,
             "#7fbc41"
            ],
            [
             0.9,
             "#4d9221"
            ],
            [
             1,
             "#276419"
            ]
           ],
           "sequential": [
            [
             0,
             "#0d0887"
            ],
            [
             0.1111111111111111,
             "#46039f"
            ],
            [
             0.2222222222222222,
             "#7201a8"
            ],
            [
             0.3333333333333333,
             "#9c179e"
            ],
            [
             0.4444444444444444,
             "#bd3786"
            ],
            [
             0.5555555555555556,
             "#d8576b"
            ],
            [
             0.6666666666666666,
             "#ed7953"
            ],
            [
             0.7777777777777778,
             "#fb9f3a"
            ],
            [
             0.8888888888888888,
             "#fdca26"
            ],
            [
             1,
             "#f0f921"
            ]
           ],
           "sequentialminus": [
            [
             0,
             "#0d0887"
            ],
            [
             0.1111111111111111,
             "#46039f"
            ],
            [
             0.2222222222222222,
             "#7201a8"
            ],
            [
             0.3333333333333333,
             "#9c179e"
            ],
            [
             0.4444444444444444,
             "#bd3786"
            ],
            [
             0.5555555555555556,
             "#d8576b"
            ],
            [
             0.6666666666666666,
             "#ed7953"
            ],
            [
             0.7777777777777778,
             "#fb9f3a"
            ],
            [
             0.8888888888888888,
             "#fdca26"
            ],
            [
             1,
             "#f0f921"
            ]
           ]
          },
          "colorway": [
           "#636efa",
           "#EF553B",
           "#00cc96",
           "#ab63fa",
           "#FFA15A",
           "#19d3f3",
           "#FF6692",
           "#B6E880",
           "#FF97FF",
           "#FECB52"
          ],
          "font": {
           "color": "#2a3f5f"
          },
          "geo": {
           "bgcolor": "white",
           "lakecolor": "white",
           "landcolor": "#E5ECF6",
           "showlakes": true,
           "showland": true,
           "subunitcolor": "white"
          },
          "hoverlabel": {
           "align": "left"
          },
          "hovermode": "closest",
          "mapbox": {
           "style": "light"
          },
          "paper_bgcolor": "white",
          "plot_bgcolor": "#E5ECF6",
          "polar": {
           "angularaxis": {
            "gridcolor": "white",
            "linecolor": "white",
            "ticks": ""
           },
           "bgcolor": "#E5ECF6",
           "radialaxis": {
            "gridcolor": "white",
            "linecolor": "white",
            "ticks": ""
           }
          },
          "scene": {
           "xaxis": {
            "backgroundcolor": "#E5ECF6",
            "gridcolor": "white",
            "gridwidth": 2,
            "linecolor": "white",
            "showbackground": true,
            "ticks": "",
            "zerolinecolor": "white"
           },
           "yaxis": {
            "backgroundcolor": "#E5ECF6",
            "gridcolor": "white",
            "gridwidth": 2,
            "linecolor": "white",
            "showbackground": true,
            "ticks": "",
            "zerolinecolor": "white"
           },
           "zaxis": {
            "backgroundcolor": "#E5ECF6",
            "gridcolor": "white",
            "gridwidth": 2,
            "linecolor": "white",
            "showbackground": true,
            "ticks": "",
            "zerolinecolor": "white"
           }
          },
          "shapedefaults": {
           "line": {
            "color": "#2a3f5f"
           }
          },
          "ternary": {
           "aaxis": {
            "gridcolor": "white",
            "linecolor": "white",
            "ticks": ""
           },
           "baxis": {
            "gridcolor": "white",
            "linecolor": "white",
            "ticks": ""
           },
           "bgcolor": "#E5ECF6",
           "caxis": {
            "gridcolor": "white",
            "linecolor": "white",
            "ticks": ""
           }
          },
          "title": {
           "x": 0.05
          },
          "xaxis": {
           "automargin": true,
           "gridcolor": "white",
           "linecolor": "white",
           "ticks": "",
           "title": {
            "standoff": 15
           },
           "zerolinecolor": "white",
           "zerolinewidth": 2
          },
          "yaxis": {
           "automargin": true,
           "gridcolor": "white",
           "linecolor": "white",
           "ticks": "",
           "title": {
            "standoff": 15
           },
           "zerolinecolor": "white",
           "zerolinewidth": 2
          }
         }
        },
        "title": {
         "text": "Unemployment Rate in India"
        },
        "width": 700
       }
      },
      "text/html": [
       "<div>                            <div id=\"059ddebf-2ef6-4c50-82b6-87bc7b3d4d1a\" class=\"plotly-graph-div\" style=\"height:700px; width:700px;\"></div>            <script type=\"text/javascript\">                require([\"plotly\"], function(Plotly) {                    window.PLOTLYENV=window.PLOTLYENV || {};                                    if (document.getElementById(\"059ddebf-2ef6-4c50-82b6-87bc7b3d4d1a\")) {                    Plotly.newPlot(                        \"059ddebf-2ef6-4c50-82b6-87bc7b3d4d1a\",                        [{\"branchvalues\":\"total\",\"domain\":{\"x\":[0.0,1.0],\"y\":[0.0,1.0]},\"hovertemplate\":\"labels=%{label}\\u003cbr\\u003eestimated unemployment rate=%{value}\\u003cbr\\u003eparent=%{parent}\\u003cbr\\u003eid=%{id}\\u003cextra\\u003e\\u003c\\u002fextra\\u003e\",\"ids\":[\"Rural\\u002fAndhra Pradesh\",\"Urban\\u002fAndhra Pradesh\",\"Rural\\u002fAssam\",\"Urban\\u002fAssam\",\"Rural\\u002fBihar\",\"Urban\\u002fBihar\",\"Urban\\u002fChandigarh\",\"Rural\\u002fChhattisgarh\",\"Urban\\u002fChhattisgarh\",\"Rural\\u002fDelhi\",\"Urban\\u002fDelhi\",\"Rural\\u002fGoa\",\"Urban\\u002fGoa\",\"Rural\\u002fGujarat\",\"Urban\\u002fGujarat\",\"Rural\\u002fHaryana\",\"Urban\\u002fHaryana\",\"Rural\\u002fHimachal Pradesh\",\"Urban\\u002fHimachal Pradesh\",\"Rural\\u002fJammu & Kashmir\",\"Urban\\u002fJammu & Kashmir\",\"Rural\\u002fJharkhand\",\"Urban\\u002fJharkhand\",\"Rural\\u002fKarnataka\",\"Urban\\u002fKarnataka\",\"Rural\\u002fKerala\",\"Urban\\u002fKerala\",\"Rural\\u002fMadhya Pradesh\",\"Urban\\u002fMadhya Pradesh\",\"Rural\\u002fMaharashtra\",\"Urban\\u002fMaharashtra\",\"Rural\\u002fMeghalaya\",\"Urban\\u002fMeghalaya\",\"Rural\\u002fOdisha\",\"Urban\\u002fOdisha\",\"Rural\\u002fPuducherry\",\"Urban\\u002fPuducherry\",\"Rural\\u002fPunjab\",\"Urban\\u002fPunjab\",\"Rural\\u002fRajasthan\",\"Urban\\u002fRajasthan\",\"Rural\\u002fSikkim\",\"Urban\\u002fSikkim\",\"Rural\\u002fTamil Nadu\",\"Urban\\u002fTamil Nadu\",\"Rural\\u002fTelangana\",\"Urban\\u002fTelangana\",\"Rural\\u002fTripura\",\"Urban\\u002fTripura\",\"Rural\\u002fUttar Pradesh\",\"Urban\\u002fUttar Pradesh\",\"Rural\\u002fUttarakhand\",\"Urban\\u002fUttarakhand\",\"Rural\\u002fWest Bengal\",\"Urban\\u002fWest Bengal\",\"Rural\",\"Urban\"],\"labels\":[\"Andhra Pradesh\",\"Andhra Pradesh\",\"Assam\",\"Assam\",\"Bihar\",\"Bihar\",\"Chandigarh\",\"Chhattisgarh\",\"Chhattisgarh\",\"Delhi\",\"Delhi\",\"Goa\",\"Goa\",\"Gujarat\",\"Gujarat\",\"Haryana\",\"Haryana\",\"Himachal Pradesh\",\"Himachal Pradesh\",\"Jammu & Kashmir\",\"Jammu & Kashmir\",\"Jharkhand\",\"Jharkhand\",\"Karnataka\",\"Karnataka\",\"Kerala\",\"Kerala\",\"Madhya Pradesh\",\"Madhya Pradesh\",\"Maharashtra\",\"Maharashtra\",\"Meghalaya\",\"Meghalaya\",\"Odisha\",\"Odisha\",\"Puducherry\",\"Puducherry\",\"Punjab\",\"Punjab\",\"Rajasthan\",\"Rajasthan\",\"Sikkim\",\"Sikkim\",\"Tamil Nadu\",\"Tamil Nadu\",\"Telangana\",\"Telangana\",\"Tripura\",\"Tripura\",\"Uttar Pradesh\",\"Uttar Pradesh\",\"Uttarakhand\",\"Uttarakhand\",\"West Bengal\",\"West Bengal\",\"Rural\",\"Urban\"],\"name\":\"\",\"parents\":[\"Rural\",\"Urban\",\"Rural\",\"Urban\",\"Rural\",\"Urban\",\"Urban\",\"Rural\",\"Urban\",\"Rural\",\"Urban\",\"Rural\",\"Urban\",\"Rural\",\"Urban\",\"Rural\",\"Urban\",\"Rural\",\"Urban\",\"Rural\",\"Urban\",\"Rural\",\"Urban\",\"Rural\",\"Urban\",\"Rural\",\"Urban\",\"Rural\",\"Urban\",\"Rural\",\"Urban\",\"Rural\",\"Urban\",\"Rural\",\"Urban\",\"Rural\",\"Urban\",\"Rural\",\"Urban\",\"Rural\",\"Urban\",\"Rural\",\"Urban\",\"Rural\",\"Urban\",\"Rural\",\"Urban\",\"Rural\",\"Urban\",\"Rural\",\"Urban\",\"Rural\",\"Urban\",\"Rural\",\"Urban\",\"\",\"\"],\"values\":[77.37,131.99,53.89,113.24000000000001,234.78,294.93,191.9,92.8,165.93,213.62,248.25,100.68,121.9,82.84,103.75,350.18,385.75,217.06,302.07,164.47,175.49,213.1,363.28000000000003,101.14,85.79,144.78,138.69,79.15,128.23000000000002,95.34,116.27,34.650000000000006,94.92,92.58,65.84,87.16,178.43,166.95,169.92000000000002,152.98,240.65,25.4,97.84,122.86,137.1,110.09,106.57000000000001,380.33,413.48,142.92000000000002,208.52,63.47,114.27,106.01,121.48,3706.6,5016.48],\"type\":\"sunburst\"}],                        {\"template\":{\"data\":{\"histogram2dcontour\":[{\"type\":\"histogram2dcontour\",\"colorbar\":{\"outlinewidth\":0,\"ticks\":\"\"},\"colorscale\":[[0.0,\"#0d0887\"],[0.1111111111111111,\"#46039f\"],[0.2222222222222222,\"#7201a8\"],[0.3333333333333333,\"#9c179e\"],[0.4444444444444444,\"#bd3786\"],[0.5555555555555556,\"#d8576b\"],[0.6666666666666666,\"#ed7953\"],[0.7777777777777778,\"#fb9f3a\"],[0.8888888888888888,\"#fdca26\"],[1.0,\"#f0f921\"]]}],\"choropleth\":[{\"type\":\"choropleth\",\"colorbar\":{\"outlinewidth\":0,\"ticks\":\"\"}}],\"histogram2d\":[{\"type\":\"histogram2d\",\"colorbar\":{\"outlinewidth\":0,\"ticks\":\"\"},\"colorscale\":[[0.0,\"#0d0887\"],[0.1111111111111111,\"#46039f\"],[0.2222222222222222,\"#7201a8\"],[0.3333333333333333,\"#9c179e\"],[0.4444444444444444,\"#bd3786\"],[0.5555555555555556,\"#d8576b\"],[0.6666666666666666,\"#ed7953\"],[0.7777777777777778,\"#fb9f3a\"],[0.8888888888888888,\"#fdca26\"],[1.0,\"#f0f921\"]]}],\"heatmap\":[{\"type\":\"heatmap\",\"colorbar\":{\"outlinewidth\":0,\"ticks\":\"\"},\"colorscale\":[[0.0,\"#0d0887\"],[0.1111111111111111,\"#46039f\"],[0.2222222222222222,\"#7201a8\"],[0.3333333333333333,\"#9c179e\"],[0.4444444444444444,\"#bd3786\"],[0.5555555555555556,\"#d8576b\"],[0.6666666666666666,\"#ed7953\"],[0.7777777777777778,\"#fb9f3a\"],[0.8888888888888888,\"#fdca26\"],[1.0,\"#f0f921\"]]}],\"heatmapgl\":[{\"type\":\"heatmapgl\",\"colorbar\":{\"outlinewidth\":0,\"ticks\":\"\"},\"colorscale\":[[0.0,\"#0d0887\"],[0.1111111111111111,\"#46039f\"],[0.2222222222222222,\"#7201a8\"],[0.3333333333333333,\"#9c179e\"],[0.4444444444444444,\"#bd3786\"],[0.5555555555555556,\"#d8576b\"],[0.6666666666666666,\"#ed7953\"],[0.7777777777777778,\"#fb9f3a\"],[0.8888888888888888,\"#fdca26\"],[1.0,\"#f0f921\"]]}],\"contourcarpet\":[{\"type\":\"contourcarpet\",\"colorbar\":{\"outlinewidth\":0,\"ticks\":\"\"}}],\"contour\":[{\"type\":\"contour\",\"colorbar\":{\"outlinewidth\":0,\"ticks\":\"\"},\"colorscale\":[[0.0,\"#0d0887\"],[0.1111111111111111,\"#46039f\"],[0.2222222222222222,\"#7201a8\"],[0.3333333333333333,\"#9c179e\"],[0.4444444444444444,\"#bd3786\"],[0.5555555555555556,\"#d8576b\"],[0.6666666666666666,\"#ed7953\"],[0.7777777777777778,\"#fb9f3a\"],[0.8888888888888888,\"#fdca26\"],[1.0,\"#f0f921\"]]}],\"surface\":[{\"type\":\"surface\",\"colorbar\":{\"outlinewidth\":0,\"ticks\":\"\"},\"colorscale\":[[0.0,\"#0d0887\"],[0.1111111111111111,\"#46039f\"],[0.2222222222222222,\"#7201a8\"],[0.3333333333333333,\"#9c179e\"],[0.4444444444444444,\"#bd3786\"],[0.5555555555555556,\"#d8576b\"],[0.6666666666666666,\"#ed7953\"],[0.7777777777777778,\"#fb9f3a\"],[0.8888888888888888,\"#fdca26\"],[1.0,\"#f0f921\"]]}],\"mesh3d\":[{\"type\":\"mesh3d\",\"colorbar\":{\"outlinewidth\":0,\"ticks\":\"\"}}],\"scatter\":[{\"fillpattern\":{\"fillmode\":\"overlay\",\"size\":10,\"solidity\":0.2},\"type\":\"scatter\"}],\"parcoords\":[{\"type\":\"parcoords\",\"line\":{\"colorbar\":{\"outlinewidth\":0,\"ticks\":\"\"}}}],\"scatterpolargl\":[{\"type\":\"scatterpolargl\",\"marker\":{\"colorbar\":{\"outlinewidth\":0,\"ticks\":\"\"}}}],\"bar\":[{\"error_x\":{\"color\":\"#2a3f5f\"},\"error_y\":{\"color\":\"#2a3f5f\"},\"marker\":{\"line\":{\"color\":\"#E5ECF6\",\"width\":0.5},\"pattern\":{\"fillmode\":\"overlay\",\"size\":10,\"solidity\":0.2}},\"type\":\"bar\"}],\"scattergeo\":[{\"type\":\"scattergeo\",\"marker\":{\"colorbar\":{\"outlinewidth\":0,\"ticks\":\"\"}}}],\"scatterpolar\":[{\"type\":\"scatterpolar\",\"marker\":{\"colorbar\":{\"outlinewidth\":0,\"ticks\":\"\"}}}],\"histogram\":[{\"marker\":{\"pattern\":{\"fillmode\":\"overlay\",\"size\":10,\"solidity\":0.2}},\"type\":\"histogram\"}],\"scattergl\":[{\"type\":\"scattergl\",\"marker\":{\"colorbar\":{\"outlinewidth\":0,\"ticks\":\"\"}}}],\"scatter3d\":[{\"type\":\"scatter3d\",\"line\":{\"colorbar\":{\"outlinewidth\":0,\"ticks\":\"\"}},\"marker\":{\"colorbar\":{\"outlinewidth\":0,\"ticks\":\"\"}}}],\"scattermapbox\":[{\"type\":\"scattermapbox\",\"marker\":{\"colorbar\":{\"outlinewidth\":0,\"ticks\":\"\"}}}],\"scatterternary\":[{\"type\":\"scatterternary\",\"marker\":{\"colorbar\":{\"outlinewidth\":0,\"ticks\":\"\"}}}],\"scattercarpet\":[{\"type\":\"scattercarpet\",\"marker\":{\"colorbar\":{\"outlinewidth\":0,\"ticks\":\"\"}}}],\"carpet\":[{\"aaxis\":{\"endlinecolor\":\"#2a3f5f\",\"gridcolor\":\"white\",\"linecolor\":\"white\",\"minorgridcolor\":\"white\",\"startlinecolor\":\"#2a3f5f\"},\"baxis\":{\"endlinecolor\":\"#2a3f5f\",\"gridcolor\":\"white\",\"linecolor\":\"white\",\"minorgridcolor\":\"white\",\"startlinecolor\":\"#2a3f5f\"},\"type\":\"carpet\"}],\"table\":[{\"cells\":{\"fill\":{\"color\":\"#EBF0F8\"},\"line\":{\"color\":\"white\"}},\"header\":{\"fill\":{\"color\":\"#C8D4E3\"},\"line\":{\"color\":\"white\"}},\"type\":\"table\"}],\"barpolar\":[{\"marker\":{\"line\":{\"color\":\"#E5ECF6\",\"width\":0.5},\"pattern\":{\"fillmode\":\"overlay\",\"size\":10,\"solidity\":0.2}},\"type\":\"barpolar\"}],\"pie\":[{\"automargin\":true,\"type\":\"pie\"}]},\"layout\":{\"autotypenumbers\":\"strict\",\"colorway\":[\"#636efa\",\"#EF553B\",\"#00cc96\",\"#ab63fa\",\"#FFA15A\",\"#19d3f3\",\"#FF6692\",\"#B6E880\",\"#FF97FF\",\"#FECB52\"],\"font\":{\"color\":\"#2a3f5f\"},\"hovermode\":\"closest\",\"hoverlabel\":{\"align\":\"left\"},\"paper_bgcolor\":\"white\",\"plot_bgcolor\":\"#E5ECF6\",\"polar\":{\"bgcolor\":\"#E5ECF6\",\"angularaxis\":{\"gridcolor\":\"white\",\"linecolor\":\"white\",\"ticks\":\"\"},\"radialaxis\":{\"gridcolor\":\"white\",\"linecolor\":\"white\",\"ticks\":\"\"}},\"ternary\":{\"bgcolor\":\"#E5ECF6\",\"aaxis\":{\"gridcolor\":\"white\",\"linecolor\":\"white\",\"ticks\":\"\"},\"baxis\":{\"gridcolor\":\"white\",\"linecolor\":\"white\",\"ticks\":\"\"},\"caxis\":{\"gridcolor\":\"white\",\"linecolor\":\"white\",\"ticks\":\"\"}},\"coloraxis\":{\"colorbar\":{\"outlinewidth\":0,\"ticks\":\"\"}},\"colorscale\":{\"sequential\":[[0.0,\"#0d0887\"],[0.1111111111111111,\"#46039f\"],[0.2222222222222222,\"#7201a8\"],[0.3333333333333333,\"#9c179e\"],[0.4444444444444444,\"#bd3786\"],[0.5555555555555556,\"#d8576b\"],[0.6666666666666666,\"#ed7953\"],[0.7777777777777778,\"#fb9f3a\"],[0.8888888888888888,\"#fdca26\"],[1.0,\"#f0f921\"]],\"sequentialminus\":[[0.0,\"#0d0887\"],[0.1111111111111111,\"#46039f\"],[0.2222222222222222,\"#7201a8\"],[0.3333333333333333,\"#9c179e\"],[0.4444444444444444,\"#bd3786\"],[0.5555555555555556,\"#d8576b\"],[0.6666666666666666,\"#ed7953\"],[0.7777777777777778,\"#fb9f3a\"],[0.8888888888888888,\"#fdca26\"],[1.0,\"#f0f921\"]],\"diverging\":[[0,\"#8e0152\"],[0.1,\"#c51b7d\"],[0.2,\"#de77ae\"],[0.3,\"#f1b6da\"],[0.4,\"#fde0ef\"],[0.5,\"#f7f7f7\"],[0.6,\"#e6f5d0\"],[0.7,\"#b8e186\"],[0.8,\"#7fbc41\"],[0.9,\"#4d9221\"],[1,\"#276419\"]]},\"xaxis\":{\"gridcolor\":\"white\",\"linecolor\":\"white\",\"ticks\":\"\",\"title\":{\"standoff\":15},\"zerolinecolor\":\"white\",\"automargin\":true,\"zerolinewidth\":2},\"yaxis\":{\"gridcolor\":\"white\",\"linecolor\":\"white\",\"ticks\":\"\",\"title\":{\"standoff\":15},\"zerolinecolor\":\"white\",\"automargin\":true,\"zerolinewidth\":2},\"scene\":{\"xaxis\":{\"backgroundcolor\":\"#E5ECF6\",\"gridcolor\":\"white\",\"linecolor\":\"white\",\"showbackground\":true,\"ticks\":\"\",\"zerolinecolor\":\"white\",\"gridwidth\":2},\"yaxis\":{\"backgroundcolor\":\"#E5ECF6\",\"gridcolor\":\"white\",\"linecolor\":\"white\",\"showbackground\":true,\"ticks\":\"\",\"zerolinecolor\":\"white\",\"gridwidth\":2},\"zaxis\":{\"backgroundcolor\":\"#E5ECF6\",\"gridcolor\":\"white\",\"linecolor\":\"white\",\"showbackground\":true,\"ticks\":\"\",\"zerolinecolor\":\"white\",\"gridwidth\":2}},\"shapedefaults\":{\"line\":{\"color\":\"#2a3f5f\"}},\"annotationdefaults\":{\"arrowcolor\":\"#2a3f5f\",\"arrowhead\":0,\"arrowwidth\":1},\"geo\":{\"bgcolor\":\"white\",\"landcolor\":\"#E5ECF6\",\"subunitcolor\":\"white\",\"showland\":true,\"showlakes\":true,\"lakecolor\":\"white\"},\"title\":{\"x\":0.05},\"mapbox\":{\"style\":\"light\"}}},\"legend\":{\"tracegroupgap\":0},\"title\":{\"text\":\"Unemployment Rate in India\"},\"height\":700,\"width\":700},                        {\"responsive\": true}                    ).then(function(){\n",
       "                            \n",
       "var gd = document.getElementById('059ddebf-2ef6-4c50-82b6-87bc7b3d4d1a');\n",
       "var x = new MutationObserver(function (mutations, observer) {{\n",
       "        var display = window.getComputedStyle(gd).display;\n",
       "        if (!display || display === 'none') {{\n",
       "            console.log([gd, 'removed!']);\n",
       "            Plotly.purge(gd);\n",
       "            observer.disconnect();\n",
       "        }}\n",
       "}});\n",
       "\n",
       "// Listen for the removal of the full notebook cells\n",
       "var notebookContainer = gd.closest('#notebook-container');\n",
       "if (notebookContainer) {{\n",
       "    x.observe(notebookContainer, {childList: true});\n",
       "}}\n",
       "\n",
       "// Listen for the clearing of the current output cell\n",
       "var outputEl = gd.closest('.output');\n",
       "if (outputEl) {{\n",
       "    x.observe(outputEl, {childList: true});\n",
       "}}\n",
       "\n",
       "                        })                };                });            </script>        </div>"
      ]
     },
     "metadata": {},
     "output_type": "display_data"
    }
   ],
   "source": [
    "#dashboard to analyze the unemployment rate of each Indian state by area.\n",
    "unemploment = df[[\"state\", \"area\", \"estimated unemployment rate\"]]\n",
    "figure = px.sunburst(unemploment, path=[\"area\", \"state\"], \n",
    "                     values=\"estimated unemployment rate\", \n",
    "                     width=700, height=700, color_continuous_scale=\"RdY1Gn\", \n",
    "                     title=\"Unemployment Rate in India\")\n",
    "figure.show()"
   ]
  },
  {
   "cell_type": "code",
   "execution_count": 24,
   "id": "05e06e0c",
   "metadata": {},
   "outputs": [],
   "source": [
    "#data representation before and after the lockdown\n",
    "after_lockdown = df[(df['month_int'] >= 4) & (df['month_int'] <=6)]\n",
    "before_lockdown = df[(df['month_int'] >= 1) & (df['month_int'] <=4)]"
   ]
  },
  {
   "cell_type": "code",
   "execution_count": 25,
   "id": "e00af1e5",
   "metadata": {},
   "outputs": [
    {
     "data": {
      "text/html": [
       "<div>\n",
       "<style scoped>\n",
       "    .dataframe tbody tr th:only-of-type {\n",
       "        vertical-align: middle;\n",
       "    }\n",
       "\n",
       "    .dataframe tbody tr th {\n",
       "        vertical-align: top;\n",
       "    }\n",
       "\n",
       "    .dataframe thead th {\n",
       "        text-align: right;\n",
       "    }\n",
       "</style>\n",
       "<table border=\"1\" class=\"dataframe\">\n",
       "  <thead>\n",
       "    <tr style=\"text-align: right;\">\n",
       "      <th></th>\n",
       "      <th>state</th>\n",
       "      <th>unemployment rate before lockdown</th>\n",
       "      <th>unemployment rate after lockdown</th>\n",
       "    </tr>\n",
       "  </thead>\n",
       "  <tbody>\n",
       "    <tr>\n",
       "      <th>0</th>\n",
       "      <td>Andhra Pradesh</td>\n",
       "      <td>10.756250</td>\n",
       "      <td>11.126000</td>\n",
       "    </tr>\n",
       "    <tr>\n",
       "      <th>1</th>\n",
       "      <td>Assam</td>\n",
       "      <td>6.750000</td>\n",
       "      <td>6.563333</td>\n",
       "    </tr>\n",
       "    <tr>\n",
       "      <th>2</th>\n",
       "      <td>Bihar</td>\n",
       "      <td>23.690000</td>\n",
       "      <td>27.459000</td>\n",
       "    </tr>\n",
       "    <tr>\n",
       "      <th>3</th>\n",
       "      <td>Chandigarh</td>\n",
       "      <td>19.366667</td>\n",
       "      <td>12.656667</td>\n",
       "    </tr>\n",
       "    <tr>\n",
       "      <th>4</th>\n",
       "      <td>Chhattisgarh</td>\n",
       "      <td>9.028750</td>\n",
       "      <td>12.720000</td>\n",
       "    </tr>\n",
       "  </tbody>\n",
       "</table>\n",
       "</div>"
      ],
      "text/plain": [
       "            state  unemployment rate before lockdown  \\\n",
       "0  Andhra Pradesh                          10.756250   \n",
       "1           Assam                           6.750000   \n",
       "2           Bihar                          23.690000   \n",
       "3      Chandigarh                          19.366667   \n",
       "4    Chhattisgarh                           9.028750   \n",
       "\n",
       "   unemployment rate after lockdown  \n",
       "0                         11.126000  \n",
       "1                          6.563333  \n",
       "2                         27.459000  \n",
       "3                         12.656667  \n",
       "4                         12.720000  "
      ]
     },
     "execution_count": 25,
     "metadata": {},
     "output_type": "execute_result"
    }
   ],
   "source": [
    "af_lockdown=after_lockdown.groupby('state')['estimated unemployment rate'].mean().reset_index()\n",
    "lockdown= before_lockdown.groupby('state')['estimated unemployment rate'].mean().reset_index()\n",
    "lockdown['unemployment rate before lockdown'] = af_lockdown['estimated unemployment rate']\n",
    "\n",
    "lockdown.columns=['state','unemployment rate before lockdown','unemployment rate after lockdown']\n",
    "lockdown.head()"
   ]
  },
  {
   "cell_type": "code",
   "execution_count": 26,
   "id": "7c178ad6",
   "metadata": {},
   "outputs": [],
   "source": [
    "#Unemployment rate change after lockdown\n",
    "lockdown['rate change in unemployment']=round(lockdown['unemployment rate before lockdown']-lockdown['unemployment rate before lockdown']\n",
    "                                             /lockdown['unemployment rate after lockdown'],2)"
   ]
  },
  {
   "cell_type": "code",
   "execution_count": 27,
   "id": "f0cdb6de",
   "metadata": {},
   "outputs": [
    {
     "data": {
      "application/vnd.plotly.v1+json": {
       "config": {
        "plotlyServerURL": "https://plot.ly"
       },
       "data": [
        {
         "alignmentgroup": "True",
         "hovertemplate": "state=%{x}<br>rate change in unemployment=%{marker.color}<extra></extra>",
         "legendgroup": "",
         "marker": {
          "color": [
           9.79,
           5.72,
           22.83,
           17.84,
           8.32,
           15.89,
           6.84,
           8.29,
           28.24,
           14.76,
           17.4,
           22.1,
           9.1,
           8.87,
           5.59,
           8.21,
           4.98,
           8.13,
           19.17,
           8.27,
           15.69,
           7.51,
           14.14,
           6.2,
           31.57,
           12.53,
           5.95,
           8.29
          ],
          "coloraxis": "coloraxis",
          "pattern": {
           "shape": ""
          }
         },
         "name": "",
         "offsetgroup": "",
         "orientation": "v",
         "showlegend": false,
         "textposition": "auto",
         "type": "bar",
         "x": [
          "Andhra Pradesh",
          "Assam",
          "Bihar",
          "Chandigarh",
          "Chhattisgarh",
          "Delhi",
          "Goa",
          "Gujarat",
          "Haryana",
          "Himachal Pradesh",
          "Jammu & Kashmir",
          "Jharkhand",
          "Karnataka",
          "Kerala",
          "Madhya Pradesh",
          "Maharashtra",
          "Meghalaya",
          "Odisha",
          "Puducherry",
          "Punjab",
          "Rajasthan",
          "Sikkim",
          "Tamil Nadu",
          "Telangana",
          "Tripura",
          "Uttar Pradesh",
          "Uttarakhand",
          "West Bengal"
         ],
         "xaxis": "x",
         "y": [
          9.79,
          5.72,
          22.83,
          17.84,
          8.32,
          15.89,
          6.84,
          8.29,
          28.24,
          14.76,
          17.4,
          22.1,
          9.1,
          8.87,
          5.59,
          8.21,
          4.98,
          8.13,
          19.17,
          8.27,
          15.69,
          7.51,
          14.14,
          6.2,
          31.57,
          12.53,
          5.95,
          8.29
         ],
         "yaxis": "y"
        }
       ],
       "layout": {
        "barmode": "relative",
        "coloraxis": {
         "colorbar": {
          "title": {
           "text": "rate change in unemployment"
          }
         },
         "colorscale": [
          [
           0,
           "rgb(20,44,66)"
          ],
          [
           1,
           "rgb(90,179,244)"
          ]
         ]
        },
        "legend": {
         "tracegroupgap": 0
        },
        "template": {
         "data": {
          "bar": [
           {
            "error_x": {
             "color": "rgb(51,51,51)"
            },
            "error_y": {
             "color": "rgb(51,51,51)"
            },
            "marker": {
             "line": {
              "color": "rgb(237,237,237)",
              "width": 0.5
             },
             "pattern": {
              "fillmode": "overlay",
              "size": 10,
              "solidity": 0.2
             }
            },
            "type": "bar"
           }
          ],
          "barpolar": [
           {
            "marker": {
             "line": {
              "color": "rgb(237,237,237)",
              "width": 0.5
             },
             "pattern": {
              "fillmode": "overlay",
              "size": 10,
              "solidity": 0.2
             }
            },
            "type": "barpolar"
           }
          ],
          "carpet": [
           {
            "aaxis": {
             "endlinecolor": "rgb(51,51,51)",
             "gridcolor": "white",
             "linecolor": "white",
             "minorgridcolor": "white",
             "startlinecolor": "rgb(51,51,51)"
            },
            "baxis": {
             "endlinecolor": "rgb(51,51,51)",
             "gridcolor": "white",
             "linecolor": "white",
             "minorgridcolor": "white",
             "startlinecolor": "rgb(51,51,51)"
            },
            "type": "carpet"
           }
          ],
          "choropleth": [
           {
            "colorbar": {
             "outlinewidth": 0,
             "tickcolor": "rgb(237,237,237)",
             "ticklen": 6,
             "ticks": "inside"
            },
            "type": "choropleth"
           }
          ],
          "contour": [
           {
            "colorbar": {
             "outlinewidth": 0,
             "tickcolor": "rgb(237,237,237)",
             "ticklen": 6,
             "ticks": "inside"
            },
            "colorscale": [
             [
              0,
              "rgb(20,44,66)"
             ],
             [
              1,
              "rgb(90,179,244)"
             ]
            ],
            "type": "contour"
           }
          ],
          "contourcarpet": [
           {
            "colorbar": {
             "outlinewidth": 0,
             "tickcolor": "rgb(237,237,237)",
             "ticklen": 6,
             "ticks": "inside"
            },
            "type": "contourcarpet"
           }
          ],
          "heatmap": [
           {
            "colorbar": {
             "outlinewidth": 0,
             "tickcolor": "rgb(237,237,237)",
             "ticklen": 6,
             "ticks": "inside"
            },
            "colorscale": [
             [
              0,
              "rgb(20,44,66)"
             ],
             [
              1,
              "rgb(90,179,244)"
             ]
            ],
            "type": "heatmap"
           }
          ],
          "heatmapgl": [
           {
            "colorbar": {
             "outlinewidth": 0,
             "tickcolor": "rgb(237,237,237)",
             "ticklen": 6,
             "ticks": "inside"
            },
            "colorscale": [
             [
              0,
              "rgb(20,44,66)"
             ],
             [
              1,
              "rgb(90,179,244)"
             ]
            ],
            "type": "heatmapgl"
           }
          ],
          "histogram": [
           {
            "marker": {
             "pattern": {
              "fillmode": "overlay",
              "size": 10,
              "solidity": 0.2
             }
            },
            "type": "histogram"
           }
          ],
          "histogram2d": [
           {
            "colorbar": {
             "outlinewidth": 0,
             "tickcolor": "rgb(237,237,237)",
             "ticklen": 6,
             "ticks": "inside"
            },
            "colorscale": [
             [
              0,
              "rgb(20,44,66)"
             ],
             [
              1,
              "rgb(90,179,244)"
             ]
            ],
            "type": "histogram2d"
           }
          ],
          "histogram2dcontour": [
           {
            "colorbar": {
             "outlinewidth": 0,
             "tickcolor": "rgb(237,237,237)",
             "ticklen": 6,
             "ticks": "inside"
            },
            "colorscale": [
             [
              0,
              "rgb(20,44,66)"
             ],
             [
              1,
              "rgb(90,179,244)"
             ]
            ],
            "type": "histogram2dcontour"
           }
          ],
          "mesh3d": [
           {
            "colorbar": {
             "outlinewidth": 0,
             "tickcolor": "rgb(237,237,237)",
             "ticklen": 6,
             "ticks": "inside"
            },
            "type": "mesh3d"
           }
          ],
          "parcoords": [
           {
            "line": {
             "colorbar": {
              "outlinewidth": 0,
              "tickcolor": "rgb(237,237,237)",
              "ticklen": 6,
              "ticks": "inside"
             }
            },
            "type": "parcoords"
           }
          ],
          "pie": [
           {
            "automargin": true,
            "type": "pie"
           }
          ],
          "scatter": [
           {
            "fillpattern": {
             "fillmode": "overlay",
             "size": 10,
             "solidity": 0.2
            },
            "type": "scatter"
           }
          ],
          "scatter3d": [
           {
            "line": {
             "colorbar": {
              "outlinewidth": 0,
              "tickcolor": "rgb(237,237,237)",
              "ticklen": 6,
              "ticks": "inside"
             }
            },
            "marker": {
             "colorbar": {
              "outlinewidth": 0,
              "tickcolor": "rgb(237,237,237)",
              "ticklen": 6,
              "ticks": "inside"
             }
            },
            "type": "scatter3d"
           }
          ],
          "scattercarpet": [
           {
            "marker": {
             "colorbar": {
              "outlinewidth": 0,
              "tickcolor": "rgb(237,237,237)",
              "ticklen": 6,
              "ticks": "inside"
             }
            },
            "type": "scattercarpet"
           }
          ],
          "scattergeo": [
           {
            "marker": {
             "colorbar": {
              "outlinewidth": 0,
              "tickcolor": "rgb(237,237,237)",
              "ticklen": 6,
              "ticks": "inside"
             }
            },
            "type": "scattergeo"
           }
          ],
          "scattergl": [
           {
            "marker": {
             "colorbar": {
              "outlinewidth": 0,
              "tickcolor": "rgb(237,237,237)",
              "ticklen": 6,
              "ticks": "inside"
             }
            },
            "type": "scattergl"
           }
          ],
          "scattermapbox": [
           {
            "marker": {
             "colorbar": {
              "outlinewidth": 0,
              "tickcolor": "rgb(237,237,237)",
              "ticklen": 6,
              "ticks": "inside"
             }
            },
            "type": "scattermapbox"
           }
          ],
          "scatterpolar": [
           {
            "marker": {
             "colorbar": {
              "outlinewidth": 0,
              "tickcolor": "rgb(237,237,237)",
              "ticklen": 6,
              "ticks": "inside"
             }
            },
            "type": "scatterpolar"
           }
          ],
          "scatterpolargl": [
           {
            "marker": {
             "colorbar": {
              "outlinewidth": 0,
              "tickcolor": "rgb(237,237,237)",
              "ticklen": 6,
              "ticks": "inside"
             }
            },
            "type": "scatterpolargl"
           }
          ],
          "scatterternary": [
           {
            "marker": {
             "colorbar": {
              "outlinewidth": 0,
              "tickcolor": "rgb(237,237,237)",
              "ticklen": 6,
              "ticks": "inside"
             }
            },
            "type": "scatterternary"
           }
          ],
          "surface": [
           {
            "colorbar": {
             "outlinewidth": 0,
             "tickcolor": "rgb(237,237,237)",
             "ticklen": 6,
             "ticks": "inside"
            },
            "colorscale": [
             [
              0,
              "rgb(20,44,66)"
             ],
             [
              1,
              "rgb(90,179,244)"
             ]
            ],
            "type": "surface"
           }
          ],
          "table": [
           {
            "cells": {
             "fill": {
              "color": "rgb(237,237,237)"
             },
             "line": {
              "color": "white"
             }
            },
            "header": {
             "fill": {
              "color": "rgb(217,217,217)"
             },
             "line": {
              "color": "white"
             }
            },
            "type": "table"
           }
          ]
         },
         "layout": {
          "annotationdefaults": {
           "arrowhead": 0,
           "arrowwidth": 1
          },
          "autotypenumbers": "strict",
          "coloraxis": {
           "colorbar": {
            "outlinewidth": 0,
            "tickcolor": "rgb(237,237,237)",
            "ticklen": 6,
            "ticks": "inside"
           }
          },
          "colorscale": {
           "sequential": [
            [
             0,
             "rgb(20,44,66)"
            ],
            [
             1,
             "rgb(90,179,244)"
            ]
           ],
           "sequentialminus": [
            [
             0,
             "rgb(20,44,66)"
            ],
            [
             1,
             "rgb(90,179,244)"
            ]
           ]
          },
          "colorway": [
           "#F8766D",
           "#A3A500",
           "#00BF7D",
           "#00B0F6",
           "#E76BF3"
          ],
          "font": {
           "color": "rgb(51,51,51)"
          },
          "geo": {
           "bgcolor": "white",
           "lakecolor": "white",
           "landcolor": "rgb(237,237,237)",
           "showlakes": true,
           "showland": true,
           "subunitcolor": "white"
          },
          "hoverlabel": {
           "align": "left"
          },
          "hovermode": "closest",
          "paper_bgcolor": "white",
          "plot_bgcolor": "rgb(237,237,237)",
          "polar": {
           "angularaxis": {
            "gridcolor": "white",
            "linecolor": "white",
            "showgrid": true,
            "tickcolor": "rgb(51,51,51)",
            "ticks": "outside"
           },
           "bgcolor": "rgb(237,237,237)",
           "radialaxis": {
            "gridcolor": "white",
            "linecolor": "white",
            "showgrid": true,
            "tickcolor": "rgb(51,51,51)",
            "ticks": "outside"
           }
          },
          "scene": {
           "xaxis": {
            "backgroundcolor": "rgb(237,237,237)",
            "gridcolor": "white",
            "gridwidth": 2,
            "linecolor": "white",
            "showbackground": true,
            "showgrid": true,
            "tickcolor": "rgb(51,51,51)",
            "ticks": "outside",
            "zerolinecolor": "white"
           },
           "yaxis": {
            "backgroundcolor": "rgb(237,237,237)",
            "gridcolor": "white",
            "gridwidth": 2,
            "linecolor": "white",
            "showbackground": true,
            "showgrid": true,
            "tickcolor": "rgb(51,51,51)",
            "ticks": "outside",
            "zerolinecolor": "white"
           },
           "zaxis": {
            "backgroundcolor": "rgb(237,237,237)",
            "gridcolor": "white",
            "gridwidth": 2,
            "linecolor": "white",
            "showbackground": true,
            "showgrid": true,
            "tickcolor": "rgb(51,51,51)",
            "ticks": "outside",
            "zerolinecolor": "white"
           }
          },
          "shapedefaults": {
           "fillcolor": "black",
           "line": {
            "width": 0
           },
           "opacity": 0.3
          },
          "ternary": {
           "aaxis": {
            "gridcolor": "white",
            "linecolor": "white",
            "showgrid": true,
            "tickcolor": "rgb(51,51,51)",
            "ticks": "outside"
           },
           "baxis": {
            "gridcolor": "white",
            "linecolor": "white",
            "showgrid": true,
            "tickcolor": "rgb(51,51,51)",
            "ticks": "outside"
           },
           "bgcolor": "rgb(237,237,237)",
           "caxis": {
            "gridcolor": "white",
            "linecolor": "white",
            "showgrid": true,
            "tickcolor": "rgb(51,51,51)",
            "ticks": "outside"
           }
          },
          "xaxis": {
           "automargin": true,
           "gridcolor": "white",
           "linecolor": "white",
           "showgrid": true,
           "tickcolor": "rgb(51,51,51)",
           "ticks": "outside",
           "title": {
            "standoff": 15
           },
           "zerolinecolor": "white"
          },
          "yaxis": {
           "automargin": true,
           "gridcolor": "white",
           "linecolor": "white",
           "showgrid": true,
           "tickcolor": "rgb(51,51,51)",
           "ticks": "outside",
           "title": {
            "standoff": 15
           },
           "zerolinecolor": "white"
          }
         }
        },
        "title": {
         "text": "Percentage change in unemployment rate in each state after lockdown"
        },
        "xaxis": {
         "anchor": "y",
         "categoryorder": "total ascending",
         "domain": [
          0,
          1
         ],
         "title": {
          "text": "state"
         }
        },
        "yaxis": {
         "anchor": "x",
         "domain": [
          0,
          1
         ],
         "title": {
          "text": "rate change in unemployment"
         }
        }
       }
      },
      "text/html": [
       "<div>                            <div id=\"d2cb4529-e02e-420f-afc9-52662770140a\" class=\"plotly-graph-div\" style=\"height:525px; width:100%;\"></div>            <script type=\"text/javascript\">                require([\"plotly\"], function(Plotly) {                    window.PLOTLYENV=window.PLOTLYENV || {};                                    if (document.getElementById(\"d2cb4529-e02e-420f-afc9-52662770140a\")) {                    Plotly.newPlot(                        \"d2cb4529-e02e-420f-afc9-52662770140a\",                        [{\"alignmentgroup\":\"True\",\"hovertemplate\":\"state=%{x}\\u003cbr\\u003erate change in unemployment=%{marker.color}\\u003cextra\\u003e\\u003c\\u002fextra\\u003e\",\"legendgroup\":\"\",\"marker\":{\"color\":[9.79,5.72,22.83,17.84,8.32,15.89,6.84,8.29,28.24,14.76,17.4,22.1,9.1,8.87,5.59,8.21,4.98,8.13,19.17,8.27,15.69,7.51,14.14,6.2,31.57,12.53,5.95,8.29],\"coloraxis\":\"coloraxis\",\"pattern\":{\"shape\":\"\"}},\"name\":\"\",\"offsetgroup\":\"\",\"orientation\":\"v\",\"showlegend\":false,\"textposition\":\"auto\",\"x\":[\"Andhra Pradesh\",\"Assam\",\"Bihar\",\"Chandigarh\",\"Chhattisgarh\",\"Delhi\",\"Goa\",\"Gujarat\",\"Haryana\",\"Himachal Pradesh\",\"Jammu & Kashmir\",\"Jharkhand\",\"Karnataka\",\"Kerala\",\"Madhya Pradesh\",\"Maharashtra\",\"Meghalaya\",\"Odisha\",\"Puducherry\",\"Punjab\",\"Rajasthan\",\"Sikkim\",\"Tamil Nadu\",\"Telangana\",\"Tripura\",\"Uttar Pradesh\",\"Uttarakhand\",\"West Bengal\"],\"xaxis\":\"x\",\"y\":[9.79,5.72,22.83,17.84,8.32,15.89,6.84,8.29,28.24,14.76,17.4,22.1,9.1,8.87,5.59,8.21,4.98,8.13,19.17,8.27,15.69,7.51,14.14,6.2,31.57,12.53,5.95,8.29],\"yaxis\":\"y\",\"type\":\"bar\"}],                        {\"template\":{\"data\":{\"barpolar\":[{\"marker\":{\"line\":{\"color\":\"rgb(237,237,237)\",\"width\":0.5},\"pattern\":{\"fillmode\":\"overlay\",\"size\":10,\"solidity\":0.2}},\"type\":\"barpolar\"}],\"bar\":[{\"error_x\":{\"color\":\"rgb(51,51,51)\"},\"error_y\":{\"color\":\"rgb(51,51,51)\"},\"marker\":{\"line\":{\"color\":\"rgb(237,237,237)\",\"width\":0.5},\"pattern\":{\"fillmode\":\"overlay\",\"size\":10,\"solidity\":0.2}},\"type\":\"bar\"}],\"carpet\":[{\"aaxis\":{\"endlinecolor\":\"rgb(51,51,51)\",\"gridcolor\":\"white\",\"linecolor\":\"white\",\"minorgridcolor\":\"white\",\"startlinecolor\":\"rgb(51,51,51)\"},\"baxis\":{\"endlinecolor\":\"rgb(51,51,51)\",\"gridcolor\":\"white\",\"linecolor\":\"white\",\"minorgridcolor\":\"white\",\"startlinecolor\":\"rgb(51,51,51)\"},\"type\":\"carpet\"}],\"choropleth\":[{\"colorbar\":{\"outlinewidth\":0,\"tickcolor\":\"rgb(237,237,237)\",\"ticklen\":6,\"ticks\":\"inside\"},\"type\":\"choropleth\"}],\"contourcarpet\":[{\"colorbar\":{\"outlinewidth\":0,\"tickcolor\":\"rgb(237,237,237)\",\"ticklen\":6,\"ticks\":\"inside\"},\"type\":\"contourcarpet\"}],\"contour\":[{\"colorbar\":{\"outlinewidth\":0,\"tickcolor\":\"rgb(237,237,237)\",\"ticklen\":6,\"ticks\":\"inside\"},\"colorscale\":[[0,\"rgb(20,44,66)\"],[1,\"rgb(90,179,244)\"]],\"type\":\"contour\"}],\"heatmapgl\":[{\"colorbar\":{\"outlinewidth\":0,\"tickcolor\":\"rgb(237,237,237)\",\"ticklen\":6,\"ticks\":\"inside\"},\"colorscale\":[[0,\"rgb(20,44,66)\"],[1,\"rgb(90,179,244)\"]],\"type\":\"heatmapgl\"}],\"heatmap\":[{\"colorbar\":{\"outlinewidth\":0,\"tickcolor\":\"rgb(237,237,237)\",\"ticklen\":6,\"ticks\":\"inside\"},\"colorscale\":[[0,\"rgb(20,44,66)\"],[1,\"rgb(90,179,244)\"]],\"type\":\"heatmap\"}],\"histogram2dcontour\":[{\"colorbar\":{\"outlinewidth\":0,\"tickcolor\":\"rgb(237,237,237)\",\"ticklen\":6,\"ticks\":\"inside\"},\"colorscale\":[[0,\"rgb(20,44,66)\"],[1,\"rgb(90,179,244)\"]],\"type\":\"histogram2dcontour\"}],\"histogram2d\":[{\"colorbar\":{\"outlinewidth\":0,\"tickcolor\":\"rgb(237,237,237)\",\"ticklen\":6,\"ticks\":\"inside\"},\"colorscale\":[[0,\"rgb(20,44,66)\"],[1,\"rgb(90,179,244)\"]],\"type\":\"histogram2d\"}],\"histogram\":[{\"marker\":{\"pattern\":{\"fillmode\":\"overlay\",\"size\":10,\"solidity\":0.2}},\"type\":\"histogram\"}],\"mesh3d\":[{\"colorbar\":{\"outlinewidth\":0,\"tickcolor\":\"rgb(237,237,237)\",\"ticklen\":6,\"ticks\":\"inside\"},\"type\":\"mesh3d\"}],\"parcoords\":[{\"line\":{\"colorbar\":{\"outlinewidth\":0,\"tickcolor\":\"rgb(237,237,237)\",\"ticklen\":6,\"ticks\":\"inside\"}},\"type\":\"parcoords\"}],\"pie\":[{\"automargin\":true,\"type\":\"pie\"}],\"scatter3d\":[{\"line\":{\"colorbar\":{\"outlinewidth\":0,\"tickcolor\":\"rgb(237,237,237)\",\"ticklen\":6,\"ticks\":\"inside\"}},\"marker\":{\"colorbar\":{\"outlinewidth\":0,\"tickcolor\":\"rgb(237,237,237)\",\"ticklen\":6,\"ticks\":\"inside\"}},\"type\":\"scatter3d\"}],\"scattercarpet\":[{\"marker\":{\"colorbar\":{\"outlinewidth\":0,\"tickcolor\":\"rgb(237,237,237)\",\"ticklen\":6,\"ticks\":\"inside\"}},\"type\":\"scattercarpet\"}],\"scattergeo\":[{\"marker\":{\"colorbar\":{\"outlinewidth\":0,\"tickcolor\":\"rgb(237,237,237)\",\"ticklen\":6,\"ticks\":\"inside\"}},\"type\":\"scattergeo\"}],\"scattergl\":[{\"marker\":{\"colorbar\":{\"outlinewidth\":0,\"tickcolor\":\"rgb(237,237,237)\",\"ticklen\":6,\"ticks\":\"inside\"}},\"type\":\"scattergl\"}],\"scattermapbox\":[{\"marker\":{\"colorbar\":{\"outlinewidth\":0,\"tickcolor\":\"rgb(237,237,237)\",\"ticklen\":6,\"ticks\":\"inside\"}},\"type\":\"scattermapbox\"}],\"scatterpolargl\":[{\"marker\":{\"colorbar\":{\"outlinewidth\":0,\"tickcolor\":\"rgb(237,237,237)\",\"ticklen\":6,\"ticks\":\"inside\"}},\"type\":\"scatterpolargl\"}],\"scatterpolar\":[{\"marker\":{\"colorbar\":{\"outlinewidth\":0,\"tickcolor\":\"rgb(237,237,237)\",\"ticklen\":6,\"ticks\":\"inside\"}},\"type\":\"scatterpolar\"}],\"scatter\":[{\"fillpattern\":{\"fillmode\":\"overlay\",\"size\":10,\"solidity\":0.2},\"type\":\"scatter\"}],\"scatterternary\":[{\"marker\":{\"colorbar\":{\"outlinewidth\":0,\"tickcolor\":\"rgb(237,237,237)\",\"ticklen\":6,\"ticks\":\"inside\"}},\"type\":\"scatterternary\"}],\"surface\":[{\"colorbar\":{\"outlinewidth\":0,\"tickcolor\":\"rgb(237,237,237)\",\"ticklen\":6,\"ticks\":\"inside\"},\"colorscale\":[[0,\"rgb(20,44,66)\"],[1,\"rgb(90,179,244)\"]],\"type\":\"surface\"}],\"table\":[{\"cells\":{\"fill\":{\"color\":\"rgb(237,237,237)\"},\"line\":{\"color\":\"white\"}},\"header\":{\"fill\":{\"color\":\"rgb(217,217,217)\"},\"line\":{\"color\":\"white\"}},\"type\":\"table\"}]},\"layout\":{\"annotationdefaults\":{\"arrowhead\":0,\"arrowwidth\":1},\"autotypenumbers\":\"strict\",\"coloraxis\":{\"colorbar\":{\"outlinewidth\":0,\"tickcolor\":\"rgb(237,237,237)\",\"ticklen\":6,\"ticks\":\"inside\"}},\"colorscale\":{\"sequential\":[[0,\"rgb(20,44,66)\"],[1,\"rgb(90,179,244)\"]],\"sequentialminus\":[[0,\"rgb(20,44,66)\"],[1,\"rgb(90,179,244)\"]]},\"colorway\":[\"#F8766D\",\"#A3A500\",\"#00BF7D\",\"#00B0F6\",\"#E76BF3\"],\"font\":{\"color\":\"rgb(51,51,51)\"},\"geo\":{\"bgcolor\":\"white\",\"lakecolor\":\"white\",\"landcolor\":\"rgb(237,237,237)\",\"showlakes\":true,\"showland\":true,\"subunitcolor\":\"white\"},\"hoverlabel\":{\"align\":\"left\"},\"hovermode\":\"closest\",\"paper_bgcolor\":\"white\",\"plot_bgcolor\":\"rgb(237,237,237)\",\"polar\":{\"angularaxis\":{\"gridcolor\":\"white\",\"linecolor\":\"white\",\"showgrid\":true,\"tickcolor\":\"rgb(51,51,51)\",\"ticks\":\"outside\"},\"bgcolor\":\"rgb(237,237,237)\",\"radialaxis\":{\"gridcolor\":\"white\",\"linecolor\":\"white\",\"showgrid\":true,\"tickcolor\":\"rgb(51,51,51)\",\"ticks\":\"outside\"}},\"scene\":{\"xaxis\":{\"backgroundcolor\":\"rgb(237,237,237)\",\"gridcolor\":\"white\",\"gridwidth\":2,\"linecolor\":\"white\",\"showbackground\":true,\"showgrid\":true,\"tickcolor\":\"rgb(51,51,51)\",\"ticks\":\"outside\",\"zerolinecolor\":\"white\"},\"yaxis\":{\"backgroundcolor\":\"rgb(237,237,237)\",\"gridcolor\":\"white\",\"gridwidth\":2,\"linecolor\":\"white\",\"showbackground\":true,\"showgrid\":true,\"tickcolor\":\"rgb(51,51,51)\",\"ticks\":\"outside\",\"zerolinecolor\":\"white\"},\"zaxis\":{\"backgroundcolor\":\"rgb(237,237,237)\",\"gridcolor\":\"white\",\"gridwidth\":2,\"linecolor\":\"white\",\"showbackground\":true,\"showgrid\":true,\"tickcolor\":\"rgb(51,51,51)\",\"ticks\":\"outside\",\"zerolinecolor\":\"white\"}},\"shapedefaults\":{\"fillcolor\":\"black\",\"line\":{\"width\":0},\"opacity\":0.3},\"ternary\":{\"aaxis\":{\"gridcolor\":\"white\",\"linecolor\":\"white\",\"showgrid\":true,\"tickcolor\":\"rgb(51,51,51)\",\"ticks\":\"outside\"},\"baxis\":{\"gridcolor\":\"white\",\"linecolor\":\"white\",\"showgrid\":true,\"tickcolor\":\"rgb(51,51,51)\",\"ticks\":\"outside\"},\"bgcolor\":\"rgb(237,237,237)\",\"caxis\":{\"gridcolor\":\"white\",\"linecolor\":\"white\",\"showgrid\":true,\"tickcolor\":\"rgb(51,51,51)\",\"ticks\":\"outside\"}},\"xaxis\":{\"automargin\":true,\"gridcolor\":\"white\",\"linecolor\":\"white\",\"showgrid\":true,\"tickcolor\":\"rgb(51,51,51)\",\"ticks\":\"outside\",\"title\":{\"standoff\":15},\"zerolinecolor\":\"white\"},\"yaxis\":{\"automargin\":true,\"gridcolor\":\"white\",\"linecolor\":\"white\",\"showgrid\":true,\"tickcolor\":\"rgb(51,51,51)\",\"ticks\":\"outside\",\"title\":{\"standoff\":15},\"zerolinecolor\":\"white\"}}},\"xaxis\":{\"anchor\":\"y\",\"domain\":[0.0,1.0],\"title\":{\"text\":\"state\"},\"categoryorder\":\"total ascending\"},\"yaxis\":{\"anchor\":\"x\",\"domain\":[0.0,1.0],\"title\":{\"text\":\"rate change in unemployment\"}},\"coloraxis\":{\"colorbar\":{\"title\":{\"text\":\"rate change in unemployment\"}},\"colorscale\":[[0.0,\"rgb(20,44,66)\"],[1.0,\"rgb(90,179,244)\"]]},\"legend\":{\"tracegroupgap\":0},\"title\":{\"text\":\"Percentage change in unemployment rate in each state after lockdown\"},\"barmode\":\"relative\"},                        {\"responsive\": true}                    ).then(function(){\n",
       "                            \n",
       "var gd = document.getElementById('d2cb4529-e02e-420f-afc9-52662770140a');\n",
       "var x = new MutationObserver(function (mutations, observer) {{\n",
       "        var display = window.getComputedStyle(gd).display;\n",
       "        if (!display || display === 'none') {{\n",
       "            console.log([gd, 'removed!']);\n",
       "            Plotly.purge(gd);\n",
       "            observer.disconnect();\n",
       "        }}\n",
       "}});\n",
       "\n",
       "// Listen for the removal of the full notebook cells\n",
       "var notebookContainer = gd.closest('#notebook-container');\n",
       "if (notebookContainer) {{\n",
       "    x.observe(notebookContainer, {childList: true});\n",
       "}}\n",
       "\n",
       "// Listen for the clearing of the current output cell\n",
       "var outputEl = gd.closest('.output');\n",
       "if (outputEl) {{\n",
       "    x.observe(outputEl, {childList: true});\n",
       "}}\n",
       "\n",
       "                        })                };                });            </script>        </div>"
      ]
     },
     "metadata": {},
     "output_type": "display_data"
    }
   ],
   "source": [
    "import plotly.express as px\n",
    "\n",
    "fig = px.bar(lockdown, x='state', y='rate change in unemployment', color='rate change in unemployment',\n",
    "             title='Percentage change in unemployment rate in each state after lockdown', template='ggplot2')\n",
    "fig.update_layout(xaxis={'categoryorder':'total ascending'})\n",
    "fig.show()"
   ]
  },
  {
   "cell_type": "markdown",
   "id": "3cc1f1b9",
   "metadata": {},
   "source": [
    "**Most impacted States/Union Territories**\n"
   ]
  },
  {
   "cell_type": "markdown",
   "id": "98b61e7e",
   "metadata": {},
   "source": [
    "**1. Puducherry**"
   ]
  },
  {
   "cell_type": "markdown",
   "id": "8f59f65e",
   "metadata": {},
   "source": [
    "**2. Jharkhand**"
   ]
  },
  {
   "cell_type": "markdown",
   "id": "13d8f306",
   "metadata": {},
   "source": [
    "**3. Bihar**"
   ]
  },
  {
   "cell_type": "markdown",
   "id": "8c249bba",
   "metadata": {},
   "source": [
    "**4. Haryana**"
   ]
  },
  {
   "cell_type": "markdown",
   "id": "8070463d",
   "metadata": {},
   "source": [
    "**5. Tripura**"
   ]
  }
 ],
 "metadata": {
  "kernelspec": {
   "display_name": "Python 3 (ipykernel)",
   "language": "python",
   "name": "python3"
  },
  "language_info": {
   "codemirror_mode": {
    "name": "ipython",
    "version": 3
   },
   "file_extension": ".py",
   "mimetype": "text/x-python",
   "name": "python",
   "nbconvert_exporter": "python",
   "pygments_lexer": "ipython3",
   "version": "3.10.5"
  }
 },
 "nbformat": 4,
 "nbformat_minor": 5
}
